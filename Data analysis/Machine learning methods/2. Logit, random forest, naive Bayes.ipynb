{
 "cells": [
  {
   "cell_type": "code",
   "execution_count": 1,
   "metadata": {},
   "outputs": [],
   "source": [
    "import pandas as pd\n",
    "import numpy as np\n",
    "import re\n",
    "import matplotlib.pyplot as plt\n",
    "import squarify\n",
    "import seaborn as sns\n",
    "\n",
    "\n",
    "from collections import Counter\n",
    "from nltk.corpus import stopwords\n",
    "from sklearn import metrics\n",
    "from sklearn.feature_extraction.text import CountVectorizer\n",
    "from sklearn.ensemble import RandomForestClassifier\n",
    "from sklearn.model_selection import train_test_split\n",
    "from sklearn.linear_model import LogisticRegression\n",
    "from sklearn.model_selection import cross_val_score\n",
    "from sklearn.model_selection import GridSearchCV\n",
    "from sklearn.naive_bayes import MultinomialNB"
   ]
  },
  {
   "cell_type": "code",
   "execution_count": 2,
   "metadata": {},
   "outputs": [],
   "source": [
    "import plotly\n",
    "import plotly.plotly as py\n",
    "import plotly.graph_objs as go\n",
    "\n",
    "plotly.tools.set_credentials_file(username='alena99', api_key='Vuvfvee2phTjLJm2tEEZ')"
   ]
  },
  {
   "cell_type": "markdown",
   "metadata": {},
   "source": [
    "# Описание данных"
   ]
  },
  {
   "cell_type": "markdown",
   "metadata": {},
   "source": [
    "### База данных по оцениванию студентов (+ характеристики обучающихся)"
   ]
  },
  {
   "cell_type": "markdown",
   "metadata": {},
   "source": [
    "### А - описание набора данных"
   ]
  },
  {
   "cell_type": "markdown",
   "metadata": {},
   "source": [
    "В качестве зависимой переменной была выбрана оценка по математике (`math score`, срез - индивид). `Исследовательский вопрос`: каким образом характеристики индивида влияют на его оценку по математике?"
   ]
  },
  {
   "cell_type": "code",
   "execution_count": 3,
   "metadata": {},
   "outputs": [],
   "source": [
    "df_student = pd.read_csv(\"StudentsPerformance.csv\")"
   ]
  },
  {
   "cell_type": "markdown",
   "metadata": {},
   "source": [
    "В базе данных содержится 8 переменных по 1000 наблюдений (строк) для каждой. База данных была взята с сайта `kaggle` пользователем `SPScientist` (India)."
   ]
  },
  {
   "cell_type": "code",
   "execution_count": 4,
   "metadata": {},
   "outputs": [
    {
     "data": {
      "text/html": [
       "<div>\n",
       "<style scoped>\n",
       "    .dataframe tbody tr th:only-of-type {\n",
       "        vertical-align: middle;\n",
       "    }\n",
       "\n",
       "    .dataframe tbody tr th {\n",
       "        vertical-align: top;\n",
       "    }\n",
       "\n",
       "    .dataframe thead th {\n",
       "        text-align: right;\n",
       "    }\n",
       "</style>\n",
       "<table border=\"1\" class=\"dataframe\">\n",
       "  <thead>\n",
       "    <tr style=\"text-align: right;\">\n",
       "      <th></th>\n",
       "      <th>gender</th>\n",
       "      <th>race/ethnicity</th>\n",
       "      <th>parental level of education</th>\n",
       "      <th>lunch</th>\n",
       "      <th>test preparation course</th>\n",
       "      <th>math score</th>\n",
       "      <th>reading score</th>\n",
       "      <th>writing score</th>\n",
       "    </tr>\n",
       "  </thead>\n",
       "  <tbody>\n",
       "    <tr>\n",
       "      <th>0</th>\n",
       "      <td>female</td>\n",
       "      <td>group B</td>\n",
       "      <td>bachelor's degree</td>\n",
       "      <td>standard</td>\n",
       "      <td>none</td>\n",
       "      <td>72</td>\n",
       "      <td>72</td>\n",
       "      <td>74</td>\n",
       "    </tr>\n",
       "    <tr>\n",
       "      <th>1</th>\n",
       "      <td>female</td>\n",
       "      <td>group C</td>\n",
       "      <td>some college</td>\n",
       "      <td>standard</td>\n",
       "      <td>completed</td>\n",
       "      <td>69</td>\n",
       "      <td>90</td>\n",
       "      <td>88</td>\n",
       "    </tr>\n",
       "    <tr>\n",
       "      <th>2</th>\n",
       "      <td>female</td>\n",
       "      <td>group B</td>\n",
       "      <td>master's degree</td>\n",
       "      <td>standard</td>\n",
       "      <td>none</td>\n",
       "      <td>90</td>\n",
       "      <td>95</td>\n",
       "      <td>93</td>\n",
       "    </tr>\n",
       "  </tbody>\n",
       "</table>\n",
       "</div>"
      ],
      "text/plain": [
       "   gender race/ethnicity parental level of education     lunch  \\\n",
       "0  female        group B           bachelor's degree  standard   \n",
       "1  female        group C                some college  standard   \n",
       "2  female        group B             master's degree  standard   \n",
       "\n",
       "  test preparation course  math score  reading score  writing score  \n",
       "0                    none          72             72             74  \n",
       "1               completed          69             90             88  \n",
       "2                    none          90             95             93  "
      ]
     },
     "execution_count": 4,
     "metadata": {},
     "output_type": "execute_result"
    }
   ],
   "source": [
    "df_student.head(3)"
   ]
  },
  {
   "cell_type": "code",
   "execution_count": 5,
   "metadata": {},
   "outputs": [
    {
     "data": {
      "text/plain": [
       "gender                         0\n",
       "race/ethnicity                 0\n",
       "parental level of education    0\n",
       "lunch                          0\n",
       "test preparation course        0\n",
       "math score                     0\n",
       "reading score                  0\n",
       "writing score                  0\n",
       "dtype: int64"
      ]
     },
     "execution_count": 5,
     "metadata": {},
     "output_type": "execute_result"
    }
   ],
   "source": [
    "df_student.isna().sum() # нет пропущенных значений"
   ]
  },
  {
   "cell_type": "markdown",
   "metadata": {},
   "source": [
    "### B - Описание отношений между исследуемыми переменными"
   ]
  },
  {
   "cell_type": "markdown",
   "metadata": {},
   "source": [
    "Мы предполагаем исследование влияния характеристик индивидов на их успеваемость по математике. Предполагаем после предварительного анализа сократить список характеристик до влиятельных факторов на отклик. В основном предполагаем положительную взаимосвязь между зависимой и независимыми переменными (что будет рассмотрено и доказано ниже: посредством корреляционной матрицы и графически)."
   ]
  },
  {
   "cell_type": "markdown",
   "metadata": {},
   "source": [
    "### C - Описание перменных"
   ]
  },
  {
   "cell_type": "markdown",
   "metadata": {},
   "source": [
    "##### Независимые переменные:\n",
    "\n",
    "* `Gender`: пол респондента - female/male - категориальная(бинарная);\n",
    "* `Race/ethnicity`: этническая группа респондента - group A/ group B/ group C/ group D/ group E - категориальная (номинальная);\n",
    "* `Parental level of education`: уровень образования - Associates degree/ bachelor's degree/ high school/ master's degree/ some college/ some high school - категориальная (порядковая);\n",
    "* `Lunch`: free/reduced/  standard - категориальная (бинарная);\n",
    "* `Test preparation course`: уровень подготовки к тесту - completed/ none - категориальная (бинарная).\n",
    "\n",
    "##### Зависимая переменная:\n",
    "* `math score`: оценка за математику - количественная (дискретная).\n",
    "\n",
    "##### Дополнительные переменные:\n",
    "* `reading score`: оценка за чтение - количественная (дискретная);\n",
    "* `writing score`: оценка за письмо - количественная (дискретная)."
   ]
  },
  {
   "cell_type": "code",
   "execution_count": 6,
   "metadata": {},
   "outputs": [
    {
     "name": "stdout",
     "output_type": "stream",
     "text": [
      "<class 'pandas.core.frame.DataFrame'>\n",
      "RangeIndex: 1000 entries, 0 to 999\n",
      "Data columns (total 8 columns):\n",
      "gender                         1000 non-null object\n",
      "race/ethnicity                 1000 non-null object\n",
      "parental level of education    1000 non-null object\n",
      "lunch                          1000 non-null object\n",
      "test preparation course        1000 non-null object\n",
      "math score                     1000 non-null int64\n",
      "reading score                  1000 non-null int64\n",
      "writing score                  1000 non-null int64\n",
      "dtypes: int64(3), object(5)\n",
      "memory usage: 62.6+ KB\n"
     ]
    }
   ],
   "source": [
    "df_student.info()"
   ]
  },
  {
   "cell_type": "code",
   "execution_count": 7,
   "metadata": {},
   "outputs": [
    {
     "data": {
      "text/html": [
       "<div>\n",
       "<style scoped>\n",
       "    .dataframe tbody tr th:only-of-type {\n",
       "        vertical-align: middle;\n",
       "    }\n",
       "\n",
       "    .dataframe tbody tr th {\n",
       "        vertical-align: top;\n",
       "    }\n",
       "\n",
       "    .dataframe thead th {\n",
       "        text-align: right;\n",
       "    }\n",
       "</style>\n",
       "<table border=\"1\" class=\"dataframe\">\n",
       "  <thead>\n",
       "    <tr style=\"text-align: right;\">\n",
       "      <th></th>\n",
       "      <th>math score</th>\n",
       "      <th>reading score</th>\n",
       "      <th>writing score</th>\n",
       "    </tr>\n",
       "  </thead>\n",
       "  <tbody>\n",
       "    <tr>\n",
       "      <th>count</th>\n",
       "      <td>1000.00000</td>\n",
       "      <td>1000.000000</td>\n",
       "      <td>1000.000000</td>\n",
       "    </tr>\n",
       "    <tr>\n",
       "      <th>mean</th>\n",
       "      <td>66.08900</td>\n",
       "      <td>69.169000</td>\n",
       "      <td>68.054000</td>\n",
       "    </tr>\n",
       "    <tr>\n",
       "      <th>std</th>\n",
       "      <td>15.16308</td>\n",
       "      <td>14.600192</td>\n",
       "      <td>15.195657</td>\n",
       "    </tr>\n",
       "    <tr>\n",
       "      <th>min</th>\n",
       "      <td>0.00000</td>\n",
       "      <td>17.000000</td>\n",
       "      <td>10.000000</td>\n",
       "    </tr>\n",
       "    <tr>\n",
       "      <th>25%</th>\n",
       "      <td>57.00000</td>\n",
       "      <td>59.000000</td>\n",
       "      <td>57.750000</td>\n",
       "    </tr>\n",
       "    <tr>\n",
       "      <th>50%</th>\n",
       "      <td>66.00000</td>\n",
       "      <td>70.000000</td>\n",
       "      <td>69.000000</td>\n",
       "    </tr>\n",
       "    <tr>\n",
       "      <th>75%</th>\n",
       "      <td>77.00000</td>\n",
       "      <td>79.000000</td>\n",
       "      <td>79.000000</td>\n",
       "    </tr>\n",
       "    <tr>\n",
       "      <th>max</th>\n",
       "      <td>100.00000</td>\n",
       "      <td>100.000000</td>\n",
       "      <td>100.000000</td>\n",
       "    </tr>\n",
       "  </tbody>\n",
       "</table>\n",
       "</div>"
      ],
      "text/plain": [
       "       math score  reading score  writing score\n",
       "count  1000.00000    1000.000000    1000.000000\n",
       "mean     66.08900      69.169000      68.054000\n",
       "std      15.16308      14.600192      15.195657\n",
       "min       0.00000      17.000000      10.000000\n",
       "25%      57.00000      59.000000      57.750000\n",
       "50%      66.00000      70.000000      69.000000\n",
       "75%      77.00000      79.000000      79.000000\n",
       "max     100.00000     100.000000     100.000000"
      ]
     },
     "execution_count": 7,
     "metadata": {},
     "output_type": "execute_result"
    }
   ],
   "source": [
    "df_student.describe() # смотрим на описательные статистки данных"
   ]
  },
  {
   "cell_type": "markdown",
   "metadata": {},
   "source": [
    "Корреляция между зависимой переменной и дополнительными (высокая положительная)."
   ]
  },
  {
   "cell_type": "code",
   "execution_count": 8,
   "metadata": {},
   "outputs": [
    {
     "data": {
      "text/html": [
       "<div>\n",
       "<style scoped>\n",
       "    .dataframe tbody tr th:only-of-type {\n",
       "        vertical-align: middle;\n",
       "    }\n",
       "\n",
       "    .dataframe tbody tr th {\n",
       "        vertical-align: top;\n",
       "    }\n",
       "\n",
       "    .dataframe thead th {\n",
       "        text-align: right;\n",
       "    }\n",
       "</style>\n",
       "<table border=\"1\" class=\"dataframe\">\n",
       "  <thead>\n",
       "    <tr style=\"text-align: right;\">\n",
       "      <th></th>\n",
       "      <th>math score</th>\n",
       "      <th>reading score</th>\n",
       "      <th>writing score</th>\n",
       "    </tr>\n",
       "  </thead>\n",
       "  <tbody>\n",
       "    <tr>\n",
       "      <th>math score</th>\n",
       "      <td>1.000000</td>\n",
       "      <td>0.817580</td>\n",
       "      <td>0.802642</td>\n",
       "    </tr>\n",
       "    <tr>\n",
       "      <th>reading score</th>\n",
       "      <td>0.817580</td>\n",
       "      <td>1.000000</td>\n",
       "      <td>0.954598</td>\n",
       "    </tr>\n",
       "    <tr>\n",
       "      <th>writing score</th>\n",
       "      <td>0.802642</td>\n",
       "      <td>0.954598</td>\n",
       "      <td>1.000000</td>\n",
       "    </tr>\n",
       "  </tbody>\n",
       "</table>\n",
       "</div>"
      ],
      "text/plain": [
       "               math score  reading score  writing score\n",
       "math score       1.000000       0.817580       0.802642\n",
       "reading score    0.817580       1.000000       0.954598\n",
       "writing score    0.802642       0.954598       1.000000"
      ]
     },
     "execution_count": 8,
     "metadata": {},
     "output_type": "execute_result"
    }
   ],
   "source": [
    "df_student.corr() "
   ]
  },
  {
   "cell_type": "markdown",
   "metadata": {},
   "source": [
    "### Создание тренировочных и тестовых выборок"
   ]
  },
  {
   "cell_type": "markdown",
   "metadata": {},
   "source": [
    "В Х передадим все независимые переменные, а в у пока положим значения зависимой переменной и дополнительных."
   ]
  },
  {
   "cell_type": "code",
   "execution_count": 9,
   "metadata": {},
   "outputs": [],
   "source": [
    "X_st = df_student[df_student.columns[:5]]\n",
    "y_st = df_student[df_student.columns[5:]]"
   ]
  },
  {
   "cell_type": "markdown",
   "metadata": {},
   "source": [
    "Разделим выборку на тестовую и тренировочную в отношении 1 к 3."
   ]
  },
  {
   "cell_type": "code",
   "execution_count": 10,
   "metadata": {},
   "outputs": [],
   "source": [
    "X_train_st, X_test_st, y_train_st, y_test_st = train_test_split(X_st, y_st, test_size = 0.33, \n",
    "                                                        random_state = 42)"
   ]
  },
  {
   "cell_type": "markdown",
   "metadata": {},
   "source": [
    "Проверяем соотношение выборок."
   ]
  },
  {
   "cell_type": "code",
   "execution_count": 11,
   "metadata": {},
   "outputs": [
    {
     "name": "stdout",
     "output_type": "stream",
     "text": [
      "Длина тренирововчного датасета - 670 \t  Длина тестового датасета - 330\n"
     ]
    }
   ],
   "source": [
    "print(\"Длина тренирововчного датасета -\", len(X_train_st), \"\\t \", \n",
    "      \"Длина тестового датасета -\", len(y_test_st)\n",
    "     )"
   ]
  },
  {
   "cell_type": "markdown",
   "metadata": {},
   "source": [
    "# Разведывательный анализ данных (на тренировочной выборке)"
   ]
  },
  {
   "cell_type": "markdown",
   "metadata": {},
   "source": [
    "### C - Преобразования данных"
   ]
  },
  {
   "cell_type": "markdown",
   "metadata": {},
   "source": [
    "Предполагаем, что задачу проще решить через классификатор, предсказывая на основании характристик индивида его шкалированную оценку по математике от 1 до 5. Для этого создадим функцию, которая преобразовывает дискретный отклик и категориальную переменную, где 1 - несдача математического теста, 2 - отличное прохождение теста."
   ]
  },
  {
   "cell_type": "code",
   "execution_count": 12,
   "metadata": {},
   "outputs": [],
   "source": [
    "def create_factor_y(y1, confines):\n",
    "    y = y1.tolist()\n",
    "    cat = pd.cut(y, confines).codes\n",
    "    return cat + 1"
   ]
  },
  {
   "cell_type": "markdown",
   "metadata": {},
   "source": [
    "Предерживаемся жесткого шкалирования оценок (где балл, ниже 60, считается несдачей), чтобы получить более-менее равномерные классы на тренировочной выборке. Зато 5 баллов можно получить за оценку от 86 до 100."
   ]
  },
  {
   "cell_type": "markdown",
   "metadata": {},
   "source": [
    "##### Шкалирование зависимой переменной первого датасета\n",
    "* 1 балл: от 0 до 50;\n",
    "* 2 балла: от 51 до 60;\n",
    "* 3 балла: от 61 до 70;\n",
    "* 4 балла: от 71 до 80;\n",
    "* 5 баллов: от 86 до 100."
   ]
  },
  {
   "cell_type": "markdown",
   "metadata": {},
   "source": [
    "Восстановим индексацию (от 0 до длины тернировочного датасета)."
   ]
  },
  {
   "cell_type": "code",
   "execution_count": 13,
   "metadata": {},
   "outputs": [],
   "source": [
    "def reset_indexes(data):\n",
    "    data.index = pd.RangeIndex(len(data.index))\n",
    "    data.index = range(len(data.index))\n",
    "    return data"
   ]
  },
  {
   "cell_type": "code",
   "execution_count": 14,
   "metadata": {},
   "outputs": [],
   "source": [
    "y_train_st = reset_indexes(y_train_st)\n",
    "confines = [0, 50, 60, 70, 80, 100]"
   ]
  },
  {
   "cell_type": "markdown",
   "metadata": {},
   "source": [
    "Реализуем функцию шкалирования зависимой переменной, получаем достаточно равномерные классы."
   ]
  },
  {
   "cell_type": "code",
   "execution_count": 15,
   "metadata": {},
   "outputs": [
    {
     "data": {
      "text/plain": [
       "Counter({1: 91, 2: 132, 3: 175, 4: 147, 5: 125})"
      ]
     },
     "execution_count": 15,
     "metadata": {},
     "output_type": "execute_result"
    }
   ],
   "source": [
    "y_train_st_factor = create_factor_y(y_train_st['math score'], confines)\n",
    "Counter(y_train_st_factor)"
   ]
  },
  {
   "cell_type": "markdown",
   "metadata": {},
   "source": [
    "##### Изменение шкалирования образовательной степени:"
   ]
  },
  {
   "cell_type": "markdown",
   "metadata": {},
   "source": [
    "Предполагаем, что бОльшее влияние на зависимую переменную будет иметь `уровень образования`, представленный в бинарном виде. Сведем все категории к образовнию со степенью и без нее."
   ]
  },
  {
   "cell_type": "markdown",
   "metadata": {},
   "source": [
    "* Без степени - None;\n",
    "* Со степеью - Degree."
   ]
  },
  {
   "cell_type": "markdown",
   "metadata": {},
   "source": [
    "Создадим и применим функцию, которая итерируется по каждому значению `уровня образования` и там, где находит слово `degree`, присваивает ему степень, остальным значениям - `none`."
   ]
  },
  {
   "cell_type": "code",
   "execution_count": 16,
   "metadata": {},
   "outputs": [],
   "source": [
    "def create_list_of_degree_presence(column):\n",
    "    degree_lst = []\n",
    "    for i in column:\n",
    "        if 'degree' in i:\n",
    "            degree_lst.append('degree')\n",
    "        else:\n",
    "            degree_lst.append('none')\n",
    "    return degree_lst"
   ]
  },
  {
   "cell_type": "code",
   "execution_count": 17,
   "metadata": {},
   "outputs": [
    {
     "name": "stderr",
     "output_type": "stream",
     "text": [
      "C:\\Users\\Alii\\Anaconda3\\lib\\site-packages\\ipykernel_launcher.py:2: SettingWithCopyWarning:\n",
      "\n",
      "\n",
      "A value is trying to be set on a copy of a slice from a DataFrame.\n",
      "Try using .loc[row_indexer,col_indexer] = value instead\n",
      "\n",
      "See the caveats in the documentation: http://pandas.pydata.org/pandas-docs/stable/indexing.html#indexing-view-versus-copy\n",
      "\n"
     ]
    }
   ],
   "source": [
    "X_train_st = reset_indexes(X_train_st)\n",
    "X_train_st['degree'] = create_list_of_degree_presence(X_train_st['parental level of education'])"
   ]
  },
  {
   "cell_type": "markdown",
   "metadata": {},
   "source": [
    "Получили ожидаемый результат."
   ]
  },
  {
   "cell_type": "code",
   "execution_count": 18,
   "metadata": {},
   "outputs": [
    {
     "data": {
      "text/plain": [
       "0      none\n",
       "1    degree\n",
       "2      none\n",
       "3      none\n",
       "Name: degree, dtype: object"
      ]
     },
     "execution_count": 18,
     "metadata": {},
     "output_type": "execute_result"
    }
   ],
   "source": [
    "X_train_st['degree'][:4]"
   ]
  },
  {
   "cell_type": "markdown",
   "metadata": {},
   "source": [
    "##### Конвертируем факторы в числовые значения для получения корреляционной матрицы и реализации моделей"
   ]
  },
  {
   "cell_type": "markdown",
   "metadata": {},
   "source": [
    "Все независимые переменные представлены в базе данных типом `object`. Такой тип не позволит использовать переменные для построения корреляционной матрицы, обучения и тестирования моделей. Поэтому конвертнем их категории в числовые (вместо строкового)."
   ]
  },
  {
   "cell_type": "code",
   "execution_count": 19,
   "metadata": {},
   "outputs": [
    {
     "data": {
      "text/plain": [
       "['gender',\n",
       " 'race/ethnicity',\n",
       " 'parental level of education',\n",
       " 'lunch',\n",
       " 'test preparation course',\n",
       " 'degree']"
      ]
     },
     "execution_count": 19,
     "metadata": {},
     "output_type": "execute_result"
    }
   ],
   "source": [
    "X_train_st_copy = X_train_st.copy()\n",
    "X_train_st_copy.columns.tolist()"
   ]
  },
  {
   "cell_type": "markdown",
   "metadata": {},
   "source": [
    "Создадим конвертирующую функцию, последовательно ее применим к каждому столбцу в тренировочном датасете."
   ]
  },
  {
   "cell_type": "code",
   "execution_count": 20,
   "metadata": {},
   "outputs": [],
   "source": [
    "def string_to_numeric_factor(x):\n",
    "    classnames, indices = np.unique(x, return_inverse=True)\n",
    "    return indices"
   ]
  },
  {
   "cell_type": "code",
   "execution_count": 21,
   "metadata": {},
   "outputs": [],
   "source": [
    "for i in X_train_st_copy.columns.tolist():\n",
    "       X_train_st_copy[i] = string_to_numeric_factor(X_train_st_copy[i])"
   ]
  },
  {
   "cell_type": "markdown",
   "metadata": {},
   "source": [
    "Посмотрим, что получилось, и опишем полученные переменные."
   ]
  },
  {
   "cell_type": "markdown",
   "metadata": {},
   "source": [
    "##### Числовые значения катtгорий для независимых переменных:\n",
    "* `Gender`: female - 0, male - 1;\n",
    "* `Race/ethnicity`: group A - 0, group B - 1, group C - 2, group D - 3, group E - 4;\n",
    "* `Parental level of education`: Associates degree - 0, bachelor's degree - 1, high school - 2, master's degree - 3, some college - 4, some high school - 5;\n",
    "* `Lunch`: free/reduced - 0, standard - 1;\n",
    "* `Test preparation course`: completed - 0, none - 1;\n",
    "* `Degree`: degree - 0, none - 1."
   ]
  },
  {
   "cell_type": "code",
   "execution_count": 22,
   "metadata": {},
   "outputs": [
    {
     "data": {
      "text/html": [
       "<div>\n",
       "<style scoped>\n",
       "    .dataframe tbody tr th:only-of-type {\n",
       "        vertical-align: middle;\n",
       "    }\n",
       "\n",
       "    .dataframe tbody tr th {\n",
       "        vertical-align: top;\n",
       "    }\n",
       "\n",
       "    .dataframe thead th {\n",
       "        text-align: right;\n",
       "    }\n",
       "</style>\n",
       "<table border=\"1\" class=\"dataframe\">\n",
       "  <thead>\n",
       "    <tr style=\"text-align: right;\">\n",
       "      <th></th>\n",
       "      <th>gender</th>\n",
       "      <th>race/ethnicity</th>\n",
       "      <th>parental level of education</th>\n",
       "      <th>lunch</th>\n",
       "      <th>test preparation course</th>\n",
       "      <th>degree</th>\n",
       "    </tr>\n",
       "  </thead>\n",
       "  <tbody>\n",
       "    <tr>\n",
       "      <th>0</th>\n",
       "      <td>0</td>\n",
       "      <td>3</td>\n",
       "      <td>4</td>\n",
       "      <td>1</td>\n",
       "      <td>1</td>\n",
       "      <td>1</td>\n",
       "    </tr>\n",
       "    <tr>\n",
       "      <th>1</th>\n",
       "      <td>1</td>\n",
       "      <td>1</td>\n",
       "      <td>1</td>\n",
       "      <td>1</td>\n",
       "      <td>1</td>\n",
       "      <td>0</td>\n",
       "    </tr>\n",
       "    <tr>\n",
       "      <th>2</th>\n",
       "      <td>0</td>\n",
       "      <td>1</td>\n",
       "      <td>5</td>\n",
       "      <td>0</td>\n",
       "      <td>0</td>\n",
       "      <td>1</td>\n",
       "    </tr>\n",
       "    <tr>\n",
       "      <th>3</th>\n",
       "      <td>0</td>\n",
       "      <td>2</td>\n",
       "      <td>5</td>\n",
       "      <td>1</td>\n",
       "      <td>0</td>\n",
       "      <td>1</td>\n",
       "    </tr>\n",
       "  </tbody>\n",
       "</table>\n",
       "</div>"
      ],
      "text/plain": [
       "   gender  race/ethnicity  parental level of education  lunch  \\\n",
       "0       0               3                            4      1   \n",
       "1       1               1                            1      1   \n",
       "2       0               1                            5      0   \n",
       "3       0               2                            5      1   \n",
       "\n",
       "   test preparation course  degree  \n",
       "0                        1       1  \n",
       "1                        1       0  \n",
       "2                        0       1  \n",
       "3                        0       1  "
      ]
     },
     "execution_count": 22,
     "metadata": {},
     "output_type": "execute_result"
    }
   ],
   "source": [
    "X_train_st_copy.head(4)"
   ]
  },
  {
   "cell_type": "markdown",
   "metadata": {},
   "source": [
    "### B - Исследование отношений между зависимой переменной и факторами"
   ]
  },
  {
   "cell_type": "markdown",
   "metadata": {},
   "source": [
    "##### Корреляционная матрица независимых переменных"
   ]
  },
  {
   "cell_type": "markdown",
   "metadata": {},
   "source": [
    "Незвисимые переменные имеют слабо выраженный коэффициент корреляции по модулю, за исключением переменных `degree` и `parental level of education`, который имеют сльную положительную корреляцию (ввиду получения одной из другой)."
   ]
  },
  {
   "cell_type": "code",
   "execution_count": 23,
   "metadata": {},
   "outputs": [
    {
     "data": {
      "text/html": [
       "<div>\n",
       "<style scoped>\n",
       "    .dataframe tbody tr th:only-of-type {\n",
       "        vertical-align: middle;\n",
       "    }\n",
       "\n",
       "    .dataframe tbody tr th {\n",
       "        vertical-align: top;\n",
       "    }\n",
       "\n",
       "    .dataframe thead th {\n",
       "        text-align: right;\n",
       "    }\n",
       "</style>\n",
       "<table border=\"1\" class=\"dataframe\">\n",
       "  <thead>\n",
       "    <tr style=\"text-align: right;\">\n",
       "      <th></th>\n",
       "      <th>gender</th>\n",
       "      <th>race/ethnicity</th>\n",
       "      <th>parental level of education</th>\n",
       "      <th>lunch</th>\n",
       "      <th>test preparation course</th>\n",
       "      <th>degree</th>\n",
       "    </tr>\n",
       "  </thead>\n",
       "  <tbody>\n",
       "    <tr>\n",
       "      <th>gender</th>\n",
       "      <td>1.000000</td>\n",
       "      <td>-0.009232</td>\n",
       "      <td>0.009805</td>\n",
       "      <td>0.011282</td>\n",
       "      <td>-0.045713</td>\n",
       "      <td>0.024413</td>\n",
       "    </tr>\n",
       "    <tr>\n",
       "      <th>race/ethnicity</th>\n",
       "      <td>-0.009232</td>\n",
       "      <td>1.000000</td>\n",
       "      <td>-0.048405</td>\n",
       "      <td>0.032111</td>\n",
       "      <td>-0.021361</td>\n",
       "      <td>-0.080832</td>\n",
       "    </tr>\n",
       "    <tr>\n",
       "      <th>parental level of education</th>\n",
       "      <td>0.009805</td>\n",
       "      <td>-0.048405</td>\n",
       "      <td>1.000000</td>\n",
       "      <td>0.030957</td>\n",
       "      <td>0.017011</td>\n",
       "      <td>0.783944</td>\n",
       "    </tr>\n",
       "    <tr>\n",
       "      <th>lunch</th>\n",
       "      <td>0.011282</td>\n",
       "      <td>0.032111</td>\n",
       "      <td>0.030957</td>\n",
       "      <td>1.000000</td>\n",
       "      <td>0.048616</td>\n",
       "      <td>0.038238</td>\n",
       "    </tr>\n",
       "    <tr>\n",
       "      <th>test preparation course</th>\n",
       "      <td>-0.045713</td>\n",
       "      <td>-0.021361</td>\n",
       "      <td>0.017011</td>\n",
       "      <td>0.048616</td>\n",
       "      <td>1.000000</td>\n",
       "      <td>0.052165</td>\n",
       "    </tr>\n",
       "    <tr>\n",
       "      <th>degree</th>\n",
       "      <td>0.024413</td>\n",
       "      <td>-0.080832</td>\n",
       "      <td>0.783944</td>\n",
       "      <td>0.038238</td>\n",
       "      <td>0.052165</td>\n",
       "      <td>1.000000</td>\n",
       "    </tr>\n",
       "  </tbody>\n",
       "</table>\n",
       "</div>"
      ],
      "text/plain": [
       "                               gender  race/ethnicity  \\\n",
       "gender                       1.000000       -0.009232   \n",
       "race/ethnicity              -0.009232        1.000000   \n",
       "parental level of education  0.009805       -0.048405   \n",
       "lunch                        0.011282        0.032111   \n",
       "test preparation course     -0.045713       -0.021361   \n",
       "degree                       0.024413       -0.080832   \n",
       "\n",
       "                             parental level of education     lunch  \\\n",
       "gender                                          0.009805  0.011282   \n",
       "race/ethnicity                                 -0.048405  0.032111   \n",
       "parental level of education                     1.000000  0.030957   \n",
       "lunch                                           0.030957  1.000000   \n",
       "test preparation course                         0.017011  0.048616   \n",
       "degree                                          0.783944  0.038238   \n",
       "\n",
       "                             test preparation course    degree  \n",
       "gender                                     -0.045713  0.024413  \n",
       "race/ethnicity                             -0.021361 -0.080832  \n",
       "parental level of education                 0.017011  0.783944  \n",
       "lunch                                       0.048616  0.038238  \n",
       "test preparation course                     1.000000  0.052165  \n",
       "degree                                      0.052165  1.000000  "
      ]
     },
     "execution_count": 23,
     "metadata": {},
     "output_type": "execute_result"
    }
   ],
   "source": [
    "X_train_st_copy.corr()"
   ]
  },
  {
   "cell_type": "markdown",
   "metadata": {},
   "source": [
    "Создадим функцию, которая позволит проводить корреляционный анализ между переменными разных датасетов.\n",
    "(Функция была взята с `Stack Overflow`)"
   ]
  },
  {
   "cell_type": "code",
   "execution_count": 24,
   "metadata": {},
   "outputs": [],
   "source": [
    "def corr(df1, df2):\n",
    "    n = len(df1)\n",
    "    v1, v2 = df1.values, df2.values\n",
    "    sums = np.multiply.outer(v2.sum(0), v1.sum(0))\n",
    "    stds = np.multiply.outer(v2.std(0), v1.std(0))\n",
    "    return pd.DataFrame((v2.T.dot(v1) - sums / n) / stds / n,\n",
    "                        df2.columns, df1.columns)\n"
   ]
  },
  {
   "cell_type": "markdown",
   "metadata": {},
   "source": [
    "##### Корреляционная матрица элементов зависимой переменной\n"
   ]
  },
  {
   "cell_type": "markdown",
   "metadata": {},
   "source": [
    "Уже рассматривали данную матрицу выше (в первом задании)."
   ]
  },
  {
   "cell_type": "code",
   "execution_count": 25,
   "metadata": {},
   "outputs": [
    {
     "data": {
      "text/html": [
       "<div>\n",
       "<style scoped>\n",
       "    .dataframe tbody tr th:only-of-type {\n",
       "        vertical-align: middle;\n",
       "    }\n",
       "\n",
       "    .dataframe tbody tr th {\n",
       "        vertical-align: top;\n",
       "    }\n",
       "\n",
       "    .dataframe thead th {\n",
       "        text-align: right;\n",
       "    }\n",
       "</style>\n",
       "<table border=\"1\" class=\"dataframe\">\n",
       "  <thead>\n",
       "    <tr style=\"text-align: right;\">\n",
       "      <th></th>\n",
       "      <th>math score</th>\n",
       "      <th>reading score</th>\n",
       "      <th>writing score</th>\n",
       "    </tr>\n",
       "  </thead>\n",
       "  <tbody>\n",
       "    <tr>\n",
       "      <th>math score</th>\n",
       "      <td>1.000000</td>\n",
       "      <td>0.817580</td>\n",
       "      <td>0.802642</td>\n",
       "    </tr>\n",
       "    <tr>\n",
       "      <th>reading score</th>\n",
       "      <td>0.817580</td>\n",
       "      <td>1.000000</td>\n",
       "      <td>0.954598</td>\n",
       "    </tr>\n",
       "    <tr>\n",
       "      <th>writing score</th>\n",
       "      <td>0.802642</td>\n",
       "      <td>0.954598</td>\n",
       "      <td>1.000000</td>\n",
       "    </tr>\n",
       "  </tbody>\n",
       "</table>\n",
       "</div>"
      ],
      "text/plain": [
       "               math score  reading score  writing score\n",
       "math score       1.000000       0.817580       0.802642\n",
       "reading score    0.817580       1.000000       0.954598\n",
       "writing score    0.802642       0.954598       1.000000"
      ]
     },
     "execution_count": 25,
     "metadata": {},
     "output_type": "execute_result"
    }
   ],
   "source": [
    "df_student.corr()"
   ]
  },
  {
   "cell_type": "markdown",
   "metadata": {},
   "source": [
    "##### Корреляционная матрица агрегированной, шкалированной зависимой переменной и факторов"
   ]
  },
  {
   "cell_type": "markdown",
   "metadata": {},
   "source": [
    "В основном независимые переменные имеют положительную вазимосвязь с откликом. Наиболее ярко выраженные значения у отклика с переменными `race/ethnicity` и `lunch` (однако и их значения все равно малы). Из чего можно сделать вывод, что `y` достаточно слабо связан с `X`, что может повлиять на качество модели. В связи с чем перед обучением включим еще один признак - `reading score`, который сильно положительно связан с зависимой переменной и так же является характристикой индивида (его способности в чтении)."
   ]
  },
  {
   "cell_type": "code",
   "execution_count": 26,
   "metadata": {},
   "outputs": [
    {
     "data": {
      "text/html": [
       "<div>\n",
       "<style scoped>\n",
       "    .dataframe tbody tr th:only-of-type {\n",
       "        vertical-align: middle;\n",
       "    }\n",
       "\n",
       "    .dataframe tbody tr th {\n",
       "        vertical-align: top;\n",
       "    }\n",
       "\n",
       "    .dataframe thead th {\n",
       "        text-align: right;\n",
       "    }\n",
       "</style>\n",
       "<table border=\"1\" class=\"dataframe\">\n",
       "  <thead>\n",
       "    <tr style=\"text-align: right;\">\n",
       "      <th></th>\n",
       "      <th>gender</th>\n",
       "      <th>race/ethnicity</th>\n",
       "      <th>parental level of education</th>\n",
       "      <th>lunch</th>\n",
       "      <th>test preparation course</th>\n",
       "      <th>degree</th>\n",
       "    </tr>\n",
       "  </thead>\n",
       "  <tbody>\n",
       "    <tr>\n",
       "      <th>y</th>\n",
       "      <td>0.168156</td>\n",
       "      <td>0.21204</td>\n",
       "      <td>-0.029829</td>\n",
       "      <td>0.325151</td>\n",
       "      <td>-0.174338</td>\n",
       "      <td>-0.092218</td>\n",
       "    </tr>\n",
       "  </tbody>\n",
       "</table>\n",
       "</div>"
      ],
      "text/plain": [
       "     gender  race/ethnicity  parental level of education     lunch  \\\n",
       "y  0.168156         0.21204                    -0.029829  0.325151   \n",
       "\n",
       "   test preparation course    degree  \n",
       "y                -0.174338 -0.092218  "
      ]
     },
     "execution_count": 26,
     "metadata": {},
     "output_type": "execute_result"
    }
   ],
   "source": [
    "corr(X_train_st_copy, pd.DataFrame({'y': y_train_st_factor}))"
   ]
  },
  {
   "cell_type": "markdown",
   "metadata": {},
   "source": [
    "##### Корреляционная матрица элементов зависимой переменной и факторов"
   ]
  },
  {
   "cell_type": "markdown",
   "metadata": {},
   "source": [
    "Видим, что у трех дискретных переменных схожие корреляционные коэффициенты с независимыми переменными."
   ]
  },
  {
   "cell_type": "code",
   "execution_count": 27,
   "metadata": {},
   "outputs": [
    {
     "data": {
      "text/html": [
       "<div>\n",
       "<style scoped>\n",
       "    .dataframe tbody tr th:only-of-type {\n",
       "        vertical-align: middle;\n",
       "    }\n",
       "\n",
       "    .dataframe tbody tr th {\n",
       "        vertical-align: top;\n",
       "    }\n",
       "\n",
       "    .dataframe thead th {\n",
       "        text-align: right;\n",
       "    }\n",
       "</style>\n",
       "<table border=\"1\" class=\"dataframe\">\n",
       "  <thead>\n",
       "    <tr style=\"text-align: right;\">\n",
       "      <th></th>\n",
       "      <th>gender</th>\n",
       "      <th>race/ethnicity</th>\n",
       "      <th>parental level of education</th>\n",
       "      <th>lunch</th>\n",
       "      <th>test preparation course</th>\n",
       "      <th>degree</th>\n",
       "    </tr>\n",
       "  </thead>\n",
       "  <tbody>\n",
       "    <tr>\n",
       "      <th>math score</th>\n",
       "      <td>0.175447</td>\n",
       "      <td>0.207751</td>\n",
       "      <td>-0.037771</td>\n",
       "      <td>0.344768</td>\n",
       "      <td>-0.187208</td>\n",
       "      <td>-0.103822</td>\n",
       "    </tr>\n",
       "    <tr>\n",
       "      <th>reading score</th>\n",
       "      <td>-0.230601</td>\n",
       "      <td>0.141509</td>\n",
       "      <td>-0.051481</td>\n",
       "      <td>0.230266</td>\n",
       "      <td>-0.227691</td>\n",
       "      <td>-0.140353</td>\n",
       "    </tr>\n",
       "    <tr>\n",
       "      <th>writing score</th>\n",
       "      <td>-0.285386</td>\n",
       "      <td>0.162686</td>\n",
       "      <td>-0.072941</td>\n",
       "      <td>0.243115</td>\n",
       "      <td>-0.298825</td>\n",
       "      <td>-0.178216</td>\n",
       "    </tr>\n",
       "  </tbody>\n",
       "</table>\n",
       "</div>"
      ],
      "text/plain": [
       "                 gender  race/ethnicity  parental level of education  \\\n",
       "math score     0.175447        0.207751                    -0.037771   \n",
       "reading score -0.230601        0.141509                    -0.051481   \n",
       "writing score -0.285386        0.162686                    -0.072941   \n",
       "\n",
       "                  lunch  test preparation course    degree  \n",
       "math score     0.344768                -0.187208 -0.103822  \n",
       "reading score  0.230266                -0.227691 -0.140353  \n",
       "writing score  0.243115                -0.298825 -0.178216  "
      ]
     },
     "execution_count": 27,
     "metadata": {},
     "output_type": "execute_result"
    }
   ],
   "source": [
    "corr(X_train_st_copy, y_train_st)"
   ]
  },
  {
   "cell_type": "markdown",
   "metadata": {},
   "source": [
    "##### Гистограммы отклика в зависимости от значения гендера"
   ]
  },
  {
   "cell_type": "markdown",
   "metadata": {},
   "source": [
    "Для построения большинства графиков будем использовать нешкалированную зависимую переменную для более яркой и понятной визуализации.\n",
    "\n",
    "Создадим общий датасет для тренировочной выборке (`Х` и `у`)."
   ]
  },
  {
   "cell_type": "code",
   "execution_count": 28,
   "metadata": {},
   "outputs": [],
   "source": [
    "df_train_st = pd.concat([X_train_st.reset_index(drop=True),y_train_st.reset_index(drop=True)], axis=1)"
   ]
  },
  {
   "cell_type": "markdown",
   "metadata": {},
   "source": [
    "Построим гистрограммы на одной плоскости отдельно для женщин и мужчин. Видим, что в целом распределение зависимой переменной очень схожи для обоих графиков, чуть скошены вправо. Среднее значение оценки за тест для женщин около 60, для мужчин - чуть выше. Влияние гендера достаточно слабое на зависимую переменную."
   ]
  },
  {
   "cell_type": "code",
   "execution_count": 29,
   "metadata": {},
   "outputs": [
    {
     "data": {
      "image/png": "[encoded data removed]",
      "text/plain": [
       "<matplotlib.figure.Figure at 0x2bb2a2a5d30>"
      ]
     },
     "metadata": {},
     "output_type": "display_data"
    }
   ],
   "source": [
    "df_train_st['math score'].hist(by=df_train_st['gender'], color = 'darkviolet')\n",
    "plt.suptitle(\"Histogram of math score\")\n",
    "plt.show()"
   ]
  },
  {
   "cell_type": "markdown",
   "metadata": {},
   "source": [
    "##### Древовидная карта: зависимость отклика от уровня образования (для 6 категорий)"
   ]
  },
  {
   "cell_type": "markdown",
   "metadata": {},
   "source": [
    "Посмотрим также, сколько сдавших тест по математике респондентов принадлежали к разным образовательным группам. Построим для данной задачи древовидную карту, для этого сначала сгруппируем базу по категориям независимой переменной и посчитаем частоту."
   ]
  },
  {
   "cell_type": "code",
   "execution_count": 30,
   "metadata": {},
   "outputs": [],
   "source": [
    "df_treemap = df_train_st.groupby('parental level of education')[['math score']].count()\n",
    "df_treemap['parental level of education'] = df_treemap.index"
   ]
  },
  {
   "cell_type": "code",
   "execution_count": 31,
   "metadata": {},
   "outputs": [
    {
     "data": {
      "text/html": [
       "<div>\n",
       "<style scoped>\n",
       "    .dataframe tbody tr th:only-of-type {\n",
       "        vertical-align: middle;\n",
       "    }\n",
       "\n",
       "    .dataframe tbody tr th {\n",
       "        vertical-align: top;\n",
       "    }\n",
       "\n",
       "    .dataframe thead th {\n",
       "        text-align: right;\n",
       "    }\n",
       "</style>\n",
       "<table border=\"1\" class=\"dataframe\">\n",
       "  <thead>\n",
       "    <tr style=\"text-align: right;\">\n",
       "      <th></th>\n",
       "      <th>math score</th>\n",
       "      <th>parental level of education</th>\n",
       "    </tr>\n",
       "    <tr>\n",
       "      <th>parental level of education</th>\n",
       "      <th></th>\n",
       "      <th></th>\n",
       "    </tr>\n",
       "  </thead>\n",
       "  <tbody>\n",
       "    <tr>\n",
       "      <th>associate's degree</th>\n",
       "      <td>150</td>\n",
       "      <td>associate's degree</td>\n",
       "    </tr>\n",
       "    <tr>\n",
       "      <th>bachelor's degree</th>\n",
       "      <td>85</td>\n",
       "      <td>bachelor's degree</td>\n",
       "    </tr>\n",
       "    <tr>\n",
       "      <th>high school</th>\n",
       "      <td>132</td>\n",
       "      <td>high school</td>\n",
       "    </tr>\n",
       "    <tr>\n",
       "      <th>master's degree</th>\n",
       "      <td>36</td>\n",
       "      <td>master's degree</td>\n",
       "    </tr>\n",
       "    <tr>\n",
       "      <th>some college</th>\n",
       "      <td>149</td>\n",
       "      <td>some college</td>\n",
       "    </tr>\n",
       "    <tr>\n",
       "      <th>some high school</th>\n",
       "      <td>118</td>\n",
       "      <td>some high school</td>\n",
       "    </tr>\n",
       "  </tbody>\n",
       "</table>\n",
       "</div>"
      ],
      "text/plain": [
       "                             math score parental level of education\n",
       "parental level of education                                        \n",
       "associate's degree                  150          associate's degree\n",
       "bachelor's degree                    85           bachelor's degree\n",
       "high school                         132                 high school\n",
       "master's degree                      36             master's degree\n",
       "some college                        149                some college\n",
       "some high school                    118            some high school"
      ]
     },
     "execution_count": 31,
     "metadata": {},
     "output_type": "execute_result"
    }
   ],
   "source": [
    "df_treemap"
   ]
  },
  {
   "cell_type": "markdown",
   "metadata": {},
   "source": [
    "Размер ячейки на графике отражает количество написавших тест для определенной образовательной группы. Больше всего студентов имели `associate's degree` или закончили `some college`, меньше всего - `master's degree`."
   ]
  },
  {
   "cell_type": "code",
   "execution_count": 32,
   "metadata": {},
   "outputs": [
    {
     "data": {
      "image/png": "[encoded data removed]",
      "text/plain": [
       "<matplotlib.figure.Figure at 0x2bb2a4908d0>"
      ]
     },
     "metadata": {},
     "output_type": "display_data"
    }
   ],
   "source": [
    "color = [\"yellow\", \"red\", \"lime\", \"orchid\", \"cyan\", \"blue\"]\n",
    "squarify.plot(sizes=df_treemap['math score'], color = color, label=df_treemap['parental level of education'], alpha=.8 )\n",
    "plt.title(\"Treemap\",fontsize=23)\n",
    "plt.axis('off')\n",
    "plt.show()"
   ]
  },
  {
   "cell_type": "markdown",
   "metadata": {},
   "source": [
    "##### Плотность отклика в зависимости от типа ланча"
   ]
  },
  {
   "cell_type": "markdown",
   "metadata": {},
   "source": [
    "Построим график, отражающий плотность зависимой переменной на одной плоскости для наличия разного рода обеда. Те студенты, что брали стандартный ланч, как правило, сдали математический тест на более высокий бал (среднее значение чуть правее). То есть при переходе от 0 к 1 по ланчу средний балл по мат тесту увелчится."
   ]
  },
  {
   "cell_type": "code",
   "execution_count": 33,
   "metadata": {},
   "outputs": [
    {
     "data": {
      "image/png": "[encoded data removed]",
      "text/plain": [
       "<matplotlib.figure.Figure at 0x2bb2a47da90>"
      ]
     },
     "metadata": {},
     "output_type": "display_data"
    }
   ],
   "source": [
    "df_train_st.groupby('lunch')['math score'].plot(kind='density', legend=True)\n",
    "plt.show()"
   ]
  },
  {
   "cell_type": "markdown",
   "metadata": {},
   "source": [
    "##### Тепловая карта (обычная) для отклика."
   ]
  },
  {
   "cell_type": "markdown",
   "metadata": {},
   "source": [
    "Построим обычную тепловую карту для откика, которая бы отражала частоту сдач математического теста на разные оценки (классы от 1 до 5) в зависимости от уровня подготовки к экзамену. Сгруппируем базу по независимой переменной и классам мат теста, посчитаем частоту."
   ]
  },
  {
   "cell_type": "code",
   "execution_count": 34,
   "metadata": {},
   "outputs": [
    {
     "data": {
      "text/html": [
       "<div>\n",
       "<style scoped>\n",
       "    .dataframe tbody tr th:only-of-type {\n",
       "        vertical-align: middle;\n",
       "    }\n",
       "\n",
       "    .dataframe tbody tr th {\n",
       "        vertical-align: top;\n",
       "    }\n",
       "\n",
       "    .dataframe thead th {\n",
       "        text-align: right;\n",
       "    }\n",
       "</style>\n",
       "<table border=\"1\" class=\"dataframe\">\n",
       "  <thead>\n",
       "    <tr style=\"text-align: right;\">\n",
       "      <th></th>\n",
       "      <th></th>\n",
       "      <th>math score</th>\n",
       "    </tr>\n",
       "    <tr>\n",
       "      <th>Y</th>\n",
       "      <th>test preparation course</th>\n",
       "      <th></th>\n",
       "    </tr>\n",
       "  </thead>\n",
       "  <tbody>\n",
       "    <tr>\n",
       "      <th rowspan=\"2\" valign=\"top\">1</th>\n",
       "      <th>completed</th>\n",
       "      <td>18</td>\n",
       "    </tr>\n",
       "    <tr>\n",
       "      <th>none</th>\n",
       "      <td>73</td>\n",
       "    </tr>\n",
       "    <tr>\n",
       "      <th rowspan=\"2\" valign=\"top\">2</th>\n",
       "      <th>completed</th>\n",
       "      <td>39</td>\n",
       "    </tr>\n",
       "    <tr>\n",
       "      <th>none</th>\n",
       "      <td>93</td>\n",
       "    </tr>\n",
       "    <tr>\n",
       "      <th rowspan=\"2\" valign=\"top\">3</th>\n",
       "      <th>completed</th>\n",
       "      <td>59</td>\n",
       "    </tr>\n",
       "    <tr>\n",
       "      <th>none</th>\n",
       "      <td>116</td>\n",
       "    </tr>\n",
       "    <tr>\n",
       "      <th rowspan=\"2\" valign=\"top\">4</th>\n",
       "      <th>completed</th>\n",
       "      <td>56</td>\n",
       "    </tr>\n",
       "    <tr>\n",
       "      <th>none</th>\n",
       "      <td>91</td>\n",
       "    </tr>\n",
       "    <tr>\n",
       "      <th rowspan=\"2\" valign=\"top\">5</th>\n",
       "      <th>completed</th>\n",
       "      <td>60</td>\n",
       "    </tr>\n",
       "    <tr>\n",
       "      <th>none</th>\n",
       "      <td>65</td>\n",
       "    </tr>\n",
       "  </tbody>\n",
       "</table>\n",
       "</div>"
      ],
      "text/plain": [
       "                           math score\n",
       "Y test preparation course            \n",
       "1 completed                        18\n",
       "  none                             73\n",
       "2 completed                        39\n",
       "  none                             93\n",
       "3 completed                        59\n",
       "  none                            116\n",
       "4 completed                        56\n",
       "  none                             91\n",
       "5 completed                        60\n",
       "  none                             65"
      ]
     },
     "execution_count": 34,
     "metadata": {},
     "output_type": "execute_result"
    }
   ],
   "source": [
    "df_train_st['Y'] = y_train_st_factor\n",
    "df_heatmap = df_train_st.groupby(['Y', 'test preparation course'])[['math score']].count()\n",
    "\n",
    "df_heatmap"
   ]
  },
  {
   "cell_type": "code",
   "execution_count": 35,
   "metadata": {},
   "outputs": [],
   "source": [
    "# оставим четные строки для тех, кто подготовился к тесту\n",
    "Completed_ = df_heatmap.loc[::2, :]\n",
    "Completed = Completed_['math score'].tolist()\n",
    "\n",
    "# нечетные - для тех, кто не подготовился\n",
    "No_completed_ = df_heatmap.iloc[1::2]\n",
    "No_completed = No_completed_['math score'].tolist()\n",
    "\n",
    "# классы по оценкам математического теста\n",
    "class_group = ['Mark - 1', 'Mark - 2', 'Mark - 3', 'Mark - 4', 'Mark - 5']"
   ]
  },
  {
   "cell_type": "markdown",
   "metadata": {},
   "source": [
    "Видим, во-первых, что больше сдавших среди неподготовленных респондентов. Во-вторых, положительную оценку получили в больше степени те, кто не подготовился. Откличников среди них так же больше, чем среди подготовленных. То есть при переходе от 0 к 1 количество сдавших математику на лучший результат увеличится."
   ]
  },
  {
   "cell_type": "code",
   "execution_count": 36,
   "metadata": {
    "scrolled": true
   },
   "outputs": [
    {
     "data": {
      "text/html": [
       "<iframe id=\"igraph\" scrolling=\"no\" style=\"border:none;\" seamless=\"seamless\" src=\"https://plot.ly/~Alena99/198.embed\" height=\"525px\" width=\"100%\"></iframe>"
      ],
      "text/plain": [
       "<plotly.tools.PlotlyDisplay object>"
      ]
     },
     "execution_count": 36,
     "metadata": {},
     "output_type": "execute_result"
    }
   ],
   "source": [
    "# создадим все уровни графического исследования для тепловой карты\n",
    "z2=[list(l) for l in zip(Completed , No_completed)]\n",
    "y = class_group\n",
    "x = ['Completed', 'No_completed']\n",
    "trace = go.Heatmap(z=z2, x=x, y=y)\n",
    "\n",
    "layout = go.Layout(title = 'Heatmap',\n",
    "xaxis = dict(title = 'Test preparation course'),\n",
    "yaxis = dict(title = 'Mark'))\n",
    "fig = go.Figure(data = [trace], layout = layout)\n",
    "py.iplot(fig)"
   ]
  },
  {
   "cell_type": "markdown",
   "metadata": {},
   "source": [
    "##### Диаграмма рассеяния для отклика в зависимости от типа этнической группы и оценки по чтению."
   ]
  },
  {
   "cell_type": "markdown",
   "metadata": {},
   "source": [
    "Видим, сильное положительное влияние оценки за тест по математике и чтению: при увеличении одного показателя дургой также увеличится. Этническая группа также оказывает влияние на данные показатели, в частности, на зависимую переменную. Получить хорошую оценку по математическому тесту имеют те, кто неплохо сдал чтение и кто, возможно, принадлежит к этническим группам `D` и `E`."
   ]
  },
  {
   "cell_type": "code",
   "execution_count": 37,
   "metadata": {
    "scrolled": true
   },
   "outputs": [
    {
     "data": {
      "text/html": [
       "<iframe id=\"igraph\" scrolling=\"no\" style=\"border:none;\" seamless=\"seamless\" src=\"https://plot.ly/~Alena99/200.embed\" height=\"525px\" width=\"100%\"></iframe>"
      ],
      "text/plain": [
       "<plotly.tools.PlotlyDisplay object>"
      ]
     },
     "execution_count": 37,
     "metadata": {},
     "output_type": "execute_result"
    }
   ],
   "source": [
    "# используем в качестве цвета датасет с числовыми категориями\n",
    "trace1 = go.Scatter(x = df_train_st['reading score'],\n",
    "    y = df_train_st['math score'],\n",
    "    mode='markers',\n",
    "    marker=dict(\n",
    "        size=16,\n",
    "        color = X_train_st_copy['race/ethnicity'],\n",
    "        colorscale='Viridis',\n",
    "        showscale=True)\n",
    ")\n",
    "\n",
    "layout = go.Layout(title = 'Scatterplot',\n",
    "xaxis = dict(title = 'Reading score'),\n",
    "yaxis = dict(title = 'Math score'))\n",
    "fig = go.Figure(data = [trace1], layout = layout)\n",
    "py.iplot(fig)"
   ]
  },
  {
   "cell_type": "markdown",
   "metadata": {},
   "source": [
    "### A - Выбор моделей"
   ]
  },
  {
   "cell_type": "markdown",
   "metadata": {},
   "source": [
    "##### Будут реализованы следующие модели:\n",
    "* Логит-модель множественного упорядоченного выбора;\n",
    "* RandomForest;\n",
    "* MultinomialNB;\n",
    "\n",
    "##### По следующим причинам:\n",
    "* Строим классификатор (с более чем 2-мя категориями);\n",
    "* Невложенная структура данных (все данные представлены на индивидуальном уровне для респондента);\n",
    "* Данные содержат метки (строим моедль с учителем на тренировочной выборке)."
   ]
  },
  {
   "cell_type": "markdown",
   "metadata": {},
   "source": [
    "### D - Гипотеза"
   ]
  },
  {
   "cell_type": "markdown",
   "metadata": {},
   "source": [
    "На основании графического и корреляционного ананлиза модно сделать вывод, что наиболее влиятельными характеристиками респондента для оценки по математическому тесту являются тип ланча, принадлежность к этнической группе и балл за тест по чтению. Однако, влияние первых двух не так сильно выражено.\n",
    "\n",
    "##### Гипотеза:\n",
    "Тип ланча, принадлежность к этнической группе и балл за тест по чтению в достаточной степени описывают классы оценок по математическому тесту. Влияние первх двух переменных слабее."
   ]
  },
  {
   "cell_type": "markdown",
   "metadata": {},
   "source": [
    "### A - Выбор метрики измерения ошибки и построение baseline модель"
   ]
  },
  {
   "cell_type": "markdown",
   "metadata": {},
   "source": [
    "Ввиду того, что зависимая переменная категориальная, будет использована в качестве \"наивного предсказания\" предсказание самого часто втречающегося класса - 3 класса (то есть оценки 3 за математический тест)."
   ]
  },
  {
   "cell_type": "code",
   "execution_count": 38,
   "metadata": {},
   "outputs": [
    {
     "data": {
      "text/plain": [
       "Counter({1: 91, 2: 132, 3: 175, 4: 147, 5: 125})"
      ]
     },
     "execution_count": 38,
     "metadata": {},
     "output_type": "execute_result"
    }
   ],
   "source": [
    "Counter(y_train_st_factor)"
   ]
  },
  {
   "cell_type": "markdown",
   "metadata": {},
   "source": [
    "Получим 26 % верно предсказанных классов при построении `baseline` на тренировочной выборке."
   ]
  },
  {
   "cell_type": "code",
   "execution_count": 39,
   "metadata": {},
   "outputs": [
    {
     "data": {
      "text/plain": [
       "0.26119402985074625"
      ]
     },
     "execution_count": 39,
     "metadata": {},
     "output_type": "execute_result"
    }
   ],
   "source": [
    "# самый часто втсречающийся класс - 3 (на тренировочной выборке)\n",
    "175/(175+91+132+147+125)"
   ]
  },
  {
   "cell_type": "code",
   "execution_count": 40,
   "metadata": {},
   "outputs": [
    {
     "data": {
      "text/plain": [
       "Counter({0: 1, 1: 58, 2: 57, 3: 95, 4: 68, 5: 51})"
      ]
     },
     "execution_count": 40,
     "metadata": {},
     "output_type": "execute_result"
    }
   ],
   "source": [
    "y_test_st = reset_indexes(y_test_st)\n",
    "y_test_st_factor = create_factor_y(y_test_st['math score'], confines)\n",
    "Counter(y_test_st_factor)"
   ]
  },
  {
   "cell_type": "code",
   "execution_count": 41,
   "metadata": {},
   "outputs": [
    {
     "data": {
      "text/plain": [
       "330"
      ]
     },
     "execution_count": 41,
     "metadata": {},
     "output_type": "execute_result"
    }
   ],
   "source": [
    "len(y_test_st_factor)"
   ]
  },
  {
   "cell_type": "markdown",
   "metadata": {},
   "source": [
    "Предсказываем класс 3 для всей тестовой выборки."
   ]
  },
  {
   "cell_type": "code",
   "execution_count": 42,
   "metadata": {},
   "outputs": [],
   "source": [
    "y_pred_3 = [3 for i in range(0, 330)]"
   ]
  },
  {
   "cell_type": "markdown",
   "metadata": {},
   "source": [
    "Выбираем в качестве основной метрики `score`, то есть долю верно предсказанных классов. Чем больше значение доли, тем меньше значение ошибки при предсказании.\n",
    "\n",
    "Тестируем и видим, что было предсказано 29% по `baseline` для тестовой выборки. Стремимся не получить значение качества модели ниже этого порога для основных моделей при тестировании (и ниже 26% при обучении)."
   ]
  },
  {
   "cell_type": "code",
   "execution_count": 43,
   "metadata": {
    "scrolled": true
   },
   "outputs": [
    {
     "data": {
      "text/plain": [
       "0.2878787878787879"
      ]
     },
     "execution_count": 43,
     "metadata": {},
     "output_type": "execute_result"
    }
   ],
   "source": [
    "metrics.accuracy_score(y_test_st_factor, y_pred_3)"
   ]
  },
  {
   "cell_type": "markdown",
   "metadata": {},
   "source": [
    "### B - Предсказание и тестирование 3-х моделей на кросс-валидации"
   ]
  },
  {
   "cell_type": "markdown",
   "metadata": {},
   "source": [
    "### Лолгит-модель множественного упорядоченного выбора"
   ]
  },
  {
   "cell_type": "markdown",
   "metadata": {},
   "source": [
    "На основании предварительного анализа и сформулированной гипотезы оставим только необходимые переменные."
   ]
  },
  {
   "cell_type": "code",
   "execution_count": 44,
   "metadata": {},
   "outputs": [],
   "source": [
    "X_train_st_copy = X_train_st_copy.iloc[:, 1:4]\n",
    "X_train_st_copy['reading score'] = y_train_st['reading score'].tolist()\n",
    "del X_train_st_copy['parental level of education']"
   ]
  },
  {
   "cell_type": "code",
   "execution_count": 45,
   "metadata": {},
   "outputs": [
    {
     "data": {
      "text/plain": [
       "LogisticRegression(C=1.0, class_weight=None, dual=False, fit_intercept=True,\n",
       "          intercept_scaling=1, max_iter=100, multi_class='ovr', n_jobs=1,\n",
       "          penalty='l2', random_state=None, solver='liblinear', tol=0.0001,\n",
       "          verbose=0, warm_start=False)"
      ]
     },
     "execution_count": 45,
     "metadata": {},
     "output_type": "execute_result"
    }
   ],
   "source": [
    "multi_log = LogisticRegression() \n",
    "multi_log.fit(X_train_st_copy, y_train_st_factor)"
   ]
  },
  {
   "cell_type": "markdown",
   "metadata": {},
   "source": [
    "Доля верно предсказынных классов выше, чем у `baseline`. Однако, значение невысокое (возможно, ввиду включения не сильно связанных с отлкиков предкиторов)."
   ]
  },
  {
   "cell_type": "code",
   "execution_count": 46,
   "metadata": {},
   "outputs": [
    {
     "data": {
      "text/plain": [
       "0.4671641791044776"
      ]
     },
     "execution_count": 46,
     "metadata": {},
     "output_type": "execute_result"
    }
   ],
   "source": [
    "y_pred = multi_log.predict(X_train_st_copy)\n",
    "metrics.accuracy_score(y_train_st_factor, y_pred)"
   ]
  },
  {
   "cell_type": "markdown",
   "metadata": {},
   "source": [
    "##### Кросс-валидация"
   ]
  },
  {
   "cell_type": "markdown",
   "metadata": {},
   "source": [
    "Результаты кросс-валидации подтверждают результат обучения модели."
   ]
  },
  {
   "cell_type": "code",
   "execution_count": 47,
   "metadata": {},
   "outputs": [
    {
     "name": "stdout",
     "output_type": "stream",
     "text": [
      "[0.42647059 0.46666667 0.42105263 0.39849624 0.48120301]\n"
     ]
    }
   ],
   "source": [
    "cv_multi_log = cross_val_score(multi_log, X_train_st_copy, y_train_st_factor, cv = 5)\n",
    "print(cv_multi_log)"
   ]
  },
  {
   "cell_type": "markdown",
   "metadata": {},
   "source": [
    "##### Тестирование"
   ]
  },
  {
   "cell_type": "code",
   "execution_count": 48,
   "metadata": {},
   "outputs": [
    {
     "name": "stderr",
     "output_type": "stream",
     "text": [
      "C:\\Users\\Alii\\Anaconda3\\lib\\site-packages\\ipykernel_launcher.py:1: SettingWithCopyWarning:\n",
      "\n",
      "\n",
      "A value is trying to be set on a copy of a slice from a DataFrame.\n",
      "Try using .loc[row_indexer,col_indexer] = value instead\n",
      "\n",
      "See the caveats in the documentation: http://pandas.pydata.org/pandas-docs/stable/indexing.html#indexing-view-versus-copy\n",
      "\n",
      "C:\\Users\\Alii\\Anaconda3\\lib\\site-packages\\ipykernel_launcher.py:4: SettingWithCopyWarning:\n",
      "\n",
      "\n",
      "A value is trying to be set on a copy of a slice from a DataFrame.\n",
      "Try using .loc[row_indexer,col_indexer] = value instead\n",
      "\n",
      "See the caveats in the documentation: http://pandas.pydata.org/pandas-docs/stable/indexing.html#indexing-view-versus-copy\n",
      "\n"
     ]
    }
   ],
   "source": [
    "X_test_st['degree'] = create_list_of_degree_presence(X_test_st['parental level of education'])\n",
    "\n",
    "for i in X_test_st.columns.tolist():\n",
    "       X_test_st[i] = string_to_numeric_factor(X_test_st[i])"
   ]
  },
  {
   "cell_type": "code",
   "execution_count": 49,
   "metadata": {},
   "outputs": [],
   "source": [
    "X_test_st = X_test_st.iloc[:, 1:4]\n",
    "X_test_st['reading score'] = y_test_st['reading score'].tolist()\n",
    "del X_test_st['parental level of education']"
   ]
  },
  {
   "cell_type": "markdown",
   "metadata": {},
   "source": [
    "Доля верно предсказынных классов выше, чем у `baseline`. Однако, значение невысокое (возможно, ввиду включения не сильно связанных с отлкиков предкиторов)."
   ]
  },
  {
   "cell_type": "code",
   "execution_count": 50,
   "metadata": {},
   "outputs": [
    {
     "data": {
      "text/plain": [
       "0.4818181818181818"
      ]
     },
     "execution_count": 50,
     "metadata": {},
     "output_type": "execute_result"
    }
   ],
   "source": [
    "y_pred_test = multi_log.predict(X_test_st)\n",
    "metrics.accuracy_score(y_test_st_factor, y_pred_test)"
   ]
  },
  {
   "cell_type": "markdown",
   "metadata": {},
   "source": [
    "### RandomForest"
   ]
  },
  {
   "cell_type": "markdown",
   "metadata": {},
   "source": [
    "Доля верно предсказынных классов выше, чем у `baseline`. Однако, значение невысокое (возможно, ввиду включения не сильно связанных с отлкиков предкиторов)."
   ]
  },
  {
   "cell_type": "code",
   "execution_count": 51,
   "metadata": {},
   "outputs": [
    {
     "data": {
      "text/plain": [
       "0.7298507462686568"
      ]
     },
     "execution_count": 51,
     "metadata": {},
     "output_type": "execute_result"
    }
   ],
   "source": [
    "random_forest = RandomForestClassifier(n_estimators=100, random_state = 34)\n",
    "random_forest.fit(X_train_st_copy, y_train_st_factor)\n",
    "pred_train = random_forest.predict(X_train_st_copy)\n",
    "metrics.accuracy_score(y_train_st_factor, pred_train)"
   ]
  },
  {
   "cell_type": "markdown",
   "metadata": {},
   "source": [
    "Результаты кросс-валидации не подтверждают результат обучения модели."
   ]
  },
  {
   "cell_type": "code",
   "execution_count": 52,
   "metadata": {},
   "outputs": [
    {
     "name": "stdout",
     "output_type": "stream",
     "text": [
      "[0.375      0.43703704 0.41353383 0.39097744 0.47368421]\n"
     ]
    }
   ],
   "source": [
    "cv_random_forest = cross_val_score(random_forest, X_train_st_copy, y_train_st_factor, cv = 5)\n",
    "print(cv_random_forest)"
   ]
  },
  {
   "cell_type": "markdown",
   "metadata": {},
   "source": [
    "Доля верно предсказынных классов выше, чем у `baseline`. Однако, значение невысокое (возможно, ввиду включения не сильно связанных с отлкиков предкиторов). Значение ниже, чем у логита."
   ]
  },
  {
   "cell_type": "code",
   "execution_count": 53,
   "metadata": {},
   "outputs": [
    {
     "data": {
      "text/plain": [
       "0.403030303030303"
      ]
     },
     "execution_count": 53,
     "metadata": {},
     "output_type": "execute_result"
    }
   ],
   "source": [
    "pred_test = random_forest.predict(X_test_st)\n",
    "metrics.accuracy_score(y_test_st_factor, pred_test)"
   ]
  },
  {
   "cell_type": "markdown",
   "metadata": {},
   "source": [
    "### MultinomialNB"
   ]
  },
  {
   "cell_type": "markdown",
   "metadata": {},
   "source": [
    "Доля верно предсказынных классов такая же, как и у `baseline`, значение низкое. Возможно, ввиду включения не сильно связанных с отлкиков предкиторов) или ввиду того, что модель не подходит для нашей задачи."
   ]
  },
  {
   "cell_type": "code",
   "execution_count": 54,
   "metadata": {},
   "outputs": [
    {
     "data": {
      "text/plain": [
       "0.26119402985074625"
      ]
     },
     "execution_count": 54,
     "metadata": {},
     "output_type": "execute_result"
    }
   ],
   "source": [
    "nb_classifier = MultinomialNB()\n",
    "nb_classifier.fit(X_train_st_copy, y_train_st_factor)\n",
    "pred_train = nb_classifier.predict(X_train_st_copy)\n",
    "metrics.accuracy_score(y_train_st_factor, pred_train)"
   ]
  },
  {
   "cell_type": "markdown",
   "metadata": {},
   "source": [
    "Результаты кросс-валидации подтверждают результат обучения модели."
   ]
  },
  {
   "cell_type": "code",
   "execution_count": 55,
   "metadata": {},
   "outputs": [
    {
     "name": "stdout",
     "output_type": "stream",
     "text": [
      "[0.27205882 0.25925926 0.26315789 0.27067669 0.26315789]\n"
     ]
    }
   ],
   "source": [
    "cv_nb = cross_val_score(nb_classifier, X_train_st_copy, y_train_st_factor, cv = 5)\n",
    "print(cv_nb)"
   ]
  },
  {
   "cell_type": "markdown",
   "metadata": {},
   "source": [
    "Доля верно предсказынных классов такая же, как и у `baseline`, значение низкое. Возможно, ввиду включения не сильно связанных с отлкиков предкиторов) или ввиду того, что модель не подходит для нашей задачи. Значение ниже, чем у логита и RandomForest."
   ]
  },
  {
   "cell_type": "code",
   "execution_count": 56,
   "metadata": {},
   "outputs": [
    {
     "data": {
      "text/plain": [
       "0.2878787878787879"
      ]
     },
     "execution_count": 56,
     "metadata": {},
     "output_type": "execute_result"
    }
   ],
   "source": [
    "pred = nb_classifier.predict(X_test_st)\n",
    "metrics.accuracy_score(y_test_st_factor, pred)"
   ]
  },
  {
   "cell_type": "markdown",
   "metadata": {},
   "source": [
    "##### На основании метрики качества будет выбрана логит-модель множественного упорядоченного выбора (наиболее высокая доля верно предсказанных классов)."
   ]
  },
  {
   "cell_type": "markdown",
   "metadata": {},
   "source": [
    "### C - Перебор параметров в моделях (минимум 3)"
   ]
  },
  {
   "cell_type": "markdown",
   "metadata": {},
   "source": [
    "##### Логит-модель множественного упорядоченного выбора"
   ]
  },
  {
   "cell_type": "markdown",
   "metadata": {},
   "source": [
    "Поиск по сетке будет реализован для следующих параметров:\n",
    "* `random_state` - начальное число рандомной последовательности (для сохранения и повторения полученных результатов);\n",
    "* `C` - параметр сглаживания (борется с переобучением);\n",
    "* `penalty` - штраф."
   ]
  },
  {
   "cell_type": "code",
   "execution_count": 57,
   "metadata": {},
   "outputs": [],
   "source": [
    "param_grid = dict(random_state=[42, 53, 100], C = [0.01, 0.1, 1, 10],\n",
    "                 penalty = ['l1', 'l2'])"
   ]
  },
  {
   "cell_type": "code",
   "execution_count": 58,
   "metadata": {},
   "outputs": [
    {
     "data": {
      "text/plain": [
       "GridSearchCV(cv=5, error_score='raise',\n",
       "       estimator=LogisticRegression(C=1.0, class_weight=None, dual=False, fit_intercept=True,\n",
       "          intercept_scaling=1, max_iter=100, multi_class='ovr', n_jobs=1,\n",
       "          penalty='l2', random_state=None, solver='liblinear', tol=0.0001,\n",
       "          verbose=0, warm_start=False),\n",
       "       fit_params=None, iid=True, n_jobs=1,\n",
       "       param_grid={'random_state': [42, 53, 100], 'C': [0.01, 0.1, 1, 10], 'penalty': ['l1', 'l2']},\n",
       "       pre_dispatch='2*n_jobs', refit=True, return_train_score='warn',\n",
       "       scoring=None, verbose=0)"
      ]
     },
     "execution_count": 58,
     "metadata": {},
     "output_type": "execute_result"
    }
   ],
   "source": [
    "gr_multi_log = GridSearchCV(LogisticRegression(), param_grid, cv =5)\n",
    "gr_multi_log.fit(X_train_st_copy, y_train_st_factor)"
   ]
  },
  {
   "cell_type": "code",
   "execution_count": 59,
   "metadata": {},
   "outputs": [
    {
     "data": {
      "text/plain": [
       "{'C': 10, 'penalty': 'l1', 'random_state': 100}"
      ]
     },
     "execution_count": 59,
     "metadata": {},
     "output_type": "execute_result"
    }
   ],
   "source": [
    "gr_multi_log.best_params_ # лучшие параметры после поиска по сетке"
   ]
  },
  {
   "cell_type": "markdown",
   "metadata": {},
   "source": [
    "Оценим модель с лучшими параметрами."
   ]
  },
  {
   "cell_type": "code",
   "execution_count": 60,
   "metadata": {},
   "outputs": [
    {
     "data": {
      "text/plain": [
       "0.4671641791044776"
      ]
     },
     "execution_count": 60,
     "metadata": {},
     "output_type": "execute_result"
    }
   ],
   "source": [
    "best_multi_log = LogisticRegression(C = 10, penalty='l1', random_state=100)\n",
    "best_multi_log.fit(X_train_st_copy, y_train_st_factor)\n",
    "y_pred_best = best_multi_log.predict(X_train_st_copy) # train score\n",
    "metrics.accuracy_score(y_train_st_factor, y_pred_best)"
   ]
  },
  {
   "cell_type": "markdown",
   "metadata": {},
   "source": [
    "Значение метрики качества выше, чем у предшествующего логита."
   ]
  },
  {
   "cell_type": "code",
   "execution_count": 61,
   "metadata": {},
   "outputs": [
    {
     "data": {
      "text/plain": [
       "0.5060606060606061"
      ]
     },
     "execution_count": 61,
     "metadata": {},
     "output_type": "execute_result"
    }
   ],
   "source": [
    "# test\n",
    "y_pred_best_test = best_multi_log.predict(X_test_st)\n",
    "metrics.accuracy_score(y_test_st_factor, y_pred_best_test)"
   ]
  },
  {
   "cell_type": "markdown",
   "metadata": {},
   "source": [
    "##### RandomForest"
   ]
  },
  {
   "cell_type": "markdown",
   "metadata": {},
   "source": [
    "Поиск по сетке будет реализован для следующих параметров:\n",
    "* `random_state` - начальное число рандомной последовательности (для сохранения и повторения полученных результатов);\n",
    "* `n_estimators` - количество деревьев (глубина модели);\n",
    "* `max_features` - разныые подходы к оценке количества features (например, sqrt(n_features))."
   ]
  },
  {
   "cell_type": "code",
   "execution_count": 62,
   "metadata": {},
   "outputs": [],
   "source": [
    "param_grid1 = { \n",
    "    'random_state': [42, 53, 100],\n",
    "    'n_estimators': [50, 100, 150],\n",
    "    'max_features': ['auto', 'sqrt', 'log2']\n",
    "}"
   ]
  },
  {
   "cell_type": "code",
   "execution_count": 63,
   "metadata": {},
   "outputs": [
    {
     "data": {
      "text/plain": [
       "GridSearchCV(cv=5, error_score='raise',\n",
       "       estimator=RandomForestClassifier(bootstrap=True, class_weight=None, criterion='gini',\n",
       "            max_depth=None, max_features='auto', max_leaf_nodes=None,\n",
       "            min_impurity_decrease=0.0, min_impurity_split=None,\n",
       "            min_samples_leaf=1, min_samples_split=2,\n",
       "            min_weight_fraction_leaf=0.0, n_estimators=10, n_jobs=1,\n",
       "            oob_score=False, random_state=None, verbose=0,\n",
       "            warm_start=False),\n",
       "       fit_params=None, iid=True, n_jobs=1,\n",
       "       param_grid={'random_state': [42, 53, 100], 'n_estimators': [50, 100, 150], 'max_features': ['auto', 'sqrt', 'log2']},\n",
       "       pre_dispatch='2*n_jobs', refit=True, return_train_score='warn',\n",
       "       scoring=None, verbose=0)"
      ]
     },
     "execution_count": 63,
     "metadata": {},
     "output_type": "execute_result"
    }
   ],
   "source": [
    "gr_rf = GridSearchCV(RandomForestClassifier(), param_grid1, cv = 5)\n",
    "gr_rf.fit(X_train_st_copy, y_train_st_factor)"
   ]
  },
  {
   "cell_type": "code",
   "execution_count": 64,
   "metadata": {},
   "outputs": [
    {
     "data": {
      "text/plain": [
       "{'max_features': 'auto', 'n_estimators': 150, 'random_state': 53}"
      ]
     },
     "execution_count": 64,
     "metadata": {},
     "output_type": "execute_result"
    }
   ],
   "source": [
    "gr_rf.best_params_ # лучшие параметры после поиска по сетке"
   ]
  },
  {
   "cell_type": "markdown",
   "metadata": {},
   "source": [
    "Оценим модель с лучшими параметрами."
   ]
  },
  {
   "cell_type": "code",
   "execution_count": 65,
   "metadata": {},
   "outputs": [
    {
     "data": {
      "text/plain": [
       "0.7298507462686568"
      ]
     },
     "execution_count": 65,
     "metadata": {},
     "output_type": "execute_result"
    }
   ],
   "source": [
    "best_rf = RandomForestClassifier(max_features = 'auto', n_estimators = 150, random_state = 53)\n",
    "best_rf.fit(X_train_st_copy, y_train_st_factor)\n",
    "y_pred_best = best_rf.predict(X_train_st_copy) # train score\n",
    "metrics.accuracy_score(y_train_st_factor, y_pred_best)"
   ]
  },
  {
   "cell_type": "markdown",
   "metadata": {},
   "source": [
    "Значение метрики качества выше, чем у предшествующего RandomForest."
   ]
  },
  {
   "cell_type": "code",
   "execution_count": 66,
   "metadata": {},
   "outputs": [
    {
     "data": {
      "text/plain": [
       "0.41818181818181815"
      ]
     },
     "execution_count": 66,
     "metadata": {},
     "output_type": "execute_result"
    }
   ],
   "source": [
    "# test score\n",
    "y_pred_best_test = best_rf.predict(X_test_st)\n",
    "metrics.accuracy_score(y_test_st_factor, y_pred_best_test)"
   ]
  },
  {
   "cell_type": "markdown",
   "metadata": {},
   "source": [
    "##### MultinomialNB"
   ]
  },
  {
   "cell_type": "markdown",
   "metadata": {},
   "source": [
    "Поиск по сетке будет реализован для следующих параметров:\n",
    "* `fit_prior` - неоходимо ли предобучение;\n",
    "* `alpha` - параметр сглаживания (борется с переобучением);\n",
    "* `class_prior` - задан ли изначальный класс."
   ]
  },
  {
   "cell_type": "code",
   "execution_count": 67,
   "metadata": {},
   "outputs": [],
   "source": [
    "param_grid2 = { \n",
    "    'alpha': [1, 0.1, 0.01, 0.001],\n",
    "    'fit_prior': [True, False],\n",
    "    'class_prior': [None]\n",
    "}"
   ]
  },
  {
   "cell_type": "code",
   "execution_count": 68,
   "metadata": {},
   "outputs": [
    {
     "data": {
      "text/plain": [
       "GridSearchCV(cv=5, error_score='raise',\n",
       "       estimator=MultinomialNB(alpha=1.0, class_prior=None, fit_prior=True),\n",
       "       fit_params=None, iid=True, n_jobs=1,\n",
       "       param_grid={'alpha': [1, 0.1, 0.01, 0.001], 'fit_prior': [True, False], 'class_prior': [None]},\n",
       "       pre_dispatch='2*n_jobs', refit=True, return_train_score='warn',\n",
       "       scoring=None, verbose=0)"
      ]
     },
     "execution_count": 68,
     "metadata": {},
     "output_type": "execute_result"
    }
   ],
   "source": [
    "gr_nb = GridSearchCV(MultinomialNB(), param_grid2, cv = 5)\n",
    "gr_nb.fit(X_train_st_copy, y_train_st_factor)"
   ]
  },
  {
   "cell_type": "code",
   "execution_count": 69,
   "metadata": {},
   "outputs": [
    {
     "data": {
      "text/plain": [
       "{'alpha': 1, 'class_prior': None, 'fit_prior': True}"
      ]
     },
     "execution_count": 69,
     "metadata": {},
     "output_type": "execute_result"
    }
   ],
   "source": [
    "gr_nb.best_params_ # лучшие параметры после поиска по сетке"
   ]
  },
  {
   "cell_type": "markdown",
   "metadata": {},
   "source": [
    "Оценим модель с лучшими параметрами."
   ]
  },
  {
   "cell_type": "code",
   "execution_count": 70,
   "metadata": {},
   "outputs": [
    {
     "data": {
      "text/plain": [
       "0.26119402985074625"
      ]
     },
     "execution_count": 70,
     "metadata": {},
     "output_type": "execute_result"
    }
   ],
   "source": [
    "best_nb = MultinomialNB(alpha=1, class_prior=None, fit_prior=True)\n",
    "best_nb.fit(X_train_st_copy, y_train_st_factor)\n",
    "y_pred_best = best_nb.predict(X_train_st_copy) # train score\n",
    "metrics.accuracy_score(y_train_st_factor, y_pred_best)"
   ]
  },
  {
   "cell_type": "markdown",
   "metadata": {},
   "source": [
    "Значение метрики качества осталось неизменным."
   ]
  },
  {
   "cell_type": "code",
   "execution_count": 71,
   "metadata": {},
   "outputs": [
    {
     "data": {
      "text/plain": [
       "0.2878787878787879"
      ]
     },
     "execution_count": 71,
     "metadata": {},
     "output_type": "execute_result"
    }
   ],
   "source": [
    "# test score\n",
    "y_pred_best_test = best_nb.predict(X_test_st)\n",
    "metrics.accuracy_score(y_test_st_factor, y_pred_best_test)"
   ]
  },
  {
   "cell_type": "markdown",
   "metadata": {},
   "source": [
    "# Результат"
   ]
  },
  {
   "cell_type": "markdown",
   "metadata": {},
   "source": [
    "В качестве итоговой модели выбираем логит множественного упорядоченного выбора с подобранными лучшими коэффициентами поиском по сетке (50% верно предсказанных классов).\n",
    "\n",
    "Тип ланча, принадлежность к этнической группе и балл за тест по чтению только на 50 % описывают классы оценок по математическому тесту.\n",
    "\n",
    "В будещем можно сделать следующее:\n",
    "* Включить дополнительные показатели, возможно, с удалением некоторых из исследуемых;\n",
    "* Попробовать подобрать еще какие-нибудь модели;\n",
    "* Изменить подход к шкалированию зависимой переменной (или обойтись вообще без шкалирования)."
   ]
  }
 ],
 "metadata": {
  "kernelspec": {
   "display_name": "Python 3",
   "language": "python",
   "name": "python3"
  },
  "language_info": {
   "codemirror_mode": {
    "name": "ipython",
    "version": 3
   },
   "file_extension": ".py",
   "mimetype": "text/x-python",
   "name": "python",
   "nbconvert_exporter": "python",
   "pygments_lexer": "ipython3",
   "version": "3.6.5"
  }
 },
 "nbformat": 4,
 "nbformat_minor": 2
}
