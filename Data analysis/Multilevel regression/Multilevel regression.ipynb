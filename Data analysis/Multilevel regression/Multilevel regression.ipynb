{
 "cells": [
  {
   "cell_type": "markdown",
   "metadata": {},
   "source": [
    "# Многоуровневый анализ"
   ]
  },
  {
   "cell_type": "markdown",
   "metadata": {},
   "source": [
    "Импортируем необходимые библиотеки."
   ]
  },
  {
   "cell_type": "markdown",
   "metadata": {},
   "source": [
    "\n",
    "Команда прогоняется в `Anaconda Prompt` 1 раз.\n",
    "Нужно раскомментировать, прогнать и снова закомментировать."
   ]
  },
  {
   "cell_type": "code",
   "execution_count": 1,
   "metadata": {},
   "outputs": [],
   "source": [
    "# conda install -c anaconda seaborn=0.9.0"
   ]
  },
  {
   "cell_type": "markdown",
   "metadata": {},
   "source": [
    " "
   ]
  },
  {
   "cell_type": "code",
   "execution_count": 2,
   "metadata": {},
   "outputs": [
    {
     "name": "stderr",
     "output_type": "stream",
     "text": [
      "C:\\Users\\Alii\\Anaconda3\\lib\\site-packages\\statsmodels\\compat\\pandas.py:56: FutureWarning: The pandas.core.datetools module is deprecated and will be removed in a future version. Please use the pandas.tseries module instead.\n",
      "  from pandas.core import datetools\n"
     ]
    }
   ],
   "source": [
    "# Основные библиотеки для работы с данными\n",
    "import pandas as pd\n",
    "import numpy as np\n",
    "\n",
    "# Библиотеки и функции для построения модели со смешанными эффектами (в частности, для проведения многоуровневого анализа)\n",
    "import statsmodels.api as sm\n",
    "import statsmodels.formula.api as smf\n",
    "from statsmodels.regression.mixed_linear_model import MixedLMParams\n",
    "\n",
    "# Библиотеки для визуализации полученных результатов\n",
    "import seaborn as sns\n",
    "import matplotlib.pyplot as plt"
   ]
  },
  {
   "cell_type": "code",
   "execution_count": 3,
   "metadata": {},
   "outputs": [],
   "source": [
    "import math"
   ]
  },
  {
   "cell_type": "code",
   "execution_count": 4,
   "metadata": {},
   "outputs": [],
   "source": [
    "from statsmodels.regression.mixed_linear_model import MixedLMParams"
   ]
  },
  {
   "cell_type": "markdown",
   "metadata": {},
   "source": [
    "Открываем базу данных."
   ]
  },
  {
   "cell_type": "code",
   "execution_count": 5,
   "metadata": {},
   "outputs": [],
   "source": [
    "multilevel = pd.read_stata('multilevel_10.11 (1).dta')"
   ]
  },
  {
   "cell_type": "markdown",
   "metadata": {},
   "source": [
    "Смотрим на описательные статистики нашей базы."
   ]
  },
  {
   "cell_type": "code",
   "execution_count": 6,
   "metadata": {},
   "outputs": [
    {
     "data": {
      "text/html": [
       "<div>\n",
       "<style scoped>\n",
       "    .dataframe tbody tr th:only-of-type {\n",
       "        vertical-align: middle;\n",
       "    }\n",
       "\n",
       "    .dataframe tbody tr th {\n",
       "        vertical-align: top;\n",
       "    }\n",
       "\n",
       "    .dataframe thead th {\n",
       "        text-align: right;\n",
       "    }\n",
       "</style>\n",
       "<table border=\"1\" class=\"dataframe\">\n",
       "  <thead>\n",
       "    <tr style=\"text-align: right;\">\n",
       "      <th></th>\n",
       "      <th>house</th>\n",
       "      <th>state</th>\n",
       "      <th>lastname</th>\n",
       "      <th>votepct</th>\n",
       "      <th>party</th>\n",
       "      <th>money</th>\n",
       "      <th>acres</th>\n",
       "    </tr>\n",
       "  </thead>\n",
       "  <tbody>\n",
       "    <tr>\n",
       "      <th>0</th>\n",
       "      <td>Senate</td>\n",
       "      <td>AK</td>\n",
       "      <td>Murkowski</td>\n",
       "      <td>0.842105</td>\n",
       "      <td>Republican</td>\n",
       "      <td>9.166</td>\n",
       "      <td>0.0</td>\n",
       "    </tr>\n",
       "    <tr>\n",
       "      <th>1</th>\n",
       "      <td>Senate</td>\n",
       "      <td>AK</td>\n",
       "      <td>Stevens</td>\n",
       "      <td>0.846154</td>\n",
       "      <td>Republican</td>\n",
       "      <td>0.000</td>\n",
       "      <td>0.0</td>\n",
       "    </tr>\n",
       "    <tr>\n",
       "      <th>2</th>\n",
       "      <td>House</td>\n",
       "      <td>AK</td>\n",
       "      <td>Young</td>\n",
       "      <td>0.571429</td>\n",
       "      <td>Republican</td>\n",
       "      <td>23.500</td>\n",
       "      <td>0.0</td>\n",
       "    </tr>\n",
       "    <tr>\n",
       "      <th>3</th>\n",
       "      <td>Senate</td>\n",
       "      <td>AL</td>\n",
       "      <td>Sessions</td>\n",
       "      <td>0.871795</td>\n",
       "      <td>Republican</td>\n",
       "      <td>-0.800</td>\n",
       "      <td>0.0</td>\n",
       "    </tr>\n",
       "    <tr>\n",
       "      <th>4</th>\n",
       "      <td>Senate</td>\n",
       "      <td>AL</td>\n",
       "      <td>Shelby</td>\n",
       "      <td>0.641026</td>\n",
       "      <td>Republican</td>\n",
       "      <td>24.166</td>\n",
       "      <td>0.0</td>\n",
       "    </tr>\n",
       "    <tr>\n",
       "      <th>5</th>\n",
       "      <td>House</td>\n",
       "      <td>AL</td>\n",
       "      <td>Aderholt</td>\n",
       "      <td>0.900000</td>\n",
       "      <td>Republican</td>\n",
       "      <td>35.000</td>\n",
       "      <td>0.0</td>\n",
       "    </tr>\n",
       "    <tr>\n",
       "      <th>6</th>\n",
       "      <td>House</td>\n",
       "      <td>AL</td>\n",
       "      <td>Bachus</td>\n",
       "      <td>0.666667</td>\n",
       "      <td>Republican</td>\n",
       "      <td>3.000</td>\n",
       "      <td>0.0</td>\n",
       "    </tr>\n",
       "    <tr>\n",
       "      <th>7</th>\n",
       "      <td>House</td>\n",
       "      <td>AL</td>\n",
       "      <td>Callahan</td>\n",
       "      <td>0.777778</td>\n",
       "      <td>Republican</td>\n",
       "      <td>5.500</td>\n",
       "      <td>0.0</td>\n",
       "    </tr>\n",
       "    <tr>\n",
       "      <th>8</th>\n",
       "      <td>House</td>\n",
       "      <td>AL</td>\n",
       "      <td>Cramer</td>\n",
       "      <td>0.888889</td>\n",
       "      <td>Democrat</td>\n",
       "      <td>14.050</td>\n",
       "      <td>0.0</td>\n",
       "    </tr>\n",
       "    <tr>\n",
       "      <th>9</th>\n",
       "      <td>House</td>\n",
       "      <td>AL</td>\n",
       "      <td>Everett</td>\n",
       "      <td>1.000000</td>\n",
       "      <td>Republican</td>\n",
       "      <td>6.000</td>\n",
       "      <td>0.0</td>\n",
       "    </tr>\n",
       "  </tbody>\n",
       "</table>\n",
       "</div>"
      ],
      "text/plain": [
       "    house state   lastname   votepct       party   money  acres\n",
       "0  Senate    AK  Murkowski  0.842105  Republican   9.166    0.0\n",
       "1  Senate    AK    Stevens  0.846154  Republican   0.000    0.0\n",
       "2   House    AK      Young  0.571429  Republican  23.500    0.0\n",
       "3  Senate    AL   Sessions  0.871795  Republican  -0.800    0.0\n",
       "4  Senate    AL     Shelby  0.641026  Republican  24.166    0.0\n",
       "5   House    AL   Aderholt  0.900000  Republican  35.000    0.0\n",
       "6   House    AL     Bachus  0.666667  Republican   3.000    0.0\n",
       "7   House    AL   Callahan  0.777778  Republican   5.500    0.0\n",
       "8   House    AL     Cramer  0.888889    Democrat  14.050    0.0\n",
       "9   House    AL    Everett  1.000000  Republican   6.000    0.0"
      ]
     },
     "execution_count": 6,
     "metadata": {},
     "output_type": "execute_result"
    }
   ],
   "source": [
    "multilevel.head(10)"
   ]
  },
  {
   "cell_type": "code",
   "execution_count": 7,
   "metadata": {},
   "outputs": [
    {
     "data": {
      "text/html": [
       "<div>\n",
       "<style scoped>\n",
       "    .dataframe tbody tr th:only-of-type {\n",
       "        vertical-align: middle;\n",
       "    }\n",
       "\n",
       "    .dataframe tbody tr th {\n",
       "        vertical-align: top;\n",
       "    }\n",
       "\n",
       "    .dataframe thead th {\n",
       "        text-align: right;\n",
       "    }\n",
       "</style>\n",
       "<table border=\"1\" class=\"dataframe\">\n",
       "  <thead>\n",
       "    <tr style=\"text-align: right;\">\n",
       "      <th></th>\n",
       "      <th>votepct</th>\n",
       "      <th>money</th>\n",
       "      <th>acres</th>\n",
       "    </tr>\n",
       "  </thead>\n",
       "  <tbody>\n",
       "    <tr>\n",
       "      <th>count</th>\n",
       "      <td>527.000000</td>\n",
       "      <td>527.000000</td>\n",
       "      <td>527.000000</td>\n",
       "    </tr>\n",
       "    <tr>\n",
       "      <th>mean</th>\n",
       "      <td>0.517968</td>\n",
       "      <td>12.955907</td>\n",
       "      <td>14.278861</td>\n",
       "    </tr>\n",
       "    <tr>\n",
       "      <th>std</th>\n",
       "      <td>0.348285</td>\n",
       "      <td>18.437599</td>\n",
       "      <td>41.497424</td>\n",
       "    </tr>\n",
       "    <tr>\n",
       "      <th>min</th>\n",
       "      <td>0.000000</td>\n",
       "      <td>-2.500000</td>\n",
       "      <td>0.000000</td>\n",
       "    </tr>\n",
       "    <tr>\n",
       "      <th>25%</th>\n",
       "      <td>0.200000</td>\n",
       "      <td>0.000000</td>\n",
       "      <td>0.000000</td>\n",
       "    </tr>\n",
       "    <tr>\n",
       "      <th>50%</th>\n",
       "      <td>0.594595</td>\n",
       "      <td>4.500000</td>\n",
       "      <td>0.000000</td>\n",
       "    </tr>\n",
       "    <tr>\n",
       "      <th>75%</th>\n",
       "      <td>0.846154</td>\n",
       "      <td>20.500000</td>\n",
       "      <td>6.500000</td>\n",
       "    </tr>\n",
       "    <tr>\n",
       "      <th>max</th>\n",
       "      <td>1.000000</td>\n",
       "      <td>113.100000</td>\n",
       "      <td>221.650000</td>\n",
       "    </tr>\n",
       "  </tbody>\n",
       "</table>\n",
       "</div>"
      ],
      "text/plain": [
       "          votepct       money       acres\n",
       "count  527.000000  527.000000  527.000000\n",
       "mean     0.517968   12.955907   14.278861\n",
       "std      0.348285   18.437599   41.497424\n",
       "min      0.000000   -2.500000    0.000000\n",
       "25%      0.200000    0.000000    0.000000\n",
       "50%      0.594595    4.500000    0.000000\n",
       "75%      0.846154   20.500000    6.500000\n",
       "max      1.000000  113.100000  221.650000"
      ]
     },
     "execution_count": 7,
     "metadata": {},
     "output_type": "execute_result"
    }
   ],
   "source": [
    "multilevel.describe()"
   ]
  },
  {
   "cell_type": "code",
   "execution_count": 8,
   "metadata": {},
   "outputs": [
    {
     "name": "stdout",
     "output_type": "stream",
     "text": [
      "<class 'pandas.core.frame.DataFrame'>\n",
      "Int64Index: 527 entries, 0 to 526\n",
      "Data columns (total 7 columns):\n",
      "house       527 non-null category\n",
      "state       527 non-null object\n",
      "lastname    527 non-null object\n",
      "votepct     527 non-null float64\n",
      "party       527 non-null category\n",
      "money       527 non-null float64\n",
      "acres       527 non-null float64\n",
      "dtypes: category(2), float64(3), object(2)\n",
      "memory usage: 25.9+ KB\n"
     ]
    }
   ],
   "source": [
    "multilevel.info()"
   ]
  },
  {
   "cell_type": "markdown",
   "metadata": {},
   "source": [
    "# Нулевая модель (без включения предикторов)"
   ]
  },
  {
   "cell_type": "markdown",
   "metadata": {},
   "source": [
    "Прогоняем нулевую модель (на константу)."
   ]
  },
  {
   "cell_type": "code",
   "execution_count": 9,
   "metadata": {},
   "outputs": [],
   "source": [
    "null = smf.mixedlm(\"votepct ~ 1\",\n",
    "                   data=multilevel,\n",
    "                   groups=multilevel[\"state\"]\n",
    "                  ).fit()"
   ]
  },
  {
   "cell_type": "code",
   "execution_count": 10,
   "metadata": {},
   "outputs": [
    {
     "data": {
      "text/html": [
       "<table class=\"simpletable\">\n",
       "<tr>\n",
       "       <td>Model:</td>       <td>MixedLM</td> <td>Dependent Variable:</td>  <td>votepct</td> \n",
       "</tr>\n",
       "<tr>\n",
       "  <td>No. Observations:</td>   <td>527</td>         <td>Method:</td>         <td>REML</td>   \n",
       "</tr>\n",
       "<tr>\n",
       "     <td>No. Groups:</td>      <td>50</td>          <td>Scale:</td>         <td>0.0926</td>  \n",
       "</tr>\n",
       "<tr>\n",
       "  <td>Min. group size:</td>     <td>2</td>        <td>Likelihood:</td>     <td>-159.3981</td>\n",
       "</tr>\n",
       "<tr>\n",
       "  <td>Max. group size:</td>    <td>55</td>        <td>Converged:</td>         <td>Yes</td>   \n",
       "</tr>\n",
       "<tr>\n",
       "  <td>Mean group size:</td>   <td>10.5</td>            <td></td>               <td></td>     \n",
       "</tr>\n",
       "</table>\n",
       "<table class=\"simpletable\">\n",
       "<tr>\n",
       "      <td></td>      <th>Coef.</th> <th>Std.Err.</th>    <th>z</th>   <th>P>|z|</th> <th>[0.025</th> <th>0.975]</th>\n",
       "</tr>\n",
       "<tr>\n",
       "  <th>Intercept</th> <td>0.531</td>   <td>0.031</td>  <td>16.861</td> <td>0.000</td>  <td>0.469</td>  <td>0.593</td>\n",
       "</tr>\n",
       "<tr>\n",
       "  <th>groups RE</th> <td>0.036</td>   <td>0.035</td>     <td></td>      <td></td>       <td></td>       <td></td>   \n",
       "</tr>\n",
       "</table>"
      ],
      "text/plain": [
       "<class 'statsmodels.iolib.summary2.Summary'>\n",
       "\"\"\"\n",
       "         Mixed Linear Model Regression Results\n",
       "=======================================================\n",
       "Model:            MixedLM Dependent Variable: votepct  \n",
       "No. Observations: 527     Method:             REML     \n",
       "No. Groups:       50      Scale:              0.0926   \n",
       "Min. group size:  2       Likelihood:         -159.3981\n",
       "Max. group size:  55      Converged:          Yes      \n",
       "Mean group size:  10.5                                 \n",
       "-------------------------------------------------------\n",
       "              Coef. Std.Err.   z    P>|z| [0.025 0.975]\n",
       "-------------------------------------------------------\n",
       "Intercept     0.531    0.031 16.861 0.000  0.469  0.593\n",
       "groups RE     0.036    0.035                           \n",
       "=======================================================\n",
       "\n",
       "\"\"\""
      ]
     },
     "execution_count": 10,
     "metadata": {},
     "output_type": "execute_result"
    }
   ],
   "source": [
    "null.summary()"
   ]
  },
  {
   "cell_type": "markdown",
   "metadata": {},
   "source": [
    "Реализуем подсчет ICC, где:\n",
    "* `Std.Err. of Group Var` = Variance of Intercept (аналог в R, `0.035`);\n",
    "* `Scale` = Variance of Residual (аналог в R, `0.0926`)."
   ]
  },
  {
   "cell_type": "code",
   "execution_count": 11,
   "metadata": {},
   "outputs": [
    {
     "data": {
      "text/plain": [
       "0.27429467084639503"
      ]
     },
     "execution_count": 11,
     "metadata": {},
     "output_type": "execute_result"
    }
   ],
   "source": [
    "0.035/(0.035+0.0926)"
   ]
  },
  {
   "cell_type": "markdown",
   "metadata": {},
   "source": [
    "Проверяем подсчет ICC, равномерно ли распределено групповое отклонение?"
   ]
  },
  {
   "cell_type": "code",
   "execution_count": 12,
   "metadata": {},
   "outputs": [],
   "source": [
    "# создадим датасет с реальными группированными средними, где группа - штат, а значение - votepct.\n",
    "multi_grouped = multilevel.groupby('state')['votepct'].mean()\n",
    "multi_grouped_s = multi_grouped.sort_values()"
   ]
  },
  {
   "cell_type": "code",
   "execution_count": 13,
   "metadata": {},
   "outputs": [],
   "source": [
    "# создаем все необходимые переменные для псевдоданных\n",
    "x = list(multilevel['votepct'])\n",
    "nreps = 1000\n",
    "grpid = list(multilevel['state'])\n",
    "\n",
    "matrix_nan = np.zeros((len(multi_grouped_s.index), nreps))\n",
    "df_nan = pd.DataFrame(matrix_nan.fill(np.nan))"
   ]
  },
  {
   "cell_type": "code",
   "execution_count": 14,
   "metadata": {},
   "outputs": [],
   "source": [
    "def string_to_numeric_factor(x):\n",
    "    classnames, indices = np.unique(x, return_inverse=True)\n",
    "    return indices"
   ]
  },
  {
   "cell_type": "code",
   "execution_count": 15,
   "metadata": {},
   "outputs": [],
   "source": [
    "# аналог функции mix.data в R\n",
    "def create_mixed_data_with_new_indexes(nreps, x, grpid, df_nan):\n",
    "    for i in range(nreps):\n",
    "        TDAT = pd.DataFrame({'random':np.random.normal(size=len(grpid)), 'grpid':grpid, 'x':x}).sort_values(by='random')\n",
    "        TDAT['grpid'] = string_to_numeric_factor(TDAT['grpid'])\n",
    "        newid = pd.DataFrame({'newid':list(TDAT[['grpid']].sort_values(by='grpid')['grpid'])})\n",
    "        TOUT = pd.concat([newid.reset_index(drop=True),TDAT[['grpid', 'x']].reset_index(drop=True)], axis=1) \n",
    "        df_nan.loc[:, i] = list(TOUT.groupby('newid')['x'].mean().sort_values().values)\n",
    "    return df_nan"
   ]
  },
  {
   "cell_type": "code",
   "execution_count": 16,
   "metadata": {},
   "outputs": [],
   "source": [
    "df_random = create_mixed_data_with_new_indexes(nreps, x, grpid, df_nan)"
   ]
  },
  {
   "cell_type": "code",
   "execution_count": 17,
   "metadata": {},
   "outputs": [],
   "source": [
    "# создание псевдосреднего значений, псевдозначений верхнего и нижнего квантилей\n",
    "ps_mean = pd.DataFrame({\"mean\":list(df_random.mean(axis=1).values)})\n",
    "ps_lci = pd.DataFrame({\"lci\":list(df_random.quantile(q=0.025, axis=1).values)})\n",
    "ps_hci = pd.DataFrame({\"hci\":list(df_random.quantile(q=0.975, axis=1).values)})"
   ]
  },
  {
   "cell_type": "code",
   "execution_count": 18,
   "metadata": {},
   "outputs": [
    {
     "data": {
      "text/plain": [
       "<matplotlib.axes._subplots.AxesSubplot at 0x1ce2c4efac8>"
      ]
     },
     "execution_count": 18,
     "metadata": {},
     "output_type": "execute_result"
    },
    {
     "data": {
      "image/png": "[encoded data removed]",
      "text/plain": [
       "<matplotlib.figure.Figure at 0x1ce2c5108d0>"
      ]
     },
     "metadata": {},
     "output_type": "display_data"
    }
   ],
   "source": [
    "# распределение среднего группового для зависимой переменной\n",
    "sns.set(rc={'figure.figsize':(15,11)},\n",
    "        font_scale = 1.15,\n",
    "       )\n",
    "ax = sns.barplot(x = multi_grouped_s.index, y = multi_grouped_s.values, palette=\"Blues_d\")\n",
    "ax.set_title('Graph Random Group versus Actual Group distributions')\n",
    "ax.set(xlabel='State', ylabel='Group Average')\n",
    "\n",
    "# добавление линий псевдосредних значений, псевдозначений верхнего и нижнего квантилей на столбчатый график\n",
    "ps_lci['lci'].plot(kind='line', linestyle='--', secondary_y=True, color='black')\n",
    "ps_mean['mean'].plot(kind='line', secondary_y=True, color='black')\n",
    "ps_hci['hci'].plot(kind='line', linestyle='--', secondary_y=True, color='black')"
   ]
  },
  {
   "cell_type": "markdown",
   "metadata": {},
   "source": [
    "Посмотрим значение `p-value` константы, а также откроем словарь `случайных эффектов на константу` для нулевой модели."
   ]
  },
  {
   "cell_type": "code",
   "execution_count": 19,
   "metadata": {},
   "outputs": [
    {
     "data": {
      "text/plain": [
       "Intercept    8.760272e-64\n",
       "groups RE    6.719947e-04\n",
       "dtype: float64"
      ]
     },
     "execution_count": 19,
     "metadata": {},
     "output_type": "execute_result"
    }
   ],
   "source": [
    "null.pvalues"
   ]
  },
  {
   "cell_type": "code",
   "execution_count": 20,
   "metadata": {},
   "outputs": [
    {
     "data": {
      "text/plain": [
       "{'AK': groups    0.120273\n",
       " dtype: float64, 'AL': groups    0.222423\n",
       " dtype: float64, 'AR': groups    0.077868\n",
       " dtype: float64, 'AZ': groups    0.114955\n",
       " dtype: float64, 'CA': groups   -0.084415\n",
       " dtype: float64, 'CO': groups    0.116765\n",
       " dtype: float64, 'CT': groups   -0.278815\n",
       " dtype: float64, 'DE': groups   -0.088133\n",
       " dtype: float64, 'FL': groups    0.036846\n",
       " dtype: float64, 'GA': groups    0.150802\n",
       " dtype: float64, 'HI': groups   -0.19536\n",
       " dtype: float64, 'IA': groups   -0.011031\n",
       " dtype: float64, 'ID': groups    0.180719\n",
       " dtype: float64, 'IL': groups   -0.038191\n",
       " dtype: float64, 'IN': groups    0.122412\n",
       " dtype: float64, 'KS': groups    0.133628\n",
       " dtype: float64, 'KY': groups    0.307202\n",
       " dtype: float64, 'LA': groups    0.146669\n",
       " dtype: float64, 'MA': groups   -0.413861\n",
       " dtype: float64, 'MD': groups   -0.169856\n",
       " dtype: float64, 'ME': groups   -0.157182\n",
       " dtype: float64, 'MI': groups   -0.113688\n",
       " dtype: float64, 'MN': groups   -0.119402\n",
       " dtype: float64, 'MO': groups    0.097103\n",
       " dtype: float64, 'MS': groups    0.13504\n",
       " dtype: float64, 'MT': groups    0.018733\n",
       " dtype: float64, 'NC': groups    0.254828\n",
       " dtype: float64, 'ND': groups   -0.205538\n",
       " dtype: float64, 'NE': groups    0.086077\n",
       " dtype: float64, 'NH': groups    0.147605\n",
       " dtype: float64, 'NJ': groups   -0.181354\n",
       " dtype: float64, 'NM': groups    0.013656\n",
       " dtype: float64, 'NV': groups   -0.155615\n",
       " dtype: float64, 'NY': groups   -0.17163\n",
       " dtype: float64, 'OH': groups   -0.039632\n",
       " dtype: float64, 'OK': groups    0.267423\n",
       " dtype: float64, 'OR': groups   -0.152866\n",
       " dtype: float64, 'PA': groups   -0.05899\n",
       " dtype: float64, 'RI': groups   -0.252089\n",
       " dtype: float64, 'SC': groups    0.190846\n",
       " dtype: float64, 'SD': groups   -0.137874\n",
       " dtype: float64, 'TN': groups    0.158136\n",
       " dtype: float64, 'TX': groups    0.067215\n",
       " dtype: float64, 'UT': groups    0.038608\n",
       " dtype: float64, 'VA': groups    0.129628\n",
       " dtype: float64, 'VT': groups   -0.137713\n",
       " dtype: float64, 'WA': groups   -0.124425\n",
       " dtype: float64, 'WI': groups   -0.115213\n",
       " dtype: float64, 'WV': groups   -0.130026\n",
       " dtype: float64, 'WY': groups    0.197438\n",
       " dtype: float64}"
      ]
     },
     "execution_count": 20,
     "metadata": {},
     "output_type": "execute_result"
    }
   ],
   "source": [
    "null.random_effects"
   ]
  },
  {
   "cell_type": "markdown",
   "metadata": {},
   "source": [
    "# 1 модель (с включением 1-го предиктора индивидуального уровня)"
   ]
  },
  {
   "cell_type": "markdown",
   "metadata": {},
   "source": [
    "Прогоняем модель с включением фиксированных эффектов для индивидуального уровня."
   ]
  },
  {
   "cell_type": "code",
   "execution_count": 21,
   "metadata": {},
   "outputs": [],
   "source": [
    "model1 = smf.mixedlm(\"votepct ~ money\",\n",
    "                     data=multilevel,\n",
    "                     groups=multilevel[\"state\"]\n",
    "                    ).fit()"
   ]
  },
  {
   "cell_type": "markdown",
   "metadata": {},
   "source": [
    "https://www.statsmodels.org/dev/examples/notebooks/generated/mixed_lm_example.html"
   ]
  },
  {
   "cell_type": "code",
   "execution_count": 22,
   "metadata": {},
   "outputs": [
    {
     "data": {
      "text/html": [
       "<table class=\"simpletable\">\n",
       "<tr>\n",
       "       <td>Model:</td>       <td>MixedLM</td> <td>Dependent Variable:</td>  <td>votepct</td> \n",
       "</tr>\n",
       "<tr>\n",
       "  <td>No. Observations:</td>   <td>527</td>         <td>Method:</td>         <td>REML</td>   \n",
       "</tr>\n",
       "<tr>\n",
       "     <td>No. Groups:</td>      <td>50</td>          <td>Scale:</td>         <td>0.0822</td>  \n",
       "</tr>\n",
       "<tr>\n",
       "  <td>Min. group size:</td>     <td>2</td>        <td>Likelihood:</td>     <td>-123.8722</td>\n",
       "</tr>\n",
       "<tr>\n",
       "  <td>Max. group size:</td>    <td>55</td>        <td>Converged:</td>         <td>Yes</td>   \n",
       "</tr>\n",
       "<tr>\n",
       "  <td>Mean group size:</td>   <td>10.5</td>            <td></td>               <td></td>     \n",
       "</tr>\n",
       "</table>\n",
       "<table class=\"simpletable\">\n",
       "<tr>\n",
       "      <td></td>      <th>Coef.</th> <th>Std.Err.</th>    <th>z</th>   <th>P>|z|</th> <th>[0.025</th> <th>0.975]</th>\n",
       "</tr>\n",
       "<tr>\n",
       "  <th>Intercept</th> <td>0.429</td>   <td>0.026</td>  <td>16.271</td> <td>0.000</td>  <td>0.377</td>  <td>0.481</td>\n",
       "</tr>\n",
       "<tr>\n",
       "  <th>money</th>     <td>0.008</td>   <td>0.001</td>   <td>9.526</td> <td>0.000</td>  <td>0.006</td>  <td>0.009</td>\n",
       "</tr>\n",
       "<tr>\n",
       "  <th>groups RE</th> <td>0.018</td>   <td>0.023</td>     <td></td>      <td></td>       <td></td>       <td></td>   \n",
       "</tr>\n",
       "</table>"
      ],
      "text/plain": [
       "<class 'statsmodels.iolib.summary2.Summary'>\n",
       "\"\"\"\n",
       "         Mixed Linear Model Regression Results\n",
       "=======================================================\n",
       "Model:            MixedLM Dependent Variable: votepct  \n",
       "No. Observations: 527     Method:             REML     \n",
       "No. Groups:       50      Scale:              0.0822   \n",
       "Min. group size:  2       Likelihood:         -123.8722\n",
       "Max. group size:  55      Converged:          Yes      \n",
       "Mean group size:  10.5                                 \n",
       "-------------------------------------------------------\n",
       "              Coef. Std.Err.   z    P>|z| [0.025 0.975]\n",
       "-------------------------------------------------------\n",
       "Intercept     0.429    0.026 16.271 0.000  0.377  0.481\n",
       "money         0.008    0.001  9.526 0.000  0.006  0.009\n",
       "groups RE     0.018    0.023                           \n",
       "=======================================================\n",
       "\n",
       "\"\"\""
      ]
     },
     "execution_count": 22,
     "metadata": {},
     "output_type": "execute_result"
    }
   ],
   "source": [
    "model1.summary()"
   ]
  },
  {
   "cell_type": "markdown",
   "metadata": {},
   "source": [
    "Посмотрим на полученные случайные эффекты на константу в модели с включением переменной индивидуального уровня."
   ]
  },
  {
   "cell_type": "code",
   "execution_count": 23,
   "metadata": {},
   "outputs": [
    {
     "data": {
      "text/plain": [
       "{'AK': groups    0.095289\n",
       " dtype: float64, 'AL': groups    0.169434\n",
       " dtype: float64, 'AR': groups    0.093805\n",
       " dtype: float64, 'AZ': groups    0.114068\n",
       " dtype: float64, 'CA': groups   -0.035564\n",
       " dtype: float64, 'CO': groups    0.107141\n",
       " dtype: float64, 'CT': groups   -0.190001\n",
       " dtype: float64, 'DE': groups   -0.067758\n",
       " dtype: float64, 'FL': groups    0.043279\n",
       " dtype: float64, 'GA': groups    0.021535\n",
       " dtype: float64, 'HI': groups   -0.115818\n",
       " dtype: float64, 'IA': groups   -0.013804\n",
       " dtype: float64, 'ID': groups    0.125061\n",
       " dtype: float64, 'IL': groups   -0.004651\n",
       " dtype: float64, 'IN': groups    0.119207\n",
       " dtype: float64, 'KS': groups    0.130712\n",
       " dtype: float64, 'KY': groups    0.055314\n",
       " dtype: float64, 'LA': groups    0.094672\n",
       " dtype: float64, 'MA': groups   -0.288018\n",
       " dtype: float64, 'MD': groups   -0.104751\n",
       " dtype: float64, 'ME': groups   -0.080599\n",
       " dtype: float64, 'MI': groups   -0.0736\n",
       " dtype: float64, 'MN': groups   -0.094283\n",
       " dtype: float64, 'MO': groups    0.086994\n",
       " dtype: float64, 'MS': groups    0.101392\n",
       " dtype: float64, 'MT': groups   -0.035493\n",
       " dtype: float64, 'NC': groups    0.016169\n",
       " dtype: float64, 'ND': groups   -0.136656\n",
       " dtype: float64, 'NE': groups    0.067267\n",
       " dtype: float64, 'NH': groups    0.107886\n",
       " dtype: float64, 'NJ': groups   -0.102589\n",
       " dtype: float64, 'NM': groups    0.048347\n",
       " dtype: float64, 'NV': groups   -0.093963\n",
       " dtype: float64, 'NY': groups   -0.124024\n",
       " dtype: float64, 'OH': groups   -0.032535\n",
       " dtype: float64, 'OK': groups    0.228222\n",
       " dtype: float64, 'OR': groups   -0.064301\n",
       " dtype: float64, 'PA': groups   -0.033614\n",
       " dtype: float64, 'RI': groups   -0.147063\n",
       " dtype: float64, 'SC': groups    0.110685\n",
       " dtype: float64, 'SD': groups   -0.07683\n",
       " dtype: float64, 'TN': groups    0.033788\n",
       " dtype: float64, 'TX': groups    0.05462\n",
       " dtype: float64, 'UT': groups    0.065842\n",
       " dtype: float64, 'VA': groups    0.007289\n",
       " dtype: float64, 'VT': groups   -0.065199\n",
       " dtype: float64, 'WA': groups   -0.064418\n",
       " dtype: float64, 'WI': groups   -0.076744\n",
       " dtype: float64, 'WV': groups   -0.093028\n",
       " dtype: float64, 'WY': groups    0.117289\n",
       " dtype: float64}"
      ]
     },
     "execution_count": 23,
     "metadata": {},
     "output_type": "execute_result"
    }
   ],
   "source": [
    "model1.random_effects"
   ]
  },
  {
   "cell_type": "markdown",
   "metadata": {},
   "source": [
    "Посмотрим, действительно ли случайные эффекты на константу значимо отличны? Перескают ли границы их доверительных интервалов 0?"
   ]
  },
  {
   "cell_type": "code",
   "execution_count": 24,
   "metadata": {},
   "outputs": [],
   "source": [
    "def calc_sqrt_cov_const_random_effects(mixed_model):\n",
    "    cov_data = list(mixed_model.random_effects_cov.values())\n",
    "    cov_const = [cov_data[i].values[0][0] for i in range(len(cov_data))]\n",
    "    sqrt_cov_const = [math.sqrt(cov_const[j]) for j in range(len(cov_const))]\n",
    "    return sqrt_cov_const"
   ]
  },
  {
   "cell_type": "code",
   "execution_count": 25,
   "metadata": {},
   "outputs": [],
   "source": [
    "# возьмем квадратный корень от каждого случайного эффекта в условной ковариционной матрице\n",
    "sqrt_cov_const = calc_sqrt_cov_const_random_effects(model1)"
   ]
  },
  {
   "cell_type": "code",
   "execution_count": 26,
   "metadata": {},
   "outputs": [],
   "source": [
    "def get_const_random_effects(mixed_model):\n",
    "    random_eff_data = list(mixed_model.random_effects.values())\n",
    "    random_eff_const = [random_eff_data[i].values[0] for i in range(len(random_eff_data))]\n",
    "    return random_eff_const"
   ]
  },
  {
   "cell_type": "code",
   "execution_count": 27,
   "metadata": {},
   "outputs": [],
   "source": [
    "# создадим отдельный датасет со значениями случайных эффектов на константу, штатами и полученными квадратными корнями\n",
    "random_eff_const = get_const_random_effects(model1)\n",
    "states = list(null.random_effects)\n",
    "dt_for_graph = pd.DataFrame({'random_eff_const':random_eff_const, 'states':states, \n",
    "                             'sqrt_cov_const': sqrt_cov_const}\n",
    "                           ).sort_values(by='random_eff_const',\n",
    "                                         ascending=False\n",
    "                                        )"
   ]
  },
  {
   "cell_type": "code",
   "execution_count": 28,
   "metadata": {},
   "outputs": [
    {
     "name": "stdout",
     "output_type": "stream",
     "text": [
      "-0.11263981366341716 0.3032175097196257\n"
     ]
    }
   ],
   "source": [
    "# посмотрим на границы доверительного интервала 1-го штата (AK)\n",
    "lci = random_eff_const[0] - sqrt_cov_const[0]*2\n",
    "hci = random_eff_const[0] + sqrt_cov_const[0]*2\n",
    "print(lci, hci)"
   ]
  },
  {
   "cell_type": "code",
   "execution_count": 29,
   "metadata": {},
   "outputs": [],
   "source": [
    "# в качестве новых индексов зададим названия штатов\n",
    "dt_for_graph1 = dt_for_graph.copy()\n",
    "values = dt_for_graph1.set_index('states')"
   ]
  },
  {
   "cell_type": "code",
   "execution_count": 30,
   "metadata": {},
   "outputs": [
    {
     "data": {
      "text/plain": [
       "<Container object of 3 artists>"
      ]
     },
     "execution_count": 30,
     "metadata": {},
     "output_type": "execute_result"
    },
    {
     "data": {
      "image/png": "[encoded data removed]",
      "text/plain": [
       "<matplotlib.figure.Figure at 0x1ce2c7854a8>"
      ]
     },
     "metadata": {},
     "output_type": "display_data"
    }
   ],
   "source": [
    "plt.errorbar(values.index, values.random_eff_const, yerr=2*values.sqrt_cov_const, \n",
    "             animated = True, color ='purple', fmt='o'\n",
    "            )"
   ]
  },
  {
   "cell_type": "markdown",
   "metadata": {},
   "source": [
    "То же самое только без границ доверительных интервалов."
   ]
  },
  {
   "cell_type": "code",
   "execution_count": 31,
   "metadata": {},
   "outputs": [
    {
     "data": {
      "text/plain": [
       "<matplotlib.axes._subplots.AxesSubplot at 0x1ce2c892518>"
      ]
     },
     "execution_count": 31,
     "metadata": {},
     "output_type": "execute_result"
    },
    {
     "data": {
      "image/png": "[encoded data removed]",
      "text/plain": [
       "<matplotlib.figure.Figure at 0x1ce2c88e278>"
      ]
     },
     "metadata": {},
     "output_type": "display_data"
    }
   ],
   "source": [
    "sns.stripplot(x='random_eff_const', y='states', data=dt_for_graph, palette='rainbow_r', size = 8)"
   ]
  },
  {
   "cell_type": "markdown",
   "metadata": {},
   "source": [
    "Получим BLUP-значения для константы и на наклон (без включения случайных эффектов на наклон)."
   ]
  },
  {
   "cell_type": "code",
   "execution_count": 32,
   "metadata": {},
   "outputs": [],
   "source": [
    "def get_constant_and_slope_BLUP_with_the_same_slope(mixed_model, name_of_individual_variable):\n",
    "    random_eff_const = list(mixed_model.random_effects.values())\n",
    "    BLUP_const = [random_eff_const[i].values[0] + mixed_model.params[0] for i in range(len(random_eff_const))]\n",
    "    BLUP_slope = [mixed_model.params[name_of_individual_variable]] * len(BLUP_const)\n",
    "    df_BLUP_const = pd.DataFrame({\"State_unique\":list(mixed_model.random_effects), \n",
    "                                  \"BLUP_const\": BLUP_const, \"BLUP_slope\": BLUP_slope\n",
    "                                 }\n",
    "                                )\n",
    "    return df_BLUP_const"
   ]
  },
  {
   "cell_type": "markdown",
   "metadata": {},
   "source": [
    "Видим, что наклон одинаков для всех штатов."
   ]
  },
  {
   "cell_type": "code",
   "execution_count": 33,
   "metadata": {},
   "outputs": [
    {
     "data": {
      "text/html": [
       "<div>\n",
       "<style scoped>\n",
       "    .dataframe tbody tr th:only-of-type {\n",
       "        vertical-align: middle;\n",
       "    }\n",
       "\n",
       "    .dataframe tbody tr th {\n",
       "        vertical-align: top;\n",
       "    }\n",
       "\n",
       "    .dataframe thead th {\n",
       "        text-align: right;\n",
       "    }\n",
       "</style>\n",
       "<table border=\"1\" class=\"dataframe\">\n",
       "  <thead>\n",
       "    <tr style=\"text-align: right;\">\n",
       "      <th></th>\n",
       "      <th>BLUP_const</th>\n",
       "      <th>BLUP_slope</th>\n",
       "      <th>State_unique</th>\n",
       "    </tr>\n",
       "  </thead>\n",
       "  <tbody>\n",
       "    <tr>\n",
       "      <th>0</th>\n",
       "      <td>0.524346</td>\n",
       "      <td>0.00759</td>\n",
       "      <td>AK</td>\n",
       "    </tr>\n",
       "    <tr>\n",
       "      <th>1</th>\n",
       "      <td>0.598492</td>\n",
       "      <td>0.00759</td>\n",
       "      <td>AL</td>\n",
       "    </tr>\n",
       "    <tr>\n",
       "      <th>2</th>\n",
       "      <td>0.522863</td>\n",
       "      <td>0.00759</td>\n",
       "      <td>AR</td>\n",
       "    </tr>\n",
       "    <tr>\n",
       "      <th>3</th>\n",
       "      <td>0.543125</td>\n",
       "      <td>0.00759</td>\n",
       "      <td>AZ</td>\n",
       "    </tr>\n",
       "    <tr>\n",
       "      <th>4</th>\n",
       "      <td>0.393494</td>\n",
       "      <td>0.00759</td>\n",
       "      <td>CA</td>\n",
       "    </tr>\n",
       "    <tr>\n",
       "      <th>5</th>\n",
       "      <td>0.536198</td>\n",
       "      <td>0.00759</td>\n",
       "      <td>CO</td>\n",
       "    </tr>\n",
       "    <tr>\n",
       "      <th>6</th>\n",
       "      <td>0.239056</td>\n",
       "      <td>0.00759</td>\n",
       "      <td>CT</td>\n",
       "    </tr>\n",
       "    <tr>\n",
       "      <th>7</th>\n",
       "      <td>0.361300</td>\n",
       "      <td>0.00759</td>\n",
       "      <td>DE</td>\n",
       "    </tr>\n",
       "    <tr>\n",
       "      <th>8</th>\n",
       "      <td>0.472336</td>\n",
       "      <td>0.00759</td>\n",
       "      <td>FL</td>\n",
       "    </tr>\n",
       "    <tr>\n",
       "      <th>9</th>\n",
       "      <td>0.450592</td>\n",
       "      <td>0.00759</td>\n",
       "      <td>GA</td>\n",
       "    </tr>\n",
       "    <tr>\n",
       "      <th>10</th>\n",
       "      <td>0.313240</td>\n",
       "      <td>0.00759</td>\n",
       "      <td>HI</td>\n",
       "    </tr>\n",
       "    <tr>\n",
       "      <th>11</th>\n",
       "      <td>0.415253</td>\n",
       "      <td>0.00759</td>\n",
       "      <td>IA</td>\n",
       "    </tr>\n",
       "    <tr>\n",
       "      <th>12</th>\n",
       "      <td>0.554118</td>\n",
       "      <td>0.00759</td>\n",
       "      <td>ID</td>\n",
       "    </tr>\n",
       "    <tr>\n",
       "      <th>13</th>\n",
       "      <td>0.424407</td>\n",
       "      <td>0.00759</td>\n",
       "      <td>IL</td>\n",
       "    </tr>\n",
       "    <tr>\n",
       "      <th>14</th>\n",
       "      <td>0.548265</td>\n",
       "      <td>0.00759</td>\n",
       "      <td>IN</td>\n",
       "    </tr>\n",
       "    <tr>\n",
       "      <th>15</th>\n",
       "      <td>0.559769</td>\n",
       "      <td>0.00759</td>\n",
       "      <td>KS</td>\n",
       "    </tr>\n",
       "    <tr>\n",
       "      <th>16</th>\n",
       "      <td>0.484371</td>\n",
       "      <td>0.00759</td>\n",
       "      <td>KY</td>\n",
       "    </tr>\n",
       "    <tr>\n",
       "      <th>17</th>\n",
       "      <td>0.523730</td>\n",
       "      <td>0.00759</td>\n",
       "      <td>LA</td>\n",
       "    </tr>\n",
       "    <tr>\n",
       "      <th>18</th>\n",
       "      <td>0.141039</td>\n",
       "      <td>0.00759</td>\n",
       "      <td>MA</td>\n",
       "    </tr>\n",
       "    <tr>\n",
       "      <th>19</th>\n",
       "      <td>0.324306</td>\n",
       "      <td>0.00759</td>\n",
       "      <td>MD</td>\n",
       "    </tr>\n",
       "    <tr>\n",
       "      <th>20</th>\n",
       "      <td>0.348458</td>\n",
       "      <td>0.00759</td>\n",
       "      <td>ME</td>\n",
       "    </tr>\n",
       "    <tr>\n",
       "      <th>21</th>\n",
       "      <td>0.355458</td>\n",
       "      <td>0.00759</td>\n",
       "      <td>MI</td>\n",
       "    </tr>\n",
       "    <tr>\n",
       "      <th>22</th>\n",
       "      <td>0.334774</td>\n",
       "      <td>0.00759</td>\n",
       "      <td>MN</td>\n",
       "    </tr>\n",
       "    <tr>\n",
       "      <th>23</th>\n",
       "      <td>0.516051</td>\n",
       "      <td>0.00759</td>\n",
       "      <td>MO</td>\n",
       "    </tr>\n",
       "    <tr>\n",
       "      <th>24</th>\n",
       "      <td>0.530449</td>\n",
       "      <td>0.00759</td>\n",
       "      <td>MS</td>\n",
       "    </tr>\n",
       "    <tr>\n",
       "      <th>25</th>\n",
       "      <td>0.393564</td>\n",
       "      <td>0.00759</td>\n",
       "      <td>MT</td>\n",
       "    </tr>\n",
       "    <tr>\n",
       "      <th>26</th>\n",
       "      <td>0.445226</td>\n",
       "      <td>0.00759</td>\n",
       "      <td>NC</td>\n",
       "    </tr>\n",
       "    <tr>\n",
       "      <th>27</th>\n",
       "      <td>0.292401</td>\n",
       "      <td>0.00759</td>\n",
       "      <td>ND</td>\n",
       "    </tr>\n",
       "    <tr>\n",
       "      <th>28</th>\n",
       "      <td>0.496325</td>\n",
       "      <td>0.00759</td>\n",
       "      <td>NE</td>\n",
       "    </tr>\n",
       "    <tr>\n",
       "      <th>29</th>\n",
       "      <td>0.536943</td>\n",
       "      <td>0.00759</td>\n",
       "      <td>NH</td>\n",
       "    </tr>\n",
       "    <tr>\n",
       "      <th>30</th>\n",
       "      <td>0.326468</td>\n",
       "      <td>0.00759</td>\n",
       "      <td>NJ</td>\n",
       "    </tr>\n",
       "    <tr>\n",
       "      <th>31</th>\n",
       "      <td>0.477404</td>\n",
       "      <td>0.00759</td>\n",
       "      <td>NM</td>\n",
       "    </tr>\n",
       "    <tr>\n",
       "      <th>32</th>\n",
       "      <td>0.335094</td>\n",
       "      <td>0.00759</td>\n",
       "      <td>NV</td>\n",
       "    </tr>\n",
       "    <tr>\n",
       "      <th>33</th>\n",
       "      <td>0.305034</td>\n",
       "      <td>0.00759</td>\n",
       "      <td>NY</td>\n",
       "    </tr>\n",
       "    <tr>\n",
       "      <th>34</th>\n",
       "      <td>0.396522</td>\n",
       "      <td>0.00759</td>\n",
       "      <td>OH</td>\n",
       "    </tr>\n",
       "    <tr>\n",
       "      <th>35</th>\n",
       "      <td>0.657280</td>\n",
       "      <td>0.00759</td>\n",
       "      <td>OK</td>\n",
       "    </tr>\n",
       "    <tr>\n",
       "      <th>36</th>\n",
       "      <td>0.364757</td>\n",
       "      <td>0.00759</td>\n",
       "      <td>OR</td>\n",
       "    </tr>\n",
       "    <tr>\n",
       "      <th>37</th>\n",
       "      <td>0.395444</td>\n",
       "      <td>0.00759</td>\n",
       "      <td>PA</td>\n",
       "    </tr>\n",
       "    <tr>\n",
       "      <th>38</th>\n",
       "      <td>0.281994</td>\n",
       "      <td>0.00759</td>\n",
       "      <td>RI</td>\n",
       "    </tr>\n",
       "    <tr>\n",
       "      <th>39</th>\n",
       "      <td>0.539742</td>\n",
       "      <td>0.00759</td>\n",
       "      <td>SC</td>\n",
       "    </tr>\n",
       "    <tr>\n",
       "      <th>40</th>\n",
       "      <td>0.352227</td>\n",
       "      <td>0.00759</td>\n",
       "      <td>SD</td>\n",
       "    </tr>\n",
       "    <tr>\n",
       "      <th>41</th>\n",
       "      <td>0.462845</td>\n",
       "      <td>0.00759</td>\n",
       "      <td>TN</td>\n",
       "    </tr>\n",
       "    <tr>\n",
       "      <th>42</th>\n",
       "      <td>0.483678</td>\n",
       "      <td>0.00759</td>\n",
       "      <td>TX</td>\n",
       "    </tr>\n",
       "    <tr>\n",
       "      <th>43</th>\n",
       "      <td>0.494900</td>\n",
       "      <td>0.00759</td>\n",
       "      <td>UT</td>\n",
       "    </tr>\n",
       "    <tr>\n",
       "      <th>44</th>\n",
       "      <td>0.436347</td>\n",
       "      <td>0.00759</td>\n",
       "      <td>VA</td>\n",
       "    </tr>\n",
       "    <tr>\n",
       "      <th>45</th>\n",
       "      <td>0.363859</td>\n",
       "      <td>0.00759</td>\n",
       "      <td>VT</td>\n",
       "    </tr>\n",
       "    <tr>\n",
       "      <th>46</th>\n",
       "      <td>0.364639</td>\n",
       "      <td>0.00759</td>\n",
       "      <td>WA</td>\n",
       "    </tr>\n",
       "    <tr>\n",
       "      <th>47</th>\n",
       "      <td>0.352313</td>\n",
       "      <td>0.00759</td>\n",
       "      <td>WI</td>\n",
       "    </tr>\n",
       "    <tr>\n",
       "      <th>48</th>\n",
       "      <td>0.336030</td>\n",
       "      <td>0.00759</td>\n",
       "      <td>WV</td>\n",
       "    </tr>\n",
       "    <tr>\n",
       "      <th>49</th>\n",
       "      <td>0.546347</td>\n",
       "      <td>0.00759</td>\n",
       "      <td>WY</td>\n",
       "    </tr>\n",
       "  </tbody>\n",
       "</table>\n",
       "</div>"
      ],
      "text/plain": [
       "    BLUP_const  BLUP_slope State_unique\n",
       "0     0.524346     0.00759           AK\n",
       "1     0.598492     0.00759           AL\n",
       "2     0.522863     0.00759           AR\n",
       "3     0.543125     0.00759           AZ\n",
       "4     0.393494     0.00759           CA\n",
       "5     0.536198     0.00759           CO\n",
       "6     0.239056     0.00759           CT\n",
       "7     0.361300     0.00759           DE\n",
       "8     0.472336     0.00759           FL\n",
       "9     0.450592     0.00759           GA\n",
       "10    0.313240     0.00759           HI\n",
       "11    0.415253     0.00759           IA\n",
       "12    0.554118     0.00759           ID\n",
       "13    0.424407     0.00759           IL\n",
       "14    0.548265     0.00759           IN\n",
       "15    0.559769     0.00759           KS\n",
       "16    0.484371     0.00759           KY\n",
       "17    0.523730     0.00759           LA\n",
       "18    0.141039     0.00759           MA\n",
       "19    0.324306     0.00759           MD\n",
       "20    0.348458     0.00759           ME\n",
       "21    0.355458     0.00759           MI\n",
       "22    0.334774     0.00759           MN\n",
       "23    0.516051     0.00759           MO\n",
       "24    0.530449     0.00759           MS\n",
       "25    0.393564     0.00759           MT\n",
       "26    0.445226     0.00759           NC\n",
       "27    0.292401     0.00759           ND\n",
       "28    0.496325     0.00759           NE\n",
       "29    0.536943     0.00759           NH\n",
       "30    0.326468     0.00759           NJ\n",
       "31    0.477404     0.00759           NM\n",
       "32    0.335094     0.00759           NV\n",
       "33    0.305034     0.00759           NY\n",
       "34    0.396522     0.00759           OH\n",
       "35    0.657280     0.00759           OK\n",
       "36    0.364757     0.00759           OR\n",
       "37    0.395444     0.00759           PA\n",
       "38    0.281994     0.00759           RI\n",
       "39    0.539742     0.00759           SC\n",
       "40    0.352227     0.00759           SD\n",
       "41    0.462845     0.00759           TN\n",
       "42    0.483678     0.00759           TX\n",
       "43    0.494900     0.00759           UT\n",
       "44    0.436347     0.00759           VA\n",
       "45    0.363859     0.00759           VT\n",
       "46    0.364639     0.00759           WA\n",
       "47    0.352313     0.00759           WI\n",
       "48    0.336030     0.00759           WV\n",
       "49    0.546347     0.00759           WY"
      ]
     },
     "execution_count": 33,
     "metadata": {},
     "output_type": "execute_result"
    }
   ],
   "source": [
    "get_constant_and_slope_BLUP_with_the_same_slope(model1, 'money')"
   ]
  },
  {
   "cell_type": "markdown",
   "metadata": {},
   "source": [
    "### Дополнительный вариант реализации данной модели"
   ]
  },
  {
   "cell_type": "code",
   "execution_count": 34,
   "metadata": {},
   "outputs": [],
   "source": [
    "endog = multilevel[\"votepct\"]\n",
    "multilevel[\"Intercept\"] = 0.429\n",
    "exog = multilevel[[\"Intercept\", \"money\"]]\n",
    "groups = multilevel[\"state\"]"
   ]
  },
  {
   "cell_type": "code",
   "execution_count": 35,
   "metadata": {},
   "outputs": [],
   "source": [
    "model_dop = sm.MixedLM(endog, exog, groups = multilevel[\"state\"], exog_re=exog[\"Intercept\"]).fit()"
   ]
  },
  {
   "cell_type": "markdown",
   "metadata": {},
   "source": [
    "# 2 модель (с включением 2-х предикторов индивидуального уровня)"
   ]
  },
  {
   "cell_type": "markdown",
   "metadata": {},
   "source": [
    "Добавляем еще один предиктор индивидуального уровня."
   ]
  },
  {
   "cell_type": "code",
   "execution_count": 36,
   "metadata": {},
   "outputs": [
    {
     "name": "stderr",
     "output_type": "stream",
     "text": [
      "C:\\Users\\Alii\\Anaconda3\\lib\\site-packages\\statsmodels\\regression\\mixed_linear_model.py:2019: ConvergenceWarning: The MLE may be on the boundary of the parameter space.\n",
      "  warnings.warn(msg, ConvergenceWarning)\n"
     ]
    }
   ],
   "source": [
    "model2 = smf.mixedlm(\"votepct ~ money + party\",\n",
    "                     data=multilevel,\n",
    "                     groups=multilevel[\"state\"]\n",
    "                    ).fit()"
   ]
  },
  {
   "cell_type": "code",
   "execution_count": 37,
   "metadata": {},
   "outputs": [
    {
     "data": {
      "text/html": [
       "<table class=\"simpletable\">\n",
       "<tr>\n",
       "       <td>Model:</td>       <td>MixedLM</td> <td>Dependent Variable:</td>  <td>votepct</td>\n",
       "</tr>\n",
       "<tr>\n",
       "  <td>No. Observations:</td>   <td>527</td>         <td>Method:</td>         <td>REML</td>  \n",
       "</tr>\n",
       "<tr>\n",
       "     <td>No. Groups:</td>      <td>50</td>          <td>Scale:</td>         <td>0.0294</td> \n",
       "</tr>\n",
       "<tr>\n",
       "  <td>Min. group size:</td>     <td>2</td>        <td>Likelihood:</td>     <td>142.8494</td>\n",
       "</tr>\n",
       "<tr>\n",
       "  <td>Max. group size:</td>    <td>55</td>        <td>Converged:</td>         <td>Yes</td>  \n",
       "</tr>\n",
       "<tr>\n",
       "  <td>Mean group size:</td>   <td>10.5</td>            <td></td>               <td></td>    \n",
       "</tr>\n",
       "</table>\n",
       "<table class=\"simpletable\">\n",
       "<tr>\n",
       "           <td></td>           <th>Coef.</th> <th>Std.Err.</th>    <th>z</th>   <th>P>|z|</th> <th>[0.025</th> <th>0.975]</th>\n",
       "</tr>\n",
       "<tr>\n",
       "  <th>Intercept</th>           <td>0.200</td>   <td>0.018</td>  <td>11.400</td> <td>0.000</td>  <td>0.166</td>  <td>0.234</td>\n",
       "</tr>\n",
       "<tr>\n",
       "  <th>party[T.Republican]</th> <td>0.496</td>   <td>0.016</td>  <td>30.493</td> <td>0.000</td>  <td>0.464</td>  <td>0.528</td>\n",
       "</tr>\n",
       "<tr>\n",
       "  <th>money</th>               <td>0.004</td>   <td>0.000</td>   <td>9.022</td> <td>0.000</td>  <td>0.003</td>  <td>0.005</td>\n",
       "</tr>\n",
       "<tr>\n",
       "  <th>groups RE</th>           <td>0.006</td>   <td>0.014</td>     <td></td>      <td></td>       <td></td>       <td></td>   \n",
       "</tr>\n",
       "</table>"
      ],
      "text/plain": [
       "<class 'statsmodels.iolib.summary2.Summary'>\n",
       "\"\"\"\n",
       "            Mixed Linear Model Regression Results\n",
       "=============================================================\n",
       "Model:               MixedLM   Dependent Variable:   votepct \n",
       "No. Observations:    527       Method:               REML    \n",
       "No. Groups:          50        Scale:                0.0294  \n",
       "Min. group size:     2         Likelihood:           142.8494\n",
       "Max. group size:     55        Converged:            Yes     \n",
       "Mean group size:     10.5                                    \n",
       "-------------------------------------------------------------\n",
       "                    Coef. Std.Err.   z    P>|z| [0.025 0.975]\n",
       "-------------------------------------------------------------\n",
       "Intercept           0.200    0.018 11.400 0.000  0.166  0.234\n",
       "party[T.Republican] 0.496    0.016 30.493 0.000  0.464  0.528\n",
       "money               0.004    0.000  9.022 0.000  0.003  0.005\n",
       "groups RE           0.006    0.014                           \n",
       "=============================================================\n",
       "\n",
       "\"\"\""
      ]
     },
     "execution_count": 37,
     "metadata": {},
     "output_type": "execute_result"
    }
   ],
   "source": [
    "model2.summary()"
   ]
  },
  {
   "cell_type": "markdown",
   "metadata": {},
   "source": [
    "# 3 модель (с включением 1-го предиктора странового уровня)"
   ]
  },
  {
   "cell_type": "markdown",
   "metadata": {},
   "source": [
    "Добавляем переменную второго уровня."
   ]
  },
  {
   "cell_type": "code",
   "execution_count": 38,
   "metadata": {},
   "outputs": [
    {
     "name": "stderr",
     "output_type": "stream",
     "text": [
      "C:\\Users\\Alii\\Anaconda3\\lib\\site-packages\\statsmodels\\regression\\mixed_linear_model.py:2019: ConvergenceWarning: The MLE may be on the boundary of the parameter space.\n",
      "  warnings.warn(msg, ConvergenceWarning)\n"
     ]
    }
   ],
   "source": [
    "model3 = smf.mixedlm(\"votepct ~ money + party + acres\",\n",
    "                     data=multilevel,\n",
    "                     groups=multilevel[\"state\"]\n",
    "                    ).fit()"
   ]
  },
  {
   "cell_type": "code",
   "execution_count": 39,
   "metadata": {},
   "outputs": [
    {
     "data": {
      "text/html": [
       "<table class=\"simpletable\">\n",
       "<tr>\n",
       "       <td>Model:</td>       <td>MixedLM</td> <td>Dependent Variable:</td>  <td>votepct</td>\n",
       "</tr>\n",
       "<tr>\n",
       "  <td>No. Observations:</td>   <td>527</td>         <td>Method:</td>         <td>REML</td>  \n",
       "</tr>\n",
       "<tr>\n",
       "     <td>No. Groups:</td>      <td>50</td>          <td>Scale:</td>         <td>0.0294</td> \n",
       "</tr>\n",
       "<tr>\n",
       "  <td>Min. group size:</td>     <td>2</td>        <td>Likelihood:</td>     <td>137.6653</td>\n",
       "</tr>\n",
       "<tr>\n",
       "  <td>Max. group size:</td>    <td>55</td>        <td>Converged:</td>         <td>Yes</td>  \n",
       "</tr>\n",
       "<tr>\n",
       "  <td>Mean group size:</td>   <td>10.5</td>            <td></td>               <td></td>    \n",
       "</tr>\n",
       "</table>\n",
       "<table class=\"simpletable\">\n",
       "<tr>\n",
       "           <td></td>           <th>Coef.</th> <th>Std.Err.</th>    <th>z</th>   <th>P>|z|</th> <th>[0.025</th> <th>0.975]</th>\n",
       "</tr>\n",
       "<tr>\n",
       "  <th>Intercept</th>           <td>0.193</td>   <td>0.018</td>  <td>10.999</td> <td>0.000</td>  <td>0.159</td>  <td>0.228</td>\n",
       "</tr>\n",
       "<tr>\n",
       "  <th>party[T.Republican]</th> <td>0.497</td>   <td>0.016</td>  <td>30.571</td> <td>0.000</td>  <td>0.465</td>  <td>0.528</td>\n",
       "</tr>\n",
       "<tr>\n",
       "  <th>money</th>               <td>0.004</td>   <td>0.001</td>   <td>8.218</td> <td>0.000</td>  <td>0.003</td>  <td>0.005</td>\n",
       "</tr>\n",
       "<tr>\n",
       "  <th>acres</th>               <td>0.001</td>   <td>0.000</td>   <td>1.947</td> <td>0.052</td> <td>-0.000</td>  <td>0.001</td>\n",
       "</tr>\n",
       "<tr>\n",
       "  <th>groups RE</th>           <td>0.006</td>   <td>0.013</td>     <td></td>      <td></td>       <td></td>       <td></td>   \n",
       "</tr>\n",
       "</table>"
      ],
      "text/plain": [
       "<class 'statsmodels.iolib.summary2.Summary'>\n",
       "\"\"\"\n",
       "            Mixed Linear Model Regression Results\n",
       "=============================================================\n",
       "Model:               MixedLM   Dependent Variable:   votepct \n",
       "No. Observations:    527       Method:               REML    \n",
       "No. Groups:          50        Scale:                0.0294  \n",
       "Min. group size:     2         Likelihood:           137.6653\n",
       "Max. group size:     55        Converged:            Yes     \n",
       "Mean group size:     10.5                                    \n",
       "-------------------------------------------------------------\n",
       "                    Coef. Std.Err.   z    P>|z| [0.025 0.975]\n",
       "-------------------------------------------------------------\n",
       "Intercept           0.193    0.018 10.999 0.000  0.159  0.228\n",
       "party[T.Republican] 0.497    0.016 30.571 0.000  0.465  0.528\n",
       "money               0.004    0.001  8.218 0.000  0.003  0.005\n",
       "acres               0.001    0.000  1.947 0.052 -0.000  0.001\n",
       "groups RE           0.006    0.013                           \n",
       "=============================================================\n",
       "\n",
       "\"\"\""
      ]
     },
     "execution_count": 39,
     "metadata": {},
     "output_type": "execute_result"
    }
   ],
   "source": [
    "model3.summary()"
   ]
  },
  {
   "cell_type": "code",
   "execution_count": 40,
   "metadata": {},
   "outputs": [
    {
     "data": {
      "text/html": [
       "<div>\n",
       "<style scoped>\n",
       "    .dataframe tbody tr th:only-of-type {\n",
       "        vertical-align: middle;\n",
       "    }\n",
       "\n",
       "    .dataframe tbody tr th {\n",
       "        vertical-align: top;\n",
       "    }\n",
       "\n",
       "    .dataframe thead th {\n",
       "        text-align: right;\n",
       "    }\n",
       "</style>\n",
       "<table border=\"1\" class=\"dataframe\">\n",
       "  <thead>\n",
       "    <tr style=\"text-align: right;\">\n",
       "      <th></th>\n",
       "      <th>Intercept</th>\n",
       "      <th>party[T.Republican]</th>\n",
       "      <th>money</th>\n",
       "      <th>acres</th>\n",
       "      <th>groups RE</th>\n",
       "    </tr>\n",
       "  </thead>\n",
       "  <tbody>\n",
       "    <tr>\n",
       "      <th>Intercept</th>\n",
       "      <td>0.000308</td>\n",
       "      <td>-1.227392e-04</td>\n",
       "      <td>-1.693645e-06</td>\n",
       "      <td>-1.107353e-06</td>\n",
       "      <td>0.000074</td>\n",
       "    </tr>\n",
       "    <tr>\n",
       "      <th>party[T.Republican]</th>\n",
       "      <td>-0.000123</td>\n",
       "      <td>2.638976e-04</td>\n",
       "      <td>-1.528050e-06</td>\n",
       "      <td>2.838678e-08</td>\n",
       "      <td>-0.000145</td>\n",
       "    </tr>\n",
       "    <tr>\n",
       "      <th>money</th>\n",
       "      <td>-0.000002</td>\n",
       "      <td>-1.528050e-06</td>\n",
       "      <td>2.574772e-07</td>\n",
       "      <td>-5.531912e-08</td>\n",
       "      <td>-0.000006</td>\n",
       "    </tr>\n",
       "    <tr>\n",
       "      <th>acres</th>\n",
       "      <td>-0.000001</td>\n",
       "      <td>2.838678e-08</td>\n",
       "      <td>-5.531912e-08</td>\n",
       "      <td>1.143341e-07</td>\n",
       "      <td>0.000002</td>\n",
       "    </tr>\n",
       "    <tr>\n",
       "      <th>groups RE</th>\n",
       "      <td>0.000074</td>\n",
       "      <td>-1.453625e-04</td>\n",
       "      <td>-5.838424e-06</td>\n",
       "      <td>1.781643e-06</td>\n",
       "      <td>0.005785</td>\n",
       "    </tr>\n",
       "  </tbody>\n",
       "</table>\n",
       "</div>"
      ],
      "text/plain": [
       "                     Intercept  party[T.Republican]         money  \\\n",
       "Intercept             0.000308        -1.227392e-04 -1.693645e-06   \n",
       "party[T.Republican]  -0.000123         2.638976e-04 -1.528050e-06   \n",
       "money                -0.000002        -1.528050e-06  2.574772e-07   \n",
       "acres                -0.000001         2.838678e-08 -5.531912e-08   \n",
       "groups RE             0.000074        -1.453625e-04 -5.838424e-06   \n",
       "\n",
       "                            acres  groups RE  \n",
       "Intercept           -1.107353e-06   0.000074  \n",
       "party[T.Republican]  2.838678e-08  -0.000145  \n",
       "money               -5.531912e-08  -0.000006  \n",
       "acres                1.143341e-07   0.000002  \n",
       "groups RE            1.781643e-06   0.005785  "
      ]
     },
     "execution_count": 40,
     "metadata": {},
     "output_type": "execute_result"
    }
   ],
   "source": [
    "model3.cov_params()"
   ]
  },
  {
   "cell_type": "markdown",
   "metadata": {},
   "source": [
    "Теперь наша модель содержит как фиксированные эффекты для индивидуальных предикторов (`money`, `party`), так и фиксированные эффекты для переменной странового уровня (`acres`). Включим еще случайные эффекты для переменной первого уровня."
   ]
  },
  {
   "cell_type": "markdown",
   "metadata": {},
   "source": [
    "# 4_1 модель (с включением случайных эффектов на наклон и учетом допущения о скоррелированности случайных эффектов)"
   ]
  },
  {
   "cell_type": "code",
   "execution_count": 41,
   "metadata": {},
   "outputs": [
    {
     "name": "stderr",
     "output_type": "stream",
     "text": [
      "C:\\Users\\Alii\\Anaconda3\\lib\\site-packages\\statsmodels\\regression\\mixed_linear_model.py:2019: ConvergenceWarning: The MLE may be on the boundary of the parameter space.\n",
      "  warnings.warn(msg, ConvergenceWarning)\n"
     ]
    }
   ],
   "source": [
    "model4_1 = smf.mixedlm(\"votepct ~ money + party\",\n",
    "                     data=multilevel, \n",
    "                     groups=multilevel[\"state\"],\n",
    "                     re_formula=\"~party\"\n",
    "                    ).fit()"
   ]
  },
  {
   "cell_type": "code",
   "execution_count": 42,
   "metadata": {},
   "outputs": [
    {
     "name": "stdout",
     "output_type": "stream",
     "text": [
      "                     Mixed Linear Model Regression Results\n",
      "================================================================================\n",
      "Model:                      MixedLM         Dependent Variable:         votepct \n",
      "No. Observations:           527             Method:                     REML    \n",
      "No. Groups:                 50              Scale:                      0.0275  \n",
      "Min. group size:            2               Likelihood:                 149.6499\n",
      "Max. group size:            55              Converged:                  Yes     \n",
      "Mean group size:            10.5                                                \n",
      "--------------------------------------------------------------------------------\n",
      "                                      Coef.  Std.Err.   z    P>|z| [0.025 0.975]\n",
      "--------------------------------------------------------------------------------\n",
      "Intercept                              0.213    0.023  9.353 0.000  0.168  0.257\n",
      "party[T.Republican]                    0.488    0.023 21.692 0.000  0.444  0.532\n",
      "money                                  0.004    0.000  8.551 0.000  0.003  0.005\n",
      "Intercept RE                           0.014    0.032                           \n",
      "Intercept RE x party[T.Republican] RE -0.009    0.026                           \n",
      "party[T.Republican] RE                 0.008    0.028                           \n",
      "================================================================================\n",
      "\n"
     ]
    }
   ],
   "source": [
    "print(model4_1.summary())"
   ]
  },
  {
   "cell_type": "markdown",
   "metadata": {},
   "source": [
    "Случайные эффекты на константу и на наклон в данном случае скоррелированы и составляют:"
   ]
  },
  {
   "cell_type": "code",
   "execution_count": 43,
   "metadata": {},
   "outputs": [
    {
     "data": {
      "text/plain": [
       "-0.8504200642707611"
      ]
     },
     "execution_count": 43,
     "metadata": {},
     "output_type": "execute_result"
    }
   ],
   "source": [
    "-0.009/(np.sqrt(0.014*0.008))"
   ]
  },
  {
   "cell_type": "markdown",
   "metadata": {},
   "source": [
    "Где:\n",
    "* -0.009 - covariance of intercept and individual predictor (`Group x party[T.Republican] Cov`в выдаче);\n",
    "* 0.014 - variance of intercept (`Group Var` в выдаче);\n",
    "* 0.008 - variance of individual predictor (`party[T.Republican] Var` в выдаче)."
   ]
  },
  {
   "cell_type": "markdown",
   "metadata": {},
   "source": [
    "Посмотрим на случайные эффекты на константу и наклон."
   ]
  },
  {
   "cell_type": "code",
   "execution_count": 44,
   "metadata": {},
   "outputs": [
    {
     "data": {
      "text/plain": [
       "{'AK': Intercept              0.002258\n",
       " party[T.Republican]   -0.000184\n",
       " dtype: float64, 'AL': Intercept              0.216826\n",
       " party[T.Republican]   -0.141544\n",
       " dtype: float64, 'AR': Intercept              0.103032\n",
       " party[T.Republican]   -0.055878\n",
       " dtype: float64, 'AZ': Intercept              0.009750\n",
       " party[T.Republican]   -0.009488\n",
       " dtype: float64, 'CA': Intercept             -0.054717\n",
       " party[T.Republican]    0.087981\n",
       " dtype: float64, 'CO': Intercept              0.001512\n",
       " party[T.Republican]    0.036260\n",
       " dtype: float64, 'CT': Intercept             -0.143255\n",
       " party[T.Republican]    0.055915\n",
       " dtype: float64, 'DE': Intercept             -0.088555\n",
       " party[T.Republican]    0.010035\n",
       " dtype: float64, 'FL': Intercept              0.007214\n",
       " party[T.Republican]   -0.015382\n",
       " dtype: float64, 'GA': Intercept             -0.007566\n",
       " party[T.Republican]    0.026016\n",
       " dtype: float64, 'HI': Intercept             -0.012851\n",
       " party[T.Republican]    0.008114\n",
       " dtype: float64, 'IA': Intercept             -0.058548\n",
       " party[T.Republican]   -0.000034\n",
       " dtype: float64, 'ID': Intercept              0.036399\n",
       " party[T.Republican]   -0.002958\n",
       " dtype: float64, 'IL': Intercept             -0.019327\n",
       " party[T.Republican]    0.040895\n",
       " dtype: float64, 'IN': Intercept              0.069372\n",
       " party[T.Republican]    0.004818\n",
       " dtype: float64, 'KS': Intercept              0.070646\n",
       " party[T.Republican]   -0.038642\n",
       " dtype: float64, 'KY': Intercept              0.177255\n",
       " party[T.Republican]   -0.141820\n",
       " dtype: float64, 'LA': Intercept              0.097826\n",
       " party[T.Republican]   -0.022847\n",
       " dtype: float64, 'MA': Intercept             -0.157367\n",
       " party[T.Republican]    0.099362\n",
       " dtype: float64, 'MD': Intercept             -0.089956\n",
       " party[T.Republican]    0.028115\n",
       " dtype: float64, 'ME': Intercept             -0.079249\n",
       " party[T.Republican]    0.000187\n",
       " dtype: float64, 'MI': Intercept             -0.060390\n",
       " party[T.Republican]    0.058133\n",
       " dtype: float64, 'MN': Intercept             -0.002876\n",
       " party[T.Republican]   -0.026209\n",
       " dtype: float64, 'MO': Intercept              0.14729\n",
       " party[T.Republican]   -0.09848\n",
       " dtype: float64, 'MS': Intercept              0.133582\n",
       " party[T.Republican]   -0.060090\n",
       " dtype: float64, 'MT': Intercept             -0.053644\n",
       " party[T.Republican]    0.021501\n",
       " dtype: float64, 'NC': Intercept              0.168670\n",
       " party[T.Republican]   -0.125625\n",
       " dtype: float64, 'ND': Intercept             -0.060638\n",
       " party[T.Republican]    0.038287\n",
       " dtype: float64, 'NE': Intercept             -0.042712\n",
       " party[T.Republican]    0.045818\n",
       " dtype: float64, 'NH': Intercept              0.004137\n",
       " party[T.Republican]   -0.000336\n",
       " dtype: float64, 'NJ': Intercept             -0.046109\n",
       " party[T.Republican]   -0.048227\n",
       " dtype: float64, 'NM': Intercept             -0.023528\n",
       " party[T.Republican]    0.044088\n",
       " dtype: float64, 'NV': Intercept             -0.063946\n",
       " party[T.Republican]    0.039703\n",
       " dtype: float64, 'NY': Intercept             -0.138249\n",
       " party[T.Republican]    0.109144\n",
       " dtype: float64, 'OH': Intercept             -0.064314\n",
       " party[T.Republican]    0.010076\n",
       " dtype: float64, 'OK': Intercept              0.081981\n",
       " party[T.Republican]   -0.006663\n",
       " dtype: float64, 'OR': Intercept             -0.039905\n",
       " party[T.Republican]    0.037270\n",
       " dtype: float64, 'PA': Intercept             -0.024225\n",
       " party[T.Republican]   -0.018672\n",
       " dtype: float64, 'RI': Intercept             -0.143431\n",
       " party[T.Republican]    0.074105\n",
       " dtype: float64, 'SC': Intercept              0.125359\n",
       " party[T.Republican]   -0.037080\n",
       " dtype: float64, 'SD': Intercept             -0.080653\n",
       " party[T.Republican]    0.048036\n",
       " dtype: float64, 'TN': Intercept              0.101482\n",
       " party[T.Republican]   -0.076965\n",
       " dtype: float64, 'TX': Intercept              0.124962\n",
       " party[T.Republican]   -0.073251\n",
       " dtype: float64, 'UT': Intercept             -0.066145\n",
       " party[T.Republican]    0.005376\n",
       " dtype: float64, 'VA': Intercept              0.119851\n",
       " party[T.Republican]   -0.084891\n",
       " dtype: float64, 'VT': Intercept             -0.087542\n",
       " party[T.Republican]    0.028036\n",
       " dtype: float64, 'WA': Intercept             -0.093783\n",
       " party[T.Republican]    0.063248\n",
       " dtype: float64, 'WI': Intercept             -0.087126\n",
       " party[T.Republican]    0.101761\n",
       " dtype: float64, 'WV': Intercept              0.053808\n",
       " party[T.Republican]   -0.033975\n",
       " dtype: float64, 'WY': Intercept              0.037396\n",
       " party[T.Republican]   -0.003039\n",
       " dtype: float64}"
      ]
     },
     "execution_count": 44,
     "metadata": {},
     "output_type": "execute_result"
    }
   ],
   "source": [
    "model4_1.random_effects"
   ]
  },
  {
   "cell_type": "markdown",
   "metadata": {},
   "source": [
    "Получим BLUP-значения для константы и на наклон (c включениtv случайных эффектов на наклон)."
   ]
  },
  {
   "cell_type": "code",
   "execution_count": 45,
   "metadata": {},
   "outputs": [],
   "source": [
    "def get_constant_and_slope_BLUP_with_different_slope(mixed_model, name_of_individual_variable):\n",
    "    random_eff_const = list(mixed_model.random_effects.values())\n",
    "    BLUP_const = [random_eff_const[i].values[0] + mixed_model.params[0] for i in range(len(random_eff_const))]\n",
    "    BLUP_slope = [random_eff_const[i].values[1] + mixed_model.params[name_of_individual_variable] for i in range(len(random_eff_const))]\n",
    "    df_BLUP_slope = pd.DataFrame({\"State_unique\":list(mixed_model.random_effects), \n",
    "                                  \"BLUP_const\": BLUP_const, \"BLUP_slope\": BLUP_slope\n",
    "                                 }\n",
    "                                )\n",
    "    return df_BLUP_slope"
   ]
  },
  {
   "cell_type": "code",
   "execution_count": 46,
   "metadata": {
    "scrolled": true
   },
   "outputs": [
    {
     "data": {
      "text/html": [
       "<div>\n",
       "<style scoped>\n",
       "    .dataframe tbody tr th:only-of-type {\n",
       "        vertical-align: middle;\n",
       "    }\n",
       "\n",
       "    .dataframe tbody tr th {\n",
       "        vertical-align: top;\n",
       "    }\n",
       "\n",
       "    .dataframe thead th {\n",
       "        text-align: right;\n",
       "    }\n",
       "</style>\n",
       "<table border=\"1\" class=\"dataframe\">\n",
       "  <thead>\n",
       "    <tr style=\"text-align: right;\">\n",
       "      <th></th>\n",
       "      <th>BLUP_const</th>\n",
       "      <th>BLUP_slope</th>\n",
       "      <th>State_unique</th>\n",
       "    </tr>\n",
       "  </thead>\n",
       "  <tbody>\n",
       "    <tr>\n",
       "      <th>0</th>\n",
       "      <td>0.215143</td>\n",
       "      <td>0.487998</td>\n",
       "      <td>AK</td>\n",
       "    </tr>\n",
       "    <tr>\n",
       "      <th>1</th>\n",
       "      <td>0.429711</td>\n",
       "      <td>0.346638</td>\n",
       "      <td>AL</td>\n",
       "    </tr>\n",
       "    <tr>\n",
       "      <th>2</th>\n",
       "      <td>0.315917</td>\n",
       "      <td>0.432304</td>\n",
       "      <td>AR</td>\n",
       "    </tr>\n",
       "    <tr>\n",
       "      <th>3</th>\n",
       "      <td>0.222635</td>\n",
       "      <td>0.478694</td>\n",
       "      <td>AZ</td>\n",
       "    </tr>\n",
       "    <tr>\n",
       "      <th>4</th>\n",
       "      <td>0.158169</td>\n",
       "      <td>0.576162</td>\n",
       "      <td>CA</td>\n",
       "    </tr>\n",
       "    <tr>\n",
       "      <th>5</th>\n",
       "      <td>0.214398</td>\n",
       "      <td>0.524441</td>\n",
       "      <td>CO</td>\n",
       "    </tr>\n",
       "    <tr>\n",
       "      <th>6</th>\n",
       "      <td>0.069630</td>\n",
       "      <td>0.544097</td>\n",
       "      <td>CT</td>\n",
       "    </tr>\n",
       "    <tr>\n",
       "      <th>7</th>\n",
       "      <td>0.124331</td>\n",
       "      <td>0.498216</td>\n",
       "      <td>DE</td>\n",
       "    </tr>\n",
       "    <tr>\n",
       "      <th>8</th>\n",
       "      <td>0.220100</td>\n",
       "      <td>0.472799</td>\n",
       "      <td>FL</td>\n",
       "    </tr>\n",
       "    <tr>\n",
       "      <th>9</th>\n",
       "      <td>0.205319</td>\n",
       "      <td>0.514197</td>\n",
       "      <td>GA</td>\n",
       "    </tr>\n",
       "    <tr>\n",
       "      <th>10</th>\n",
       "      <td>0.200035</td>\n",
       "      <td>0.496295</td>\n",
       "      <td>HI</td>\n",
       "    </tr>\n",
       "    <tr>\n",
       "      <th>11</th>\n",
       "      <td>0.154337</td>\n",
       "      <td>0.488147</td>\n",
       "      <td>IA</td>\n",
       "    </tr>\n",
       "    <tr>\n",
       "      <th>12</th>\n",
       "      <td>0.249284</td>\n",
       "      <td>0.485223</td>\n",
       "      <td>ID</td>\n",
       "    </tr>\n",
       "    <tr>\n",
       "      <th>13</th>\n",
       "      <td>0.193559</td>\n",
       "      <td>0.529077</td>\n",
       "      <td>IL</td>\n",
       "    </tr>\n",
       "    <tr>\n",
       "      <th>14</th>\n",
       "      <td>0.282257</td>\n",
       "      <td>0.492999</td>\n",
       "      <td>IN</td>\n",
       "    </tr>\n",
       "    <tr>\n",
       "      <th>15</th>\n",
       "      <td>0.283531</td>\n",
       "      <td>0.449539</td>\n",
       "      <td>KS</td>\n",
       "    </tr>\n",
       "    <tr>\n",
       "      <th>16</th>\n",
       "      <td>0.390141</td>\n",
       "      <td>0.346361</td>\n",
       "      <td>KY</td>\n",
       "    </tr>\n",
       "    <tr>\n",
       "      <th>17</th>\n",
       "      <td>0.310712</td>\n",
       "      <td>0.465335</td>\n",
       "      <td>LA</td>\n",
       "    </tr>\n",
       "    <tr>\n",
       "      <th>18</th>\n",
       "      <td>0.055518</td>\n",
       "      <td>0.587543</td>\n",
       "      <td>MA</td>\n",
       "    </tr>\n",
       "    <tr>\n",
       "      <th>19</th>\n",
       "      <td>0.122930</td>\n",
       "      <td>0.516296</td>\n",
       "      <td>MD</td>\n",
       "    </tr>\n",
       "    <tr>\n",
       "      <th>20</th>\n",
       "      <td>0.133636</td>\n",
       "      <td>0.488368</td>\n",
       "      <td>ME</td>\n",
       "    </tr>\n",
       "    <tr>\n",
       "      <th>21</th>\n",
       "      <td>0.152495</td>\n",
       "      <td>0.546314</td>\n",
       "      <td>MI</td>\n",
       "    </tr>\n",
       "    <tr>\n",
       "      <th>22</th>\n",
       "      <td>0.210009</td>\n",
       "      <td>0.461972</td>\n",
       "      <td>MN</td>\n",
       "    </tr>\n",
       "    <tr>\n",
       "      <th>23</th>\n",
       "      <td>0.360176</td>\n",
       "      <td>0.389701</td>\n",
       "      <td>MO</td>\n",
       "    </tr>\n",
       "    <tr>\n",
       "      <th>24</th>\n",
       "      <td>0.346467</td>\n",
       "      <td>0.428091</td>\n",
       "      <td>MS</td>\n",
       "    </tr>\n",
       "    <tr>\n",
       "      <th>25</th>\n",
       "      <td>0.159242</td>\n",
       "      <td>0.509682</td>\n",
       "      <td>MT</td>\n",
       "    </tr>\n",
       "    <tr>\n",
       "      <th>26</th>\n",
       "      <td>0.381556</td>\n",
       "      <td>0.362556</td>\n",
       "      <td>NC</td>\n",
       "    </tr>\n",
       "    <tr>\n",
       "      <th>27</th>\n",
       "      <td>0.152248</td>\n",
       "      <td>0.526468</td>\n",
       "      <td>ND</td>\n",
       "    </tr>\n",
       "    <tr>\n",
       "      <th>28</th>\n",
       "      <td>0.170173</td>\n",
       "      <td>0.533999</td>\n",
       "      <td>NE</td>\n",
       "    </tr>\n",
       "    <tr>\n",
       "      <th>29</th>\n",
       "      <td>0.217022</td>\n",
       "      <td>0.487845</td>\n",
       "      <td>NH</td>\n",
       "    </tr>\n",
       "    <tr>\n",
       "      <th>30</th>\n",
       "      <td>0.166777</td>\n",
       "      <td>0.439955</td>\n",
       "      <td>NJ</td>\n",
       "    </tr>\n",
       "    <tr>\n",
       "      <th>31</th>\n",
       "      <td>0.189357</td>\n",
       "      <td>0.532269</td>\n",
       "      <td>NM</td>\n",
       "    </tr>\n",
       "    <tr>\n",
       "      <th>32</th>\n",
       "      <td>0.148939</td>\n",
       "      <td>0.527884</td>\n",
       "      <td>NV</td>\n",
       "    </tr>\n",
       "    <tr>\n",
       "      <th>33</th>\n",
       "      <td>0.074636</td>\n",
       "      <td>0.597326</td>\n",
       "      <td>NY</td>\n",
       "    </tr>\n",
       "    <tr>\n",
       "      <th>34</th>\n",
       "      <td>0.148571</td>\n",
       "      <td>0.498257</td>\n",
       "      <td>OH</td>\n",
       "    </tr>\n",
       "    <tr>\n",
       "      <th>35</th>\n",
       "      <td>0.294867</td>\n",
       "      <td>0.481518</td>\n",
       "      <td>OK</td>\n",
       "    </tr>\n",
       "    <tr>\n",
       "      <th>36</th>\n",
       "      <td>0.172980</td>\n",
       "      <td>0.525451</td>\n",
       "      <td>OR</td>\n",
       "    </tr>\n",
       "    <tr>\n",
       "      <th>37</th>\n",
       "      <td>0.188661</td>\n",
       "      <td>0.469509</td>\n",
       "      <td>PA</td>\n",
       "    </tr>\n",
       "    <tr>\n",
       "      <th>38</th>\n",
       "      <td>0.069455</td>\n",
       "      <td>0.562286</td>\n",
       "      <td>RI</td>\n",
       "    </tr>\n",
       "    <tr>\n",
       "      <th>39</th>\n",
       "      <td>0.338244</td>\n",
       "      <td>0.451101</td>\n",
       "      <td>SC</td>\n",
       "    </tr>\n",
       "    <tr>\n",
       "      <th>40</th>\n",
       "      <td>0.132232</td>\n",
       "      <td>0.536218</td>\n",
       "      <td>SD</td>\n",
       "    </tr>\n",
       "    <tr>\n",
       "      <th>41</th>\n",
       "      <td>0.314368</td>\n",
       "      <td>0.411216</td>\n",
       "      <td>TN</td>\n",
       "    </tr>\n",
       "    <tr>\n",
       "      <th>42</th>\n",
       "      <td>0.337848</td>\n",
       "      <td>0.414930</td>\n",
       "      <td>TX</td>\n",
       "    </tr>\n",
       "    <tr>\n",
       "      <th>43</th>\n",
       "      <td>0.146740</td>\n",
       "      <td>0.493557</td>\n",
       "      <td>UT</td>\n",
       "    </tr>\n",
       "    <tr>\n",
       "      <th>44</th>\n",
       "      <td>0.332737</td>\n",
       "      <td>0.403290</td>\n",
       "      <td>VA</td>\n",
       "    </tr>\n",
       "    <tr>\n",
       "      <th>45</th>\n",
       "      <td>0.125343</td>\n",
       "      <td>0.516217</td>\n",
       "      <td>VT</td>\n",
       "    </tr>\n",
       "    <tr>\n",
       "      <th>46</th>\n",
       "      <td>0.119102</td>\n",
       "      <td>0.551429</td>\n",
       "      <td>WA</td>\n",
       "    </tr>\n",
       "    <tr>\n",
       "      <th>47</th>\n",
       "      <td>0.125760</td>\n",
       "      <td>0.589942</td>\n",
       "      <td>WI</td>\n",
       "    </tr>\n",
       "    <tr>\n",
       "      <th>48</th>\n",
       "      <td>0.266694</td>\n",
       "      <td>0.454207</td>\n",
       "      <td>WV</td>\n",
       "    </tr>\n",
       "    <tr>\n",
       "      <th>49</th>\n",
       "      <td>0.250281</td>\n",
       "      <td>0.485142</td>\n",
       "      <td>WY</td>\n",
       "    </tr>\n",
       "  </tbody>\n",
       "</table>\n",
       "</div>"
      ],
      "text/plain": [
       "    BLUP_const  BLUP_slope State_unique\n",
       "0     0.215143    0.487998           AK\n",
       "1     0.429711    0.346638           AL\n",
       "2     0.315917    0.432304           AR\n",
       "3     0.222635    0.478694           AZ\n",
       "4     0.158169    0.576162           CA\n",
       "5     0.214398    0.524441           CO\n",
       "6     0.069630    0.544097           CT\n",
       "7     0.124331    0.498216           DE\n",
       "8     0.220100    0.472799           FL\n",
       "9     0.205319    0.514197           GA\n",
       "10    0.200035    0.496295           HI\n",
       "11    0.154337    0.488147           IA\n",
       "12    0.249284    0.485223           ID\n",
       "13    0.193559    0.529077           IL\n",
       "14    0.282257    0.492999           IN\n",
       "15    0.283531    0.449539           KS\n",
       "16    0.390141    0.346361           KY\n",
       "17    0.310712    0.465335           LA\n",
       "18    0.055518    0.587543           MA\n",
       "19    0.122930    0.516296           MD\n",
       "20    0.133636    0.488368           ME\n",
       "21    0.152495    0.546314           MI\n",
       "22    0.210009    0.461972           MN\n",
       "23    0.360176    0.389701           MO\n",
       "24    0.346467    0.428091           MS\n",
       "25    0.159242    0.509682           MT\n",
       "26    0.381556    0.362556           NC\n",
       "27    0.152248    0.526468           ND\n",
       "28    0.170173    0.533999           NE\n",
       "29    0.217022    0.487845           NH\n",
       "30    0.166777    0.439955           NJ\n",
       "31    0.189357    0.532269           NM\n",
       "32    0.148939    0.527884           NV\n",
       "33    0.074636    0.597326           NY\n",
       "34    0.148571    0.498257           OH\n",
       "35    0.294867    0.481518           OK\n",
       "36    0.172980    0.525451           OR\n",
       "37    0.188661    0.469509           PA\n",
       "38    0.069455    0.562286           RI\n",
       "39    0.338244    0.451101           SC\n",
       "40    0.132232    0.536218           SD\n",
       "41    0.314368    0.411216           TN\n",
       "42    0.337848    0.414930           TX\n",
       "43    0.146740    0.493557           UT\n",
       "44    0.332737    0.403290           VA\n",
       "45    0.125343    0.516217           VT\n",
       "46    0.119102    0.551429           WA\n",
       "47    0.125760    0.589942           WI\n",
       "48    0.266694    0.454207           WV\n",
       "49    0.250281    0.485142           WY"
      ]
     },
     "execution_count": 46,
     "metadata": {},
     "output_type": "execute_result"
    }
   ],
   "source": [
    "get_constant_and_slope_BLUP_with_different_slope(model4_1, 'party[T.Republican]')"
   ]
  },
  {
   "cell_type": "markdown",
   "metadata": {},
   "source": [
    "Посмотрим визуализацию случайных эффектов на константу и наклон с их границами доверительных интервалов."
   ]
  },
  {
   "cell_type": "code",
   "execution_count": 47,
   "metadata": {},
   "outputs": [],
   "source": [
    "# возьмем квадратный корень от каждого случайного эффекта на константу в условной ковариционной матрице\n",
    "sqrt_cov_const4_1 = calc_sqrt_cov_const_random_effects(model4_1)"
   ]
  },
  {
   "cell_type": "code",
   "execution_count": 48,
   "metadata": {},
   "outputs": [],
   "source": [
    "def calc_sqrt_cov_slope_random_effects(mixed_model):\n",
    "    cov_data = list(mixed_model.random_effects_cov.values())\n",
    "    cov_slope = [cov_data[i].values[1][1] for i in range(len(cov_data))]\n",
    "    sqrt_cov_slope = [math.sqrt(cov_slope[j]) for j in range(len(cov_slope))]\n",
    "    return sqrt_cov_slope"
   ]
  },
  {
   "cell_type": "code",
   "execution_count": 49,
   "metadata": {},
   "outputs": [],
   "source": [
    "# возьмем квадратный корень от каждого случайного эффекта на наклон в условной ковариционной матрице\n",
    "sqrt_cov_slope4_1 = calc_sqrt_cov_slope_random_effects(model4_1)"
   ]
  },
  {
   "cell_type": "code",
   "execution_count": 50,
   "metadata": {},
   "outputs": [],
   "source": [
    "def get_slope_random_effects(mixed_model):\n",
    "    random_eff = list(mixed_model.random_effects.values())\n",
    "    random_eff_slope = [random_eff[i].values[1] for i in range(len(random_eff))]\n",
    "    return random_eff_slope"
   ]
  },
  {
   "cell_type": "code",
   "execution_count": 51,
   "metadata": {},
   "outputs": [],
   "source": [
    "# получаем в качестве списков случайные эффекты на константу и наклон\n",
    "# создадим отдельный датасет со значениями случайных эффектов на константу, штатами и полученными квадратными корнями\n",
    "random_eff_const4_1 = get_const_random_effects(model4_1)\n",
    "random_eff_slope4_1 = get_slope_random_effects(model4_1)\n",
    "dt_for_graph4_1 = pd.DataFrame({'random_eff_const':random_eff_const4_1,\n",
    "                             'states':states, \n",
    "                             'sqrt_cov_const': sqrt_cov_const4_1,\n",
    "                             'random_eff_slope': random_eff_slope4_1,\n",
    "                            'sqrt_cov_slope': sqrt_cov_slope4_1\n",
    "                               }\n",
    "                              ).sort_values(by='random_eff_const',\n",
    "                                         ascending=False\n",
    "                                        )"
   ]
  },
  {
   "cell_type": "code",
   "execution_count": 52,
   "metadata": {},
   "outputs": [],
   "source": [
    "# в качестве новых индексов зададим названия штатов\n",
    "values4_1 = dt_for_graph4_1.set_index('states')"
   ]
  },
  {
   "cell_type": "markdown",
   "metadata": {},
   "source": [
    "График случайных эффектов на константу"
   ]
  },
  {
   "cell_type": "code",
   "execution_count": 53,
   "metadata": {},
   "outputs": [
    {
     "data": {
      "text/plain": [
       "<Container object of 3 artists>"
      ]
     },
     "execution_count": 53,
     "metadata": {},
     "output_type": "execute_result"
    },
    {
     "data": {
      "image/png": "[encoded data removed]",
      "text/plain": [
       "<matplotlib.figure.Figure at 0x1ce2cdc4160>"
      ]
     },
     "metadata": {},
     "output_type": "display_data"
    }
   ],
   "source": [
    "plt.errorbar(values4_1.index, values4_1.random_eff_const, \n",
    "             yerr=2*values4_1.sqrt_cov_const, \n",
    "             animated = True, color ='purple', fmt='o'\n",
    "            )"
   ]
  },
  {
   "cell_type": "markdown",
   "metadata": {},
   "source": [
    "График случайных эффектов на наклон"
   ]
  },
  {
   "cell_type": "code",
   "execution_count": 54,
   "metadata": {},
   "outputs": [
    {
     "data": {
      "text/plain": [
       "<Container object of 3 artists>"
      ]
     },
     "execution_count": 54,
     "metadata": {},
     "output_type": "execute_result"
    },
    {
     "data": {
      "image/png": "[encoded data removed]",
      "text/plain": [
       "<matplotlib.figure.Figure at 0x1ce2ce67550>"
      ]
     },
     "metadata": {},
     "output_type": "display_data"
    }
   ],
   "source": [
    "plt.errorbar(values4_1.index, values4_1.random_eff_slope, \n",
    "             yerr=2*values4_1.sqrt_cov_slope, \n",
    "             animated = True, color ='blue', fmt='o'\n",
    "            )"
   ]
  },
  {
   "cell_type": "markdown",
   "metadata": {},
   "source": [
    "# 4_2 модель (с включением случайных эффектов на наклон и отсутствием допущения о скоррелированности случайных эффектов)"
   ]
  },
  {
   "cell_type": "markdown",
   "metadata": {},
   "source": [
    "Построим такую же модель с отстуствием допущения о скоррелированности случайных эффектов на константу и наклон. Для начала узнаем размерность ковариационной матрицы случайных эффектов."
   ]
  },
  {
   "cell_type": "code",
   "execution_count": 55,
   "metadata": {},
   "outputs": [
    {
     "data": {
      "text/html": [
       "<div>\n",
       "<style scoped>\n",
       "    .dataframe tbody tr th:only-of-type {\n",
       "        vertical-align: middle;\n",
       "    }\n",
       "\n",
       "    .dataframe tbody tr th {\n",
       "        vertical-align: top;\n",
       "    }\n",
       "\n",
       "    .dataframe thead th {\n",
       "        text-align: right;\n",
       "    }\n",
       "</style>\n",
       "<table border=\"1\" class=\"dataframe\">\n",
       "  <thead>\n",
       "    <tr style=\"text-align: right;\">\n",
       "      <th></th>\n",
       "      <th>Intercept</th>\n",
       "      <th>party[T.Republican]</th>\n",
       "    </tr>\n",
       "  </thead>\n",
       "  <tbody>\n",
       "    <tr>\n",
       "      <th>Intercept</th>\n",
       "      <td>0.014102</td>\n",
       "      <td>-0.008904</td>\n",
       "    </tr>\n",
       "    <tr>\n",
       "      <th>party[T.Republican]</th>\n",
       "      <td>-0.008904</td>\n",
       "      <td>0.008481</td>\n",
       "    </tr>\n",
       "  </tbody>\n",
       "</table>\n",
       "</div>"
      ],
      "text/plain": [
       "                     Intercept  party[T.Republican]\n",
       "Intercept             0.014102            -0.008904\n",
       "party[T.Republican]  -0.008904             0.008481"
      ]
     },
     "execution_count": 55,
     "metadata": {},
     "output_type": "execute_result"
    }
   ],
   "source": [
    "model4_1.cov_re"
   ]
  },
  {
   "cell_type": "markdown",
   "metadata": {},
   "source": [
    "Внесем изменения в данную матрицу через аргумент `free` и посмотрим основную выдачу по модели. Не забудем, что количество фиксированных эффектов в предшествующей модели составило 3: для константы и для двух переменных индивидуального уровня. А также было 2 вида случайных эффектов на константу и наклон. В связи с чем измнения в матрицу буду внесены с учетом данной информации: количество замененных 1 будет равно количеству фиксированных эффектов, а через np.eye() зададим размерность (равно количеству видов случайных эффектов) 2-D array с единицами по главной диагонали и нулями в других ячейках."
   ]
  },
  {
   "cell_type": "code",
   "execution_count": 56,
   "metadata": {},
   "outputs": [
    {
     "name": "stdout",
     "output_type": "stream",
     "text": [
      "                     Mixed Linear Model Regression Results\n",
      "===============================================================================\n",
      "Model:                     MixedLM         Dependent Variable:         votepct \n",
      "No. Observations:          527             Method:                     REML    \n",
      "No. Groups:                50              Scale:                      0.0281  \n",
      "Min. group size:           2               Likelihood:                 144.7038\n",
      "Max. group size:           55              Converged:                  Yes     \n",
      "Mean group size:           10.5                                                \n",
      "-------------------------------------------------------------------------------\n",
      "                                      Coef. Std.Err.   z    P>|z| [0.025 0.975]\n",
      "-------------------------------------------------------------------------------\n",
      "Intercept                             0.204    0.018 11.081 0.000  0.168  0.240\n",
      "party[T.Republican]                   0.487    0.019 25.019 0.000  0.449  0.525\n",
      "money                                 0.004    0.000  8.949 0.000  0.003  0.005\n",
      "Intercept RE                          0.007    0.017                           \n",
      "Intercept RE x party[T.Republican] RE 0.000    0.000                           \n",
      "party[T.Republican] RE                0.003    0.015                           \n",
      "===============================================================================\n",
      "\n"
     ]
    },
    {
     "name": "stderr",
     "output_type": "stream",
     "text": [
      "C:\\Users\\Alii\\Anaconda3\\lib\\site-packages\\statsmodels\\regression\\mixed_linear_model.py:2019: ConvergenceWarning: The MLE may be on the boundary of the parameter space.\n",
      "  warnings.warn(msg, ConvergenceWarning)\n"
     ]
    }
   ],
   "source": [
    "model4 = smf.mixedlm(\"votepct ~ money + party\",\n",
    "                     data=multilevel, \n",
    "                     groups=multilevel[\"state\"],\n",
    "                     re_formula=\"~party\"\n",
    "                    )\n",
    "free1 = MixedLMParams.from_components(np.ones(3),\n",
    "                                     np.eye(2)\n",
    "                                    )\n",
    "model4_2 = model4.fit(free=free1)\n",
    "print(model4_2.summary())"
   ]
  },
  {
   "cell_type": "markdown",
   "metadata": {},
   "source": [
    "Посмотрим на размерность и содержания новой матрицы в аргументе `free`."
   ]
  },
  {
   "cell_type": "code",
   "execution_count": 57,
   "metadata": {},
   "outputs": [
    {
     "data": {
      "text/plain": [
       "array([[1., 0.],\n",
       "       [0., 1.]])"
      ]
     },
     "execution_count": 57,
     "metadata": {},
     "output_type": "execute_result"
    }
   ],
   "source": [
    "free1.cov_re"
   ]
  },
  {
   "cell_type": "markdown",
   "metadata": {},
   "source": [
    "Проверим, действительно ли в модели отсутствует допущение о скоррелированности случайных эффектов."
   ]
  },
  {
   "cell_type": "code",
   "execution_count": 58,
   "metadata": {},
   "outputs": [
    {
     "data": {
      "text/plain": [
       "0.0"
      ]
     },
     "execution_count": 58,
     "metadata": {},
     "output_type": "execute_result"
    }
   ],
   "source": [
    "0/(np.sqrt(0.007*0.003))"
   ]
  },
  {
   "cell_type": "markdown",
   "metadata": {},
   "source": [
    "Посмотрим на визуализацию случайных эффектов"
   ]
  },
  {
   "cell_type": "code",
   "execution_count": 59,
   "metadata": {},
   "outputs": [],
   "source": [
    "sqrt_cov_const4_2 = calc_sqrt_cov_const_random_effects(model4_2)\n",
    "sqrt_cov_slope4_2 = calc_sqrt_cov_slope_random_effects(model4_2)\n",
    "random_eff_const4_2 = get_const_random_effects(model4_2)\n",
    "random_eff_slope4_2 = get_slope_random_effects(model4_2)"
   ]
  },
  {
   "cell_type": "code",
   "execution_count": 60,
   "metadata": {},
   "outputs": [],
   "source": [
    "dt_for_graph4_2 = pd.DataFrame({'random_eff_const':random_eff_const4_2,\n",
    "                             'states':states, \n",
    "                             'sqrt_cov_const': sqrt_cov_const4_2,\n",
    "                             'random_eff_slope': random_eff_slope4_2,\n",
    "                            'sqrt_cov_slope': sqrt_cov_slope4_2\n",
    "                               }\n",
    "                              ).sort_values(by='random_eff_const',\n",
    "                                         ascending=False\n",
    "                                        )"
   ]
  },
  {
   "cell_type": "code",
   "execution_count": 61,
   "metadata": {},
   "outputs": [],
   "source": [
    "values4_2 = dt_for_graph4_2.set_index('states')"
   ]
  },
  {
   "cell_type": "code",
   "execution_count": 62,
   "metadata": {},
   "outputs": [
    {
     "data": {
      "text/plain": [
       "<Container object of 3 artists>"
      ]
     },
     "execution_count": 62,
     "metadata": {},
     "output_type": "execute_result"
    },
    {
     "data": {
      "image/png": "[encoded data removed]",
      "text/plain": [
       "<matplotlib.figure.Figure at 0x1ce2cfb7cf8>"
      ]
     },
     "metadata": {},
     "output_type": "display_data"
    }
   ],
   "source": [
    "plt.errorbar(values4_2.index, values4_2.random_eff_const, \n",
    "             yerr=2*values4_2.sqrt_cov_const, \n",
    "             animated = True, color ='purple', fmt='o'\n",
    "            )"
   ]
  },
  {
   "cell_type": "code",
   "execution_count": 63,
   "metadata": {},
   "outputs": [
    {
     "data": {
      "text/plain": [
       "<Container object of 3 artists>"
      ]
     },
     "execution_count": 63,
     "metadata": {},
     "output_type": "execute_result"
    },
    {
     "data": {
      "image/png": "[encoded data removed]",
      "text/plain": [
       "<matplotlib.figure.Figure at 0x1ce2cfc9278>"
      ]
     },
     "metadata": {},
     "output_type": "display_data"
    }
   ],
   "source": [
    "plt.errorbar(values4_2.index, values4_2.random_eff_slope, \n",
    "             yerr=2*values4_2.sqrt_cov_slope, \n",
    "             animated = True, color ='blue', fmt='o'\n",
    "            )"
   ]
  },
  {
   "cell_type": "markdown",
   "metadata": {},
   "source": [
    "# 5 модель (с включением переменной взаимодействия между предикторами индивидуального и странового уровня)"
   ]
  },
  {
   "cell_type": "markdown",
   "metadata": {},
   "source": [
    "Построим модель с включением переменных первого и второго уровня, а также с добавлением переменной взаимодействия `acres` и `party`."
   ]
  },
  {
   "cell_type": "code",
   "execution_count": 64,
   "metadata": {},
   "outputs": [
    {
     "name": "stderr",
     "output_type": "stream",
     "text": [
      "C:\\Users\\Alii\\Anaconda3\\lib\\site-packages\\statsmodels\\regression\\mixed_linear_model.py:2019: ConvergenceWarning: The MLE may be on the boundary of the parameter space.\n",
      "  warnings.warn(msg, ConvergenceWarning)\n"
     ]
    }
   ],
   "source": [
    "model5 = smf.mixedlm(\"votepct ~ money + party + acres + party*acres\",\n",
    "                     data=multilevel, \n",
    "                     groups=multilevel[\"state\"],\n",
    "                     re_formula=\"~party\"\n",
    "                    ).fit()"
   ]
  },
  {
   "cell_type": "code",
   "execution_count": 65,
   "metadata": {},
   "outputs": [
    {
     "data": {
      "text/html": [
       "<table class=\"simpletable\">\n",
       "<tr>\n",
       "       <td>Model:</td>       <td>MixedLM</td> <td>Dependent Variable:</td>  <td>votepct</td>\n",
       "</tr>\n",
       "<tr>\n",
       "  <td>No. Observations:</td>   <td>527</td>         <td>Method:</td>         <td>REML</td>  \n",
       "</tr>\n",
       "<tr>\n",
       "     <td>No. Groups:</td>      <td>50</td>          <td>Scale:</td>         <td>0.0272</td> \n",
       "</tr>\n",
       "<tr>\n",
       "  <td>Min. group size:</td>     <td>2</td>        <td>Likelihood:</td>     <td>143.3753</td>\n",
       "</tr>\n",
       "<tr>\n",
       "  <td>Max. group size:</td>    <td>55</td>        <td>Converged:</td>         <td>Yes</td>  \n",
       "</tr>\n",
       "<tr>\n",
       "  <td>Mean group size:</td>   <td>10.5</td>            <td></td>               <td></td>    \n",
       "</tr>\n",
       "</table>\n",
       "<table class=\"simpletable\">\n",
       "<tr>\n",
       "                    <td></td>                     <th>Coef.</th> <th>Std.Err.</th>    <th>z</th>   <th>P>|z|</th> <th>[0.025</th> <th>0.975]</th>\n",
       "</tr>\n",
       "<tr>\n",
       "  <th>Intercept</th>                              <td>0.186</td>   <td>0.021</td>   <td>8.926</td> <td>0.000</td>  <td>0.145</td>  <td>0.227</td>\n",
       "</tr>\n",
       "<tr>\n",
       "  <th>party[T.Republican]</th>                    <td>0.516</td>   <td>0.022</td>  <td>23.685</td> <td>0.000</td>  <td>0.473</td>  <td>0.558</td>\n",
       "</tr>\n",
       "<tr>\n",
       "  <th>money</th>                                  <td>0.004</td>   <td>0.000</td>   <td>8.040</td> <td>0.000</td>  <td>0.003</td>  <td>0.005</td>\n",
       "</tr>\n",
       "<tr>\n",
       "  <th>acres</th>                                  <td>0.002</td>   <td>0.000</td>   <td>3.905</td> <td>0.000</td>  <td>0.001</td>  <td>0.003</td>\n",
       "</tr>\n",
       "<tr>\n",
       "  <th>party[T.Republican]:acres</th>             <td>-0.002</td>   <td>0.000</td>  <td>-3.647</td> <td>0.000</td> <td>-0.003</td> <td>-0.001</td>\n",
       "</tr>\n",
       "<tr>\n",
       "  <th>Intercept RE</th>                           <td>0.010</td>   <td>0.023</td>     <td></td>      <td></td>       <td></td>       <td></td>   \n",
       "</tr>\n",
       "<tr>\n",
       "  <th>Intercept RE x party[T.Republican] RE</th> <td>-0.005</td>   <td>0.019</td>     <td></td>      <td></td>       <td></td>       <td></td>   \n",
       "</tr>\n",
       "<tr>\n",
       "  <th>party[T.Republican] RE</th>                 <td>0.005</td>   <td>0.021</td>     <td></td>      <td></td>       <td></td>       <td></td>   \n",
       "</tr>\n",
       "</table>"
      ],
      "text/plain": [
       "<class 'statsmodels.iolib.summary2.Summary'>\n",
       "\"\"\"\n",
       "                     Mixed Linear Model Regression Results\n",
       "================================================================================\n",
       "Model:                      MixedLM         Dependent Variable:         votepct \n",
       "No. Observations:           527             Method:                     REML    \n",
       "No. Groups:                 50              Scale:                      0.0272  \n",
       "Min. group size:            2               Likelihood:                 143.3753\n",
       "Max. group size:            55              Converged:                  Yes     \n",
       "Mean group size:            10.5                                                \n",
       "--------------------------------------------------------------------------------\n",
       "                                      Coef.  Std.Err.   z    P>|z| [0.025 0.975]\n",
       "--------------------------------------------------------------------------------\n",
       "Intercept                              0.186    0.021  8.926 0.000  0.145  0.227\n",
       "party[T.Republican]                    0.516    0.022 23.685 0.000  0.473  0.558\n",
       "money                                  0.004    0.000  8.040 0.000  0.003  0.005\n",
       "acres                                  0.002    0.000  3.905 0.000  0.001  0.003\n",
       "party[T.Republican]:acres             -0.002    0.000 -3.647 0.000 -0.003 -0.001\n",
       "Intercept RE                           0.010    0.023                           \n",
       "Intercept RE x party[T.Republican] RE -0.005    0.019                           \n",
       "party[T.Republican] RE                 0.005    0.021                           \n",
       "================================================================================\n",
       "\n",
       "\"\"\""
      ]
     },
     "execution_count": 65,
     "metadata": {},
     "output_type": "execute_result"
    }
   ],
   "source": [
    "model5.summary()"
   ]
  },
  {
   "cell_type": "markdown",
   "metadata": {},
   "source": [
    "# 6_1 модель (с использованием grand-mean для переменной индивидуального уровня `money`)"
   ]
  },
  {
   "cell_type": "markdown",
   "metadata": {},
   "source": [
    "Рассмотрим модель с включением преобразованной переменной индивидуального уровня. Для этого создадим новую переменную посредством вычитания из каждого значения предиктора `money` среднее значение данной переменной для всех штатов в базе."
   ]
  },
  {
   "cell_type": "code",
   "execution_count": 66,
   "metadata": {},
   "outputs": [],
   "source": [
    "mean = multilevel['money'].mean()\n",
    "multilevel['money_minus_grand_mean'] = multilevel['money'].map(lambda x: x-mean)"
   ]
  },
  {
   "cell_type": "code",
   "execution_count": 67,
   "metadata": {},
   "outputs": [
    {
     "name": "stderr",
     "output_type": "stream",
     "text": [
      "C:\\Users\\Alii\\Anaconda3\\lib\\site-packages\\statsmodels\\regression\\mixed_linear_model.py:2019: ConvergenceWarning: The MLE may be on the boundary of the parameter space.\n",
      "  warnings.warn(msg, ConvergenceWarning)\n"
     ]
    }
   ],
   "source": [
    "model6_1 = smf.mixedlm(\"votepct ~ money_minus_grand_mean + party + acres + money_minus_grand_mean*acres\",\n",
    "                     data=multilevel, \n",
    "                     groups=multilevel[\"state\"]\n",
    "                      ).fit()"
   ]
  },
  {
   "cell_type": "code",
   "execution_count": 68,
   "metadata": {},
   "outputs": [
    {
     "data": {
      "text/html": [
       "<table class=\"simpletable\">\n",
       "<tr>\n",
       "       <td>Model:</td>       <td>MixedLM</td> <td>Dependent Variable:</td>  <td>votepct</td>\n",
       "</tr>\n",
       "<tr>\n",
       "  <td>No. Observations:</td>   <td>527</td>         <td>Method:</td>         <td>REML</td>  \n",
       "</tr>\n",
       "<tr>\n",
       "     <td>No. Groups:</td>      <td>50</td>          <td>Scale:</td>         <td>0.0289</td> \n",
       "</tr>\n",
       "<tr>\n",
       "  <td>Min. group size:</td>     <td>2</td>        <td>Likelihood:</td>     <td>133.2918</td>\n",
       "</tr>\n",
       "<tr>\n",
       "  <td>Max. group size:</td>    <td>55</td>        <td>Converged:</td>         <td>Yes</td>  \n",
       "</tr>\n",
       "<tr>\n",
       "  <td>Mean group size:</td>   <td>10.5</td>            <td></td>               <td></td>    \n",
       "</tr>\n",
       "</table>\n",
       "<table class=\"simpletable\">\n",
       "<tr>\n",
       "                <td></td>                <th>Coef.</th> <th>Std.Err.</th>    <th>z</th>   <th>P>|z|</th> <th>[0.025</th> <th>0.975]</th>\n",
       "</tr>\n",
       "<tr>\n",
       "  <th>Intercept</th>                     <td>0.248</td>   <td>0.017</td>  <td>14.663</td> <td>0.000</td>  <td>0.215</td>  <td>0.282</td>\n",
       "</tr>\n",
       "<tr>\n",
       "  <th>party[T.Republican]</th>           <td>0.491</td>   <td>0.016</td>  <td>30.410</td> <td>0.000</td>  <td>0.459</td>  <td>0.523</td>\n",
       "</tr>\n",
       "<tr>\n",
       "  <th>money_minus_grand_mean</th>        <td>0.005</td>   <td>0.001</td>   <td>9.048</td> <td>0.000</td>  <td>0.004</td>  <td>0.006</td>\n",
       "</tr>\n",
       "<tr>\n",
       "  <th>acres</th>                         <td>0.001</td>   <td>0.000</td>   <td>3.745</td> <td>0.000</td>  <td>0.001</td>  <td>0.002</td>\n",
       "</tr>\n",
       "<tr>\n",
       "  <th>money_minus_grand_mean:acres</th> <td>-0.000</td>   <td>0.000</td>  <td>-3.631</td> <td>0.000</td> <td>-0.000</td> <td>-0.000</td>\n",
       "</tr>\n",
       "<tr>\n",
       "  <th>groups RE</th>                     <td>0.005</td>   <td>0.012</td>     <td></td>      <td></td>       <td></td>       <td></td>   \n",
       "</tr>\n",
       "</table>"
      ],
      "text/plain": [
       "<class 'statsmodels.iolib.summary2.Summary'>\n",
       "\"\"\"\n",
       "                 Mixed Linear Model Regression Results\n",
       "=======================================================================\n",
       "Model:                   MixedLM      Dependent Variable:      votepct \n",
       "No. Observations:        527          Method:                  REML    \n",
       "No. Groups:              50           Scale:                   0.0289  \n",
       "Min. group size:         2            Likelihood:              133.2918\n",
       "Max. group size:         55           Converged:               Yes     \n",
       "Mean group size:         10.5                                          \n",
       "-----------------------------------------------------------------------\n",
       "                             Coef.  Std.Err.   z    P>|z| [0.025 0.975]\n",
       "-----------------------------------------------------------------------\n",
       "Intercept                     0.248    0.017 14.663 0.000  0.215  0.282\n",
       "party[T.Republican]           0.491    0.016 30.410 0.000  0.459  0.523\n",
       "money_minus_grand_mean        0.005    0.001  9.048 0.000  0.004  0.006\n",
       "acres                         0.001    0.000  3.745 0.000  0.001  0.002\n",
       "money_minus_grand_mean:acres -0.000    0.000 -3.631 0.000 -0.000 -0.000\n",
       "groups RE                     0.005    0.012                           \n",
       "=======================================================================\n",
       "\n",
       "\"\"\""
      ]
     },
     "execution_count": 68,
     "metadata": {},
     "output_type": "execute_result"
    }
   ],
   "source": [
    "model6_1.summary()"
   ]
  },
  {
   "cell_type": "markdown",
   "metadata": {},
   "source": [
    "# 6_2 модель (с использованием group-mean для переменной индивидуального уровня `money`)"
   ]
  },
  {
   "cell_type": "markdown",
   "metadata": {},
   "source": [
    "Рассмотрим модель с включением преобразованной переменной индивидуального уровня. Для этого создадим новую переменную посредством вычитания из каждого значения предиктора `money` среднее значение данной переменной по каждому штату."
   ]
  },
  {
   "cell_type": "code",
   "execution_count": 69,
   "metadata": {},
   "outputs": [],
   "source": [
    "multilevel['money_minus_group_mean'] = multilevel['money'] - \\\n",
    "                            multilevel.groupby(['state'])['money'].transform('mean')"
   ]
  },
  {
   "cell_type": "code",
   "execution_count": 70,
   "metadata": {},
   "outputs": [],
   "source": [
    "model6_2 = smf.mixedlm(\"votepct ~ money_minus_group_mean + party + acres + money_minus_group_mean*acres\",\n",
    "                     data=multilevel, \n",
    "                     groups=multilevel[\"state\"]\n",
    "                      ).fit()"
   ]
  },
  {
   "cell_type": "code",
   "execution_count": 71,
   "metadata": {},
   "outputs": [
    {
     "data": {
      "text/html": [
       "<table class=\"simpletable\">\n",
       "<tr>\n",
       "       <td>Model:</td>       <td>MixedLM</td> <td>Dependent Variable:</td>  <td>votepct</td>\n",
       "</tr>\n",
       "<tr>\n",
       "  <td>No. Observations:</td>   <td>527</td>         <td>Method:</td>         <td>REML</td>  \n",
       "</tr>\n",
       "<tr>\n",
       "     <td>No. Groups:</td>      <td>50</td>          <td>Scale:</td>         <td>0.0288</td> \n",
       "</tr>\n",
       "<tr>\n",
       "  <td>Min. group size:</td>     <td>2</td>        <td>Likelihood:</td>     <td>124.3624</td>\n",
       "</tr>\n",
       "<tr>\n",
       "  <td>Max. group size:</td>    <td>55</td>        <td>Converged:</td>         <td>Yes</td>  \n",
       "</tr>\n",
       "<tr>\n",
       "  <td>Mean group size:</td>   <td>10.5</td>            <td></td>               <td></td>    \n",
       "</tr>\n",
       "</table>\n",
       "<table class=\"simpletable\">\n",
       "<tr>\n",
       "                <td></td>                <th>Coef.</th> <th>Std.Err.</th>    <th>z</th>   <th>P>|z|</th> <th>[0.025</th> <th>0.975]</th>\n",
       "</tr>\n",
       "<tr>\n",
       "  <th>Intercept</th>                     <td>0.235</td>   <td>0.020</td>  <td>11.893</td> <td>0.000</td>  <td>0.196</td>  <td>0.274</td>\n",
       "</tr>\n",
       "<tr>\n",
       "  <th>party[T.Republican]</th>           <td>0.494</td>   <td>0.016</td>  <td>30.250</td> <td>0.000</td>  <td>0.462</td>  <td>0.526</td>\n",
       "</tr>\n",
       "<tr>\n",
       "  <th>money_minus_group_mean</th>        <td>0.005</td>   <td>0.001</td>   <td>7.889</td> <td>0.000</td>  <td>0.003</td>  <td>0.006</td>\n",
       "</tr>\n",
       "<tr>\n",
       "  <th>acres</th>                         <td>0.002</td>   <td>0.000</td>   <td>4.177</td> <td>0.000</td>  <td>0.001</td>  <td>0.002</td>\n",
       "</tr>\n",
       "<tr>\n",
       "  <th>money_minus_group_mean:acres</th> <td>-0.000</td>   <td>0.000</td>  <td>-2.985</td> <td>0.003</td> <td>-0.000</td> <td>-0.000</td>\n",
       "</tr>\n",
       "<tr>\n",
       "  <th>groups RE</th>                     <td>0.010</td>   <td>0.018</td>     <td></td>      <td></td>       <td></td>       <td></td>   \n",
       "</tr>\n",
       "</table>"
      ],
      "text/plain": [
       "<class 'statsmodels.iolib.summary2.Summary'>\n",
       "\"\"\"\n",
       "                 Mixed Linear Model Regression Results\n",
       "=======================================================================\n",
       "Model:                   MixedLM      Dependent Variable:      votepct \n",
       "No. Observations:        527          Method:                  REML    \n",
       "No. Groups:              50           Scale:                   0.0288  \n",
       "Min. group size:         2            Likelihood:              124.3624\n",
       "Max. group size:         55           Converged:               Yes     \n",
       "Mean group size:         10.5                                          \n",
       "-----------------------------------------------------------------------\n",
       "                             Coef.  Std.Err.   z    P>|z| [0.025 0.975]\n",
       "-----------------------------------------------------------------------\n",
       "Intercept                     0.235    0.020 11.893 0.000  0.196  0.274\n",
       "party[T.Republican]           0.494    0.016 30.250 0.000  0.462  0.526\n",
       "money_minus_group_mean        0.005    0.001  7.889 0.000  0.003  0.006\n",
       "acres                         0.002    0.000  4.177 0.000  0.001  0.002\n",
       "money_minus_group_mean:acres -0.000    0.000 -2.985 0.003 -0.000 -0.000\n",
       "groups RE                     0.010    0.018                           \n",
       "=======================================================================\n",
       "\n",
       "\"\"\""
      ]
     },
     "execution_count": 71,
     "metadata": {},
     "output_type": "execute_result"
    }
   ],
   "source": [
    "model6_2.summary()"
   ]
  },
  {
   "cell_type": "markdown",
   "metadata": {},
   "source": [
    "# 6_3 модель (без центрирования)"
   ]
  },
  {
   "cell_type": "code",
   "execution_count": 72,
   "metadata": {},
   "outputs": [
    {
     "name": "stderr",
     "output_type": "stream",
     "text": [
      "C:\\Users\\Alii\\Anaconda3\\lib\\site-packages\\statsmodels\\regression\\mixed_linear_model.py:2019: ConvergenceWarning: The MLE may be on the boundary of the parameter space.\n",
      "  warnings.warn(msg, ConvergenceWarning)\n"
     ]
    }
   ],
   "source": [
    "model6_3 = smf.mixedlm(\"votepct ~ money + party + acres + money*acres\",\n",
    "                     data=multilevel, \n",
    "                     groups=multilevel[\"state\"]\n",
    "                      ).fit()"
   ]
  },
  {
   "cell_type": "code",
   "execution_count": 73,
   "metadata": {},
   "outputs": [
    {
     "data": {
      "text/html": [
       "<table class=\"simpletable\">\n",
       "<tr>\n",
       "       <td>Model:</td>       <td>MixedLM</td> <td>Dependent Variable:</td>  <td>votepct</td>\n",
       "</tr>\n",
       "<tr>\n",
       "  <td>No. Observations:</td>   <td>527</td>         <td>Method:</td>         <td>REML</td>  \n",
       "</tr>\n",
       "<tr>\n",
       "     <td>No. Groups:</td>      <td>50</td>          <td>Scale:</td>         <td>0.0289</td> \n",
       "</tr>\n",
       "<tr>\n",
       "  <td>Min. group size:</td>     <td>2</td>        <td>Likelihood:</td>     <td>133.2918</td>\n",
       "</tr>\n",
       "<tr>\n",
       "  <td>Max. group size:</td>    <td>55</td>        <td>Converged:</td>         <td>Yes</td>  \n",
       "</tr>\n",
       "<tr>\n",
       "  <td>Mean group size:</td>   <td>10.5</td>            <td></td>               <td></td>    \n",
       "</tr>\n",
       "</table>\n",
       "<table class=\"simpletable\">\n",
       "<tr>\n",
       "           <td></td>            <th>Coef.</th> <th>Std.Err.</th>    <th>z</th>   <th>P>|z|</th> <th>[0.025</th> <th>0.975]</th>\n",
       "</tr>\n",
       "<tr>\n",
       "  <th>Intercept</th>            <td>0.182</td>   <td>0.017</td>  <td>10.523</td> <td>0.000</td>  <td>0.148</td>  <td>0.215</td>\n",
       "</tr>\n",
       "<tr>\n",
       "  <th>party[T.Republican]</th>  <td>0.491</td>   <td>0.016</td>  <td>30.410</td> <td>0.000</td>  <td>0.459</td>  <td>0.523</td>\n",
       "</tr>\n",
       "<tr>\n",
       "  <th>money</th>                <td>0.005</td>   <td>0.001</td>   <td>9.048</td> <td>0.000</td>  <td>0.004</td>  <td>0.006</td>\n",
       "</tr>\n",
       "<tr>\n",
       "  <th>acres</th>                <td>0.002</td>   <td>0.000</td>   <td>3.998</td> <td>0.000</td>  <td>0.001</td>  <td>0.003</td>\n",
       "</tr>\n",
       "<tr>\n",
       "  <th>money:acres</th>         <td>-0.000</td>   <td>0.000</td>  <td>-3.631</td> <td>0.000</td> <td>-0.000</td> <td>-0.000</td>\n",
       "</tr>\n",
       "<tr>\n",
       "  <th>groups RE</th>            <td>0.005</td>   <td>0.012</td>     <td></td>      <td></td>       <td></td>       <td></td>   \n",
       "</tr>\n",
       "</table>"
      ],
      "text/plain": [
       "<class 'statsmodels.iolib.summary2.Summary'>\n",
       "\"\"\"\n",
       "            Mixed Linear Model Regression Results\n",
       "==============================================================\n",
       "Model:                MixedLM   Dependent Variable:   votepct \n",
       "No. Observations:     527       Method:               REML    \n",
       "No. Groups:           50        Scale:                0.0289  \n",
       "Min. group size:      2         Likelihood:           133.2918\n",
       "Max. group size:      55        Converged:            Yes     \n",
       "Mean group size:      10.5                                    \n",
       "--------------------------------------------------------------\n",
       "                    Coef.  Std.Err.   z    P>|z| [0.025 0.975]\n",
       "--------------------------------------------------------------\n",
       "Intercept            0.182    0.017 10.523 0.000  0.148  0.215\n",
       "party[T.Republican]  0.491    0.016 30.410 0.000  0.459  0.523\n",
       "money                0.005    0.001  9.048 0.000  0.004  0.006\n",
       "acres                0.002    0.000  3.998 0.000  0.001  0.003\n",
       "money:acres         -0.000    0.000 -3.631 0.000 -0.000 -0.000\n",
       "groups RE            0.005    0.012                           \n",
       "==============================================================\n",
       "\n",
       "\"\"\""
      ]
     },
     "execution_count": 73,
     "metadata": {},
     "output_type": "execute_result"
    }
   ],
   "source": [
    "model6_3.summary()"
   ]
  },
  {
   "cell_type": "markdown",
   "metadata": {},
   "source": [
    "Сравним случайные эффекты на константу для моделей с разными типами центрирования и без центрирования."
   ]
  },
  {
   "cell_type": "code",
   "execution_count": 74,
   "metadata": {},
   "outputs": [],
   "source": [
    "random_eff_const6_1 = get_const_random_effects(model6_1)\n",
    "random_eff_const6_2 = get_const_random_effects(model6_2)\n",
    "random_eff_const6_3 = get_const_random_effects(model6_3)"
   ]
  },
  {
   "cell_type": "code",
   "execution_count": 75,
   "metadata": {},
   "outputs": [
    {
     "data": {
      "text/html": [
       "<div>\n",
       "<style scoped>\n",
       "    .dataframe tbody tr th:only-of-type {\n",
       "        vertical-align: middle;\n",
       "    }\n",
       "\n",
       "    .dataframe tbody tr th {\n",
       "        vertical-align: top;\n",
       "    }\n",
       "\n",
       "    .dataframe thead th {\n",
       "        text-align: right;\n",
       "    }\n",
       "</style>\n",
       "<table border=\"1\" class=\"dataframe\">\n",
       "  <thead>\n",
       "    <tr style=\"text-align: right;\">\n",
       "      <th></th>\n",
       "      <th>6_1</th>\n",
       "      <th>6_2</th>\n",
       "      <th>6_3</th>\n",
       "    </tr>\n",
       "  </thead>\n",
       "  <tbody>\n",
       "    <tr>\n",
       "      <th>0</th>\n",
       "      <td>0.008747</td>\n",
       "      <td>0.012536</td>\n",
       "      <td>0.008747</td>\n",
       "    </tr>\n",
       "    <tr>\n",
       "      <th>1</th>\n",
       "      <td>0.102652</td>\n",
       "      <td>0.149483</td>\n",
       "      <td>0.102652</td>\n",
       "    </tr>\n",
       "    <tr>\n",
       "      <th>2</th>\n",
       "      <td>0.070391</td>\n",
       "      <td>0.074404</td>\n",
       "      <td>0.070391</td>\n",
       "    </tr>\n",
       "    <tr>\n",
       "      <th>3</th>\n",
       "      <td>0.007890</td>\n",
       "      <td>0.005555</td>\n",
       "      <td>0.007890</td>\n",
       "    </tr>\n",
       "    <tr>\n",
       "      <th>4</th>\n",
       "      <td>0.010274</td>\n",
       "      <td>-0.007433</td>\n",
       "      <td>0.010274</td>\n",
       "    </tr>\n",
       "    <tr>\n",
       "      <th>5</th>\n",
       "      <td>0.045436</td>\n",
       "      <td>0.058527</td>\n",
       "      <td>0.045436</td>\n",
       "    </tr>\n",
       "    <tr>\n",
       "      <th>6</th>\n",
       "      <td>-0.101441</td>\n",
       "      <td>-0.146975</td>\n",
       "      <td>-0.101441</td>\n",
       "    </tr>\n",
       "    <tr>\n",
       "      <th>7</th>\n",
       "      <td>-0.077845</td>\n",
       "      <td>-0.100095</td>\n",
       "      <td>-0.077845</td>\n",
       "    </tr>\n",
       "    <tr>\n",
       "      <th>8</th>\n",
       "      <td>0.003960</td>\n",
       "      <td>0.010194</td>\n",
       "      <td>0.003960</td>\n",
       "    </tr>\n",
       "    <tr>\n",
       "      <th>9</th>\n",
       "      <td>-0.009627</td>\n",
       "      <td>0.067247</td>\n",
       "      <td>-0.009627</td>\n",
       "    </tr>\n",
       "    <tr>\n",
       "      <th>10</th>\n",
       "      <td>0.003579</td>\n",
       "      <td>-0.013810</td>\n",
       "      <td>0.003579</td>\n",
       "    </tr>\n",
       "    <tr>\n",
       "      <th>11</th>\n",
       "      <td>-0.051718</td>\n",
       "      <td>-0.050846</td>\n",
       "      <td>-0.051718</td>\n",
       "    </tr>\n",
       "    <tr>\n",
       "      <th>12</th>\n",
       "      <td>0.040079</td>\n",
       "      <td>0.069565</td>\n",
       "      <td>0.040079</td>\n",
       "    </tr>\n",
       "    <tr>\n",
       "      <th>13</th>\n",
       "      <td>0.022822</td>\n",
       "      <td>0.015847</td>\n",
       "      <td>0.022822</td>\n",
       "    </tr>\n",
       "    <tr>\n",
       "      <th>14</th>\n",
       "      <td>0.081306</td>\n",
       "      <td>0.096855</td>\n",
       "      <td>0.081306</td>\n",
       "    </tr>\n",
       "    <tr>\n",
       "      <th>15</th>\n",
       "      <td>0.046988</td>\n",
       "      <td>0.050581</td>\n",
       "      <td>0.046988</td>\n",
       "    </tr>\n",
       "    <tr>\n",
       "      <th>16</th>\n",
       "      <td>-0.009441</td>\n",
       "      <td>-0.042446</td>\n",
       "      <td>-0.009441</td>\n",
       "    </tr>\n",
       "    <tr>\n",
       "      <th>17</th>\n",
       "      <td>0.090150</td>\n",
       "      <td>0.142665</td>\n",
       "      <td>0.090150</td>\n",
       "    </tr>\n",
       "    <tr>\n",
       "      <th>18</th>\n",
       "      <td>-0.106521</td>\n",
       "      <td>-0.167619</td>\n",
       "      <td>-0.106521</td>\n",
       "    </tr>\n",
       "    <tr>\n",
       "      <th>19</th>\n",
       "      <td>-0.064918</td>\n",
       "      <td>-0.097027</td>\n",
       "      <td>-0.064918</td>\n",
       "    </tr>\n",
       "    <tr>\n",
       "      <th>20</th>\n",
       "      <td>-0.070996</td>\n",
       "      <td>-0.121041</td>\n",
       "      <td>-0.070996</td>\n",
       "    </tr>\n",
       "    <tr>\n",
       "      <th>21</th>\n",
       "      <td>-0.030374</td>\n",
       "      <td>-0.042780</td>\n",
       "      <td>-0.030374</td>\n",
       "    </tr>\n",
       "    <tr>\n",
       "      <th>22</th>\n",
       "      <td>-0.005779</td>\n",
       "      <td>-0.001531</td>\n",
       "      <td>-0.005779</td>\n",
       "    </tr>\n",
       "    <tr>\n",
       "      <th>23</th>\n",
       "      <td>0.088154</td>\n",
       "      <td>0.113006</td>\n",
       "      <td>0.088154</td>\n",
       "    </tr>\n",
       "    <tr>\n",
       "      <th>24</th>\n",
       "      <td>0.097951</td>\n",
       "      <td>0.140293</td>\n",
       "      <td>0.097951</td>\n",
       "    </tr>\n",
       "    <tr>\n",
       "      <th>25</th>\n",
       "      <td>-0.035092</td>\n",
       "      <td>0.000731</td>\n",
       "      <td>-0.035092</td>\n",
       "    </tr>\n",
       "    <tr>\n",
       "      <th>26</th>\n",
       "      <td>-0.006915</td>\n",
       "      <td>-0.026821</td>\n",
       "      <td>-0.006915</td>\n",
       "    </tr>\n",
       "    <tr>\n",
       "      <th>27</th>\n",
       "      <td>-0.027738</td>\n",
       "      <td>-0.042873</td>\n",
       "      <td>-0.027738</td>\n",
       "    </tr>\n",
       "    <tr>\n",
       "      <th>28</th>\n",
       "      <td>-0.020439</td>\n",
       "      <td>-0.020673</td>\n",
       "      <td>-0.020439</td>\n",
       "    </tr>\n",
       "    <tr>\n",
       "      <th>29</th>\n",
       "      <td>0.010287</td>\n",
       "      <td>0.025458</td>\n",
       "      <td>0.010287</td>\n",
       "    </tr>\n",
       "    <tr>\n",
       "      <th>30</th>\n",
       "      <td>-0.055650</td>\n",
       "      <td>-0.095378</td>\n",
       "      <td>-0.055650</td>\n",
       "    </tr>\n",
       "    <tr>\n",
       "      <th>31</th>\n",
       "      <td>0.026668</td>\n",
       "      <td>0.012900</td>\n",
       "      <td>0.026668</td>\n",
       "    </tr>\n",
       "    <tr>\n",
       "      <th>32</th>\n",
       "      <td>-0.026416</td>\n",
       "      <td>-0.047768</td>\n",
       "      <td>-0.026416</td>\n",
       "    </tr>\n",
       "    <tr>\n",
       "      <th>33</th>\n",
       "      <td>-0.064480</td>\n",
       "      <td>-0.082497</td>\n",
       "      <td>-0.064480</td>\n",
       "    </tr>\n",
       "    <tr>\n",
       "      <th>34</th>\n",
       "      <td>-0.055843</td>\n",
       "      <td>-0.052894</td>\n",
       "      <td>-0.055843</td>\n",
       "    </tr>\n",
       "    <tr>\n",
       "      <th>35</th>\n",
       "      <td>0.069753</td>\n",
       "      <td>0.090482</td>\n",
       "      <td>0.069753</td>\n",
       "    </tr>\n",
       "    <tr>\n",
       "      <th>36</th>\n",
       "      <td>0.000315</td>\n",
       "      <td>-0.037969</td>\n",
       "      <td>0.000315</td>\n",
       "    </tr>\n",
       "    <tr>\n",
       "      <th>37</th>\n",
       "      <td>-0.027818</td>\n",
       "      <td>-0.032886</td>\n",
       "      <td>-0.027818</td>\n",
       "    </tr>\n",
       "    <tr>\n",
       "      <th>38</th>\n",
       "      <td>-0.081334</td>\n",
       "      <td>-0.139581</td>\n",
       "      <td>-0.081334</td>\n",
       "    </tr>\n",
       "    <tr>\n",
       "      <th>39</th>\n",
       "      <td>0.075147</td>\n",
       "      <td>0.130236</td>\n",
       "      <td>0.075147</td>\n",
       "    </tr>\n",
       "    <tr>\n",
       "      <th>40</th>\n",
       "      <td>-0.035137</td>\n",
       "      <td>-0.063029</td>\n",
       "      <td>-0.035137</td>\n",
       "    </tr>\n",
       "    <tr>\n",
       "      <th>41</th>\n",
       "      <td>0.001254</td>\n",
       "      <td>0.060475</td>\n",
       "      <td>0.001254</td>\n",
       "    </tr>\n",
       "    <tr>\n",
       "      <th>42</th>\n",
       "      <td>0.099016</td>\n",
       "      <td>0.125764</td>\n",
       "      <td>0.099016</td>\n",
       "    </tr>\n",
       "    <tr>\n",
       "      <th>43</th>\n",
       "      <td>-0.051482</td>\n",
       "      <td>-0.088541</td>\n",
       "      <td>-0.051482</td>\n",
       "    </tr>\n",
       "    <tr>\n",
       "      <th>44</th>\n",
       "      <td>0.038017</td>\n",
       "      <td>0.117325</td>\n",
       "      <td>0.038017</td>\n",
       "    </tr>\n",
       "    <tr>\n",
       "      <th>45</th>\n",
       "      <td>-0.057812</td>\n",
       "      <td>-0.108205</td>\n",
       "      <td>-0.057812</td>\n",
       "    </tr>\n",
       "    <tr>\n",
       "      <th>46</th>\n",
       "      <td>-0.036599</td>\n",
       "      <td>-0.064753</td>\n",
       "      <td>-0.036599</td>\n",
       "    </tr>\n",
       "    <tr>\n",
       "      <th>47</th>\n",
       "      <td>-0.013364</td>\n",
       "      <td>-0.021670</td>\n",
       "      <td>-0.013364</td>\n",
       "    </tr>\n",
       "    <tr>\n",
       "      <th>48</th>\n",
       "      <td>0.045129</td>\n",
       "      <td>0.061677</td>\n",
       "      <td>0.045129</td>\n",
       "    </tr>\n",
       "    <tr>\n",
       "      <th>49</th>\n",
       "      <td>0.038813</td>\n",
       "      <td>0.085339</td>\n",
       "      <td>0.038813</td>\n",
       "    </tr>\n",
       "  </tbody>\n",
       "</table>\n",
       "</div>"
      ],
      "text/plain": [
       "         6_1       6_2       6_3\n",
       "0   0.008747  0.012536  0.008747\n",
       "1   0.102652  0.149483  0.102652\n",
       "2   0.070391  0.074404  0.070391\n",
       "3   0.007890  0.005555  0.007890\n",
       "4   0.010274 -0.007433  0.010274\n",
       "5   0.045436  0.058527  0.045436\n",
       "6  -0.101441 -0.146975 -0.101441\n",
       "7  -0.077845 -0.100095 -0.077845\n",
       "8   0.003960  0.010194  0.003960\n",
       "9  -0.009627  0.067247 -0.009627\n",
       "10  0.003579 -0.013810  0.003579\n",
       "11 -0.051718 -0.050846 -0.051718\n",
       "12  0.040079  0.069565  0.040079\n",
       "13  0.022822  0.015847  0.022822\n",
       "14  0.081306  0.096855  0.081306\n",
       "15  0.046988  0.050581  0.046988\n",
       "16 -0.009441 -0.042446 -0.009441\n",
       "17  0.090150  0.142665  0.090150\n",
       "18 -0.106521 -0.167619 -0.106521\n",
       "19 -0.064918 -0.097027 -0.064918\n",
       "20 -0.070996 -0.121041 -0.070996\n",
       "21 -0.030374 -0.042780 -0.030374\n",
       "22 -0.005779 -0.001531 -0.005779\n",
       "23  0.088154  0.113006  0.088154\n",
       "24  0.097951  0.140293  0.097951\n",
       "25 -0.035092  0.000731 -0.035092\n",
       "26 -0.006915 -0.026821 -0.006915\n",
       "27 -0.027738 -0.042873 -0.027738\n",
       "28 -0.020439 -0.020673 -0.020439\n",
       "29  0.010287  0.025458  0.010287\n",
       "30 -0.055650 -0.095378 -0.055650\n",
       "31  0.026668  0.012900  0.026668\n",
       "32 -0.026416 -0.047768 -0.026416\n",
       "33 -0.064480 -0.082497 -0.064480\n",
       "34 -0.055843 -0.052894 -0.055843\n",
       "35  0.069753  0.090482  0.069753\n",
       "36  0.000315 -0.037969  0.000315\n",
       "37 -0.027818 -0.032886 -0.027818\n",
       "38 -0.081334 -0.139581 -0.081334\n",
       "39  0.075147  0.130236  0.075147\n",
       "40 -0.035137 -0.063029 -0.035137\n",
       "41  0.001254  0.060475  0.001254\n",
       "42  0.099016  0.125764  0.099016\n",
       "43 -0.051482 -0.088541 -0.051482\n",
       "44  0.038017  0.117325  0.038017\n",
       "45 -0.057812 -0.108205 -0.057812\n",
       "46 -0.036599 -0.064753 -0.036599\n",
       "47 -0.013364 -0.021670 -0.013364\n",
       "48  0.045129  0.061677  0.045129\n",
       "49  0.038813  0.085339  0.038813"
      ]
     },
     "execution_count": 75,
     "metadata": {},
     "output_type": "execute_result"
    }
   ],
   "source": [
    "pd.DataFrame({'6_1': random_eff_const6_1,\n",
    "              '6_2': random_eff_const6_2,\n",
    "              '6_3': random_eff_const6_3})"
   ]
  },
  {
   "cell_type": "markdown",
   "metadata": {},
   "source": [
    "Визуализация случайных эффектов на константу"
   ]
  },
  {
   "cell_type": "code",
   "execution_count": 76,
   "metadata": {},
   "outputs": [],
   "source": [
    "sqrt_cov_const6_3 = calc_sqrt_cov_const_random_effects(model6_3)\n",
    "random_eff_const6_3 = get_const_random_effects(model6_3)"
   ]
  },
  {
   "cell_type": "code",
   "execution_count": 77,
   "metadata": {},
   "outputs": [],
   "source": [
    "dt_for_graph6_3 = pd.DataFrame({'random_eff_const':random_eff_const6_3, 'states':states, \n",
    "                             'sqrt_cov_const': sqrt_cov_const6_3}\n",
    "                           ).sort_values(by='random_eff_const',\n",
    "                                         ascending=False\n",
    "                                        )"
   ]
  },
  {
   "cell_type": "code",
   "execution_count": 78,
   "metadata": {},
   "outputs": [],
   "source": [
    "values6_3 = dt_for_graph6_3.set_index('states')"
   ]
  },
  {
   "cell_type": "code",
   "execution_count": 79,
   "metadata": {},
   "outputs": [
    {
     "data": {
      "text/plain": [
       "<Container object of 3 artists>"
      ]
     },
     "execution_count": 79,
     "metadata": {},
     "output_type": "execute_result"
    },
    {
     "data": {
      "image/png": "[encoded data removed]",
      "text/plain": [
       "<matplotlib.figure.Figure at 0x1ce2dd498d0>"
      ]
     },
     "metadata": {},
     "output_type": "display_data"
    }
   ],
   "source": [
    "plt.errorbar(values6_3.index, values6_3.random_eff_const, \n",
    "             yerr=2*values6_3.sqrt_cov_const, \n",
    "             animated = True, color ='purple', fmt='o'\n",
    "            )"
   ]
  }
 ],
 "metadata": {
  "kernelspec": {
   "display_name": "Python 3",
   "language": "python",
   "name": "python3"
  },
  "language_info": {
   "codemirror_mode": {
    "name": "ipython",
    "version": 3
   },
   "file_extension": ".py",
   "mimetype": "text/x-python",
   "name": "python",
   "nbconvert_exporter": "python",
   "pygments_lexer": "ipython3",
   "version": "3.6.4"
  }
 },
 "nbformat": 4,
 "nbformat_minor": 2
}
